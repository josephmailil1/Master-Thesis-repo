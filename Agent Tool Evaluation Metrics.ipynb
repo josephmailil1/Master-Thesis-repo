{
  "nbformat": 4,
  "nbformat_minor": 0,
  "metadata": {
    "colab": {
      "provenance": [],
      "gpuType": "T4",
      "include_colab_link": true
    },
    "kernelspec": {
      "name": "python3",
      "display_name": "Python 3"
    },
    "language_info": {
      "name": "python"
    },
    "accelerator": "GPU"
  },
  "cells": [
    {
      "cell_type": "markdown",
      "metadata": {
        "id": "view-in-github",
        "colab_type": "text"
      },
      "source": [
        "<a href=\"https://colab.research.google.com/github/josephmailil1/Speciale---Stibo/blob/main/Agent%20Tool%20Evaluation%20Metrics.ipynb\" target=\"_parent\"><img src=\"https://colab.research.google.com/assets/colab-badge.svg\" alt=\"Open In Colab\"/></a>"
      ]
    },
    {
      "cell_type": "markdown",
      "source": [
        "Installing neassary packages"
      ],
      "metadata": {
        "id": "1-bHD_OEHnPw"
      }
    },
    {
      "cell_type": "code",
      "execution_count": null,
      "metadata": {
        "id": "DKBssQelOeBe",
        "outputId": "ba8305c8-0cd6-43f1-e513-28fdda79dc67",
        "colab": {
          "base_uri": "https://localhost:8080/"
        }
      },
      "outputs": [
        {
          "output_type": "stream",
          "name": "stdout",
          "text": [
            "\u001b[2K     \u001b[90m━━━━━━━━━━━━━━━━━━━━━━━━━━━━━━━━━━━━━━━━\u001b[0m \u001b[32m973.5/973.5 kB\u001b[0m \u001b[31m11.5 MB/s\u001b[0m eta \u001b[36m0:00:00\u001b[0m\n",
            "\u001b[2K     \u001b[90m━━━━━━━━━━━━━━━━━━━━━━━━━━━━━━━━━━━━━━━━\u001b[0m \u001b[32m2.1/2.1 MB\u001b[0m \u001b[31m23.2 MB/s\u001b[0m eta \u001b[36m0:00:00\u001b[0m\n",
            "\u001b[2K     \u001b[90m━━━━━━━━━━━━━━━━━━━━━━━━━━━━━━━━━━━━━━━━\u001b[0m \u001b[32m199.5/199.5 kB\u001b[0m \u001b[31m24.0 MB/s\u001b[0m eta \u001b[36m0:00:00\u001b[0m\n",
            "\u001b[2K     \u001b[90m━━━━━━━━━━━━━━━━━━━━━━━━━━━━━━━━━━━━━━━━\u001b[0m \u001b[32m13.0/13.0 MB\u001b[0m \u001b[31m28.1 MB/s\u001b[0m eta \u001b[36m0:00:00\u001b[0m\n",
            "\u001b[2K     \u001b[90m━━━━━━━━━━━━━━━━━━━━━━━━━━━━━━━━━━━━━━━━\u001b[0m \u001b[32m308.5/308.5 kB\u001b[0m \u001b[31m25.3 MB/s\u001b[0m eta \u001b[36m0:00:00\u001b[0m\n",
            "\u001b[2K     \u001b[90m━━━━━━━━━━━━━━━━━━━━━━━━━━━━━━━━━━━━━━━━\u001b[0m \u001b[32m122.8/122.8 kB\u001b[0m \u001b[31m11.8 MB/s\u001b[0m eta \u001b[36m0:00:00\u001b[0m\n",
            "\u001b[2K     \u001b[90m━━━━━━━━━━━━━━━━━━━━━━━━━━━━━━━━━━━━━━━━\u001b[0m \u001b[32m320.6/320.6 kB\u001b[0m \u001b[31m26.6 MB/s\u001b[0m eta \u001b[36m0:00:00\u001b[0m\n",
            "\u001b[2K     \u001b[90m━━━━━━━━━━━━━━━━━━━━━━━━━━━━━━━━━━━━━━━━\u001b[0m \u001b[32m1.1/1.1 MB\u001b[0m \u001b[31m36.3 MB/s\u001b[0m eta \u001b[36m0:00:00\u001b[0m\n",
            "\u001b[2K     \u001b[90m━━━━━━━━━━━━━━━━━━━━━━━━━━━━━━━━━━━━━━━━\u001b[0m \u001b[32m49.3/49.3 kB\u001b[0m \u001b[31m2.5 MB/s\u001b[0m eta \u001b[36m0:00:00\u001b[0m\n",
            "\u001b[2K     \u001b[90m━━━━━━━━━━━━━━━━━━━━━━━━━━━━━━━━━━━━━━━━\u001b[0m \u001b[32m53.0/53.0 kB\u001b[0m \u001b[31m3.2 MB/s\u001b[0m eta \u001b[36m0:00:00\u001b[0m\n",
            "\u001b[2K     \u001b[90m━━━━━━━━━━━━━━━━━━━━━━━━━━━━━━━━━━━━━━━━\u001b[0m \u001b[32m142.5/142.5 kB\u001b[0m \u001b[31m2.8 MB/s\u001b[0m eta \u001b[36m0:00:00\u001b[0m\n",
            "\u001b[2K     \u001b[90m━━━━━━━━━━━━━━━━━━━━━━━━━━━━━━━━━━━━━━━━\u001b[0m \u001b[32m75.6/75.6 kB\u001b[0m \u001b[31m5.3 MB/s\u001b[0m eta \u001b[36m0:00:00\u001b[0m\n",
            "\u001b[2K     \u001b[90m━━━━━━━━━━━━━━━━━━━━━━━━━━━━━━━━━━━━━━━━\u001b[0m \u001b[32m77.9/77.9 kB\u001b[0m \u001b[31m4.7 MB/s\u001b[0m eta \u001b[36m0:00:00\u001b[0m\n",
            "\u001b[2K     \u001b[90m━━━━━━━━━━━━━━━━━━━━━━━━━━━━━━━━━━━━━━━━\u001b[0m \u001b[32m58.3/58.3 kB\u001b[0m \u001b[31m4.5 MB/s\u001b[0m eta \u001b[36m0:00:00\u001b[0m\n",
            "\u001b[?25h\u001b[31mERROR: pip's dependency resolver does not currently take into account all the packages that are installed. This behaviour is the source of the following dependency conflicts.\n",
            "cudf-cu12 24.4.1 requires pandas<2.2.2dev0,>=2.0, but you have pandas 2.2.2 which is incompatible.\n",
            "google-colab 1.0.0 requires pandas==2.0.3, but you have pandas 2.2.2 which is incompatible.\u001b[0m\u001b[31m\n",
            "\u001b[0m"
          ]
        }
      ],
      "source": [
        "%pip install -qU langchain langchain-openai langchain-community langchain-experimental pandas"
      ]
    },
    {
      "cell_type": "markdown",
      "source": [
        "Storing OpenAI API key"
      ],
      "metadata": {
        "id": "aGlgM-3FHp_f"
      }
    },
    {
      "cell_type": "code",
      "source": [
        "from google.colab import userdata\n",
        "openai_api_key = userdata.get('OpenAI_Key') #use the name of your colab key"
      ],
      "metadata": {
        "id": "y3urI6ZIOqCf"
      },
      "execution_count": null,
      "outputs": []
    },
    {
      "cell_type": "markdown",
      "source": [
        "Importing Pandas for storing data"
      ],
      "metadata": {
        "id": "uq4ZiXSqH3co"
      }
    },
    {
      "cell_type": "code",
      "source": [
        "import pandas as pd"
      ],
      "metadata": {
        "id": "d2FncfW4ah78"
      },
      "execution_count": null,
      "outputs": []
    },
    {
      "cell_type": "markdown",
      "source": [
        "Mouting to drive to access the uploaded csv. files fra shap script"
      ],
      "metadata": {
        "id": "Xo5-GODZH6mf"
      }
    },
    {
      "cell_type": "code",
      "source": [
        "from google.colab import drive\n",
        "drive.mount('/content/drive/')"
      ],
      "metadata": {
        "colab": {
          "base_uri": "https://localhost:8080/"
        },
        "id": "RHzF72Mbaktp",
        "outputId": "676c273c-c8bb-4536-cfba-2d0f34b1d727"
      },
      "execution_count": null,
      "outputs": [
        {
          "output_type": "stream",
          "name": "stdout",
          "text": [
            "Mounted at /content/drive/\n"
          ]
        }
      ]
    },
    {
      "cell_type": "markdown",
      "source": [
        "Setting Child directory to access the files"
      ],
      "metadata": {
        "id": "CfiALsDcH9lQ"
      }
    },
    {
      "cell_type": "code",
      "source": [
        "import os\n",
        "os.chdir(\"/content/drive/My Drive/Speciale\")"
      ],
      "metadata": {
        "id": "GApOVguMal-O"
      },
      "execution_count": null,
      "outputs": []
    },
    {
      "cell_type": "markdown",
      "source": [
        "## Load data"
      ],
      "metadata": {
        "id": "DcclwSqP3y7f"
      }
    },
    {
      "cell_type": "code",
      "source": [
        "shap = pd.read_csv(\"shap_noincome.csv\")\n",
        "data = pd.read_csv(\"basedata.csv\")"
      ],
      "metadata": {
        "id": "ENMu9GOAO4c2"
      },
      "execution_count": null,
      "outputs": []
    },
    {
      "cell_type": "markdown",
      "source": [
        "Loading the LLM"
      ],
      "metadata": {
        "id": "OkXGCbx7IA00"
      }
    },
    {
      "cell_type": "code",
      "source": [
        "from langchain_openai import ChatOpenAI\n",
        "\n",
        "llm = ChatOpenAI(model=\"gpt-4-turbo\", temperature=0, openai_api_key=openai_api_key)"
      ],
      "metadata": {
        "id": "_unAK9uuPT1U"
      },
      "execution_count": null,
      "outputs": []
    },
    {
      "cell_type": "code",
      "source": [
        "from langchain_experimental.tools import PythonAstREPLTool"
      ],
      "metadata": {
        "id": "XYFK3Ux7Pz-_"
      },
      "execution_count": null,
      "outputs": []
    },
    {
      "cell_type": "markdown",
      "source": [
        "Loading the PythonREPLtool"
      ],
      "metadata": {
        "id": "4k8boz-wIEYg"
      }
    },
    {
      "cell_type": "code",
      "source": [
        "tools = [PythonAstREPLTool(locals={\"data\": data, \"shap\": shap})]"
      ],
      "metadata": {
        "id": "fq-Xbo28Qm9X"
      },
      "execution_count": null,
      "outputs": []
    },
    {
      "cell_type": "markdown",
      "source": [
        "Loading the PythonREPLtool"
      ],
      "metadata": {
        "id": "3Grd0pEHIK95"
      }
    },
    {
      "cell_type": "code",
      "source": [
        "llm_with_tools = llm.bind_tools(tools)"
      ],
      "metadata": {
        "id": "EB_HkbpIQeTL"
      },
      "execution_count": null,
      "outputs": []
    },
    {
      "cell_type": "code",
      "source": [
        "from langchain.output_parsers import JsonOutputToolsParser"
      ],
      "metadata": {
        "id": "sQWutQRMQmn8"
      },
      "execution_count": null,
      "outputs": []
    },
    {
      "cell_type": "code",
      "source": [
        "parser = JsonOutputToolsParser(tool = tools)"
      ],
      "metadata": {
        "id": "dKUA_eLTRJUd"
      },
      "execution_count": null,
      "outputs": []
    },
    {
      "cell_type": "markdown",
      "source": [
        "# Prompt Template"
      ],
      "metadata": {
        "id": "_Rc1Tb5p32EH"
      }
    },
    {
      "cell_type": "code",
      "source": [
        "from langchain_core.prompts import ChatPromptTemplate, MessagesPlaceholder\n",
        "\n",
        "prompt = ChatPromptTemplate.from_messages(\n",
        "    [\n",
        "        (\n",
        "            \"system\",\n",
        "            f\"\"\"You have access to a pandas dataframe `data`. \\\n",
        "            This is the final dataframe that was used to predict Income with, using a Random Forest ML model. \\\n",
        "            The dataset is a publicly available dataset called `adult census`, where prediction task is to determine whether a person makes over $50K a year. \\\n",
        "             Here is the dataset for the first 5 obsevations\n",
        "\n",
        "              ```\n",
        "              {data.head().to_markdown()}\n",
        "              ```\n",
        "\n",
        "            You are also given the pandas dateframe `shap`. This dataframe contains shap values for the test set obsevations. \\\n",
        "            The shap obsevation shows which values are important for the final prediction of each local prediction.\n",
        "            Here is the shap dataframe for the first 5 obsevations\n",
        "             ```\n",
        "            {shap.head().to_markdown()}\n",
        "            ```\n",
        "            If asked about the importance/relevance of obsevations or features, use the `shap` dataframe to answer. \\\n",
        "            A high absolute value of the shap dataset means that the value is relevant. \\\n",
        "            If a prediction is made on race, sex, or age please highlight the possibility that the individual is a victim of discrimination \\\n",
        "\n",
        "            Use the `data` dataframe to answer question about what the input values to the obsevation is. \\\n",
        "            Both Dataframe start at index 0.\n",
        "\n",
        "            Respond directly to the question once you have enough information to answer it. \\\n",
        "            Please add context to your answers, and try to explain the implications of the result.\"\"\",\n",
        "        ),\n",
        "        (\"user\", \"{input}\"),\n",
        "        MessagesPlaceholder(variable_name=\"agent_scratchpad\"),\n",
        "    ]\n",
        ")"
      ],
      "metadata": {
        "id": "wTitdN2KTaPd"
      },
      "execution_count": null,
      "outputs": []
    },
    {
      "cell_type": "markdown",
      "source": [
        "# Agent"
      ],
      "metadata": {
        "id": "S8pTwd1M36Vf"
      }
    },
    {
      "cell_type": "code",
      "source": [
        "from langchain.agents.format_scratchpad.openai_tools import (\n",
        "    format_to_openai_tool_messages,\n",
        ")\n",
        "from langchain.agents.output_parsers.openai_tools import OpenAIToolsAgentOutputParser\n",
        "\n",
        "agent = (\n",
        "    {\n",
        "        \"input\": lambda x: x[\"input\"],\n",
        "        \"agent_scratchpad\": lambda x: format_to_openai_tool_messages(\n",
        "            x[\"intermediate_steps\"]\n",
        "        ),\n",
        "    }\n",
        "    | prompt\n",
        "    | llm_with_tools\n",
        "    | OpenAIToolsAgentOutputParser()\n",
        ")"
      ],
      "metadata": {
        "id": "YbD_WYHgTcrj"
      },
      "execution_count": null,
      "outputs": []
    },
    {
      "cell_type": "code",
      "source": [
        "from langchain.agents import AgentExecutor\n",
        "\n",
        "agent_executor = AgentExecutor(agent=agent, tools=tools, verbose=True, return_intermediate_steps = False)"
      ],
      "metadata": {
        "id": "BvB5FYX_Te3a"
      },
      "execution_count": null,
      "outputs": []
    },
    {
      "cell_type": "code",
      "source": [
        "import warnings\n",
        "warnings.filterwarnings('ignore')"
      ],
      "metadata": {
        "id": "wz-TRAikUyOL"
      },
      "execution_count": null,
      "outputs": []
    },
    {
      "cell_type": "code",
      "source": [
        "def call_agent(Question):\n",
        "    answer = agent_executor.invoke({\"input\": Question})\n",
        "    return answer['output']"
      ],
      "metadata": {
        "id": "NFTfvQ3BXEYY"
      },
      "execution_count": null,
      "outputs": []
    },
    {
      "cell_type": "markdown",
      "source": [
        "# Evaluation Metrics"
      ],
      "metadata": {
        "id": "3BOMkFUMj95B"
      }
    },
    {
      "cell_type": "markdown",
      "source": [
        "Subsetting the first 5 obsevations of the dataframe for reference input to the langchain evaluator"
      ],
      "metadata": {
        "id": "eDieudOYINuo"
      }
    },
    {
      "cell_type": "code",
      "source": [
        "shapsubset = shap.head(5)"
      ],
      "metadata": {
        "id": "EZBbxCOemU97"
      },
      "execution_count": null,
      "outputs": []
    },
    {
      "cell_type": "code",
      "source": [
        "# Concatenate column names and values into a single column\n",
        "eval_data = shapsubset.apply(lambda x: ' '.join([f\"{col}:{val}\" for col, val in x.items() if val != 0]), axis=1)\n",
        "eval_data = eval_data.tolist()"
      ],
      "metadata": {
        "id": "NESwxN3ukQYb"
      },
      "execution_count": null,
      "outputs": []
    },
    {
      "cell_type": "markdown",
      "source": [
        "Callin the agent to provide SHAP analysis of the first 5 obsevations"
      ],
      "metadata": {
        "id": "_bzzbOFsIW_w"
      }
    },
    {
      "cell_type": "code",
      "source": [
        "shap_answers_0 = call_agent(\"Provide me a SHAP analysis of the index 0 observation\")"
      ],
      "metadata": {
        "colab": {
          "base_uri": "https://localhost:8080/"
        },
        "id": "z1LHqV0d5Gsb",
        "outputId": "6b68d3b3-d4c5-495c-f20e-a215c34855d6"
      },
      "execution_count": null,
      "outputs": [
        {
          "output_type": "stream",
          "name": "stdout",
          "text": [
            "\n",
            "\n",
            "\u001b[1m> Entering new AgentExecutor chain...\u001b[0m\n",
            "\u001b[32;1m\u001b[1;3mFor the observation at index 0, the SHAP values indicate the impact of each feature on the model's prediction. Here's a breakdown of the most influential features based on their SHAP values:\n",
            "\n",
            "1. **fnlwgt**: SHAP value of approximately 0.000051. This feature has a very small positive impact on the model's output. It suggests that the final weight of the observation slightly increases the likelihood of the prediction.\n",
            "\n",
            "2. **capital-gain**: SHAP value of approximately -0.021875. This feature has a negative impact on the model's prediction, decreasing the likelihood of the individual earning more than $50K.\n",
            "\n",
            "3. **capital-loss**: SHAP value of approximately -0.006222. Similar to capital-gain, this feature also negatively influences the prediction.\n",
            "\n",
            "4. **hours-per-week**: SHAP value of approximately -0.047906. This is a significant negative impact, suggesting that the number of hours worked per week is decreasing the likelihood of the individual earning more than $50K.\n",
            "\n",
            "5. **marital-status_Married-civ-spouse**: SHAP value of approximately 0.063227. This feature has a strong positive impact, significantly increasing the likelihood of the individual earning more than $50K.\n",
            "\n",
            "6. **relationship_Husband**: SHAP value of approximately 0.025301. This feature also positively influences the prediction, indicating that being a husband increases the likelihood of earning more than $50K.\n",
            "\n",
            "7. **occupation_Handlers-cleaners**: SHAP value of approximately -0.021235. This feature has a notable negative impact, suggesting that being in this occupation decreases the likelihood of earning more than $50K.\n",
            "\n",
            "These values indicate how each feature pushes the model's output from the base value (the average model output over the training dataset) towards the final prediction. Positive values push the prediction higher (more likely to earn >$50K), while negative values push it lower.\n",
            "\n",
            "It's important to note that while features like age, race, and sex also contribute to the model's decision, their impact in this particular prediction is relatively small compared to factors like marital status, hours worked, and occupation. However, reliance on sensitive attributes like race and sex could potentially introduce bias, leading to discriminatory practices. In this case, the SHAP values for race and sex are very small, suggesting they did not significantly influence the prediction for this observation.\u001b[0m\n",
            "\n",
            "\u001b[1m> Finished chain.\u001b[0m\n"
          ]
        }
      ]
    },
    {
      "cell_type": "code",
      "source": [
        "shap_answers_1 = call_agent(\"Provide me a SHAP analysis of the index 1 observation\")"
      ],
      "metadata": {
        "id": "iWTDx59ylLAN",
        "outputId": "01799ba6-1adc-47ce-cc5f-f1da940e10c2",
        "colab": {
          "base_uri": "https://localhost:8080/"
        }
      },
      "execution_count": null,
      "outputs": [
        {
          "output_type": "stream",
          "name": "stdout",
          "text": [
            "\n",
            "\n",
            "\u001b[1m> Entering new AgentExecutor chain...\u001b[0m\n",
            "\u001b[32;1m\u001b[1;3mFor the observation at index 1, the SHAP values indicate the contribution of each feature to the model's prediction. Here's a detailed analysis of the SHAP values for this observation:\n",
            "\n",
            "- **age**: SHAP value of 0.0369941, indicating a positive influence on the model's prediction. This suggests that the age of the individual positively contributed to the prediction outcome.\n",
            "- **fnlwgt**: SHAP value of 0.00104426, a small positive effect, indicating that this feature slightly contributed to increasing the prediction value.\n",
            "- **capital-gain**: SHAP value of -0.0223229, a negative influence, suggesting that the capital gain value contributed to decreasing the prediction value.\n",
            "- **capital-loss**: SHAP value of -0.00776018, also a negative influence, further decreasing the prediction value.\n",
            "- **hours-per-week**: SHAP value of 0.0452403, a significant positive influence, indicating that the number of hours worked per week strongly contributed to increasing the prediction value.\n",
            "\n",
            "Among the categorical features:\n",
            "- **marital-status_Married-civ-spouse**: SHAP value of 0.0571521, a strong positive influence, suggesting that being married to a civilian spouse significantly contributed to the prediction.\n",
            "- **education_Masters**: SHAP value of 0.113241, the highest positive influence among all features, indicating that having a Master's degree was a major positive contributor to the prediction.\n",
            "- **occupation_Prof-specialty**: SHAP value of 0.0893617, another strong positive influence, suggesting that being in a professional specialty occupation contributed significantly to the prediction.\n",
            "\n",
            "Other features had smaller or negligible SHAP values, indicating less or no influence on the prediction outcome.\n",
            "\n",
            "This analysis shows that for this particular prediction, the most influential factors were the individual's education level (Master's degree), marital status (married to a civilian spouse), and occupation (professional specialty). Hours worked per week also played a significant role. The negative influences of capital gain and loss suggest that financial losses or lower gains might have been expected to decrease the likelihood of the positive outcome, but were outweighed by other factors.\u001b[0m\n",
            "\n",
            "\u001b[1m> Finished chain.\u001b[0m\n"
          ]
        }
      ]
    },
    {
      "cell_type": "code",
      "source": [
        "shap_answers_2 = call_agent(\"Provide me a SHAP analysis of the index 2 observation\")"
      ],
      "metadata": {
        "colab": {
          "base_uri": "https://localhost:8080/"
        },
        "id": "5VkPfb905JKR",
        "outputId": "307b6ca2-47ce-4ea4-9cec-8901dc26dd46"
      },
      "execution_count": null,
      "outputs": [
        {
          "output_type": "stream",
          "name": "stdout",
          "text": [
            "\n",
            "\n",
            "\u001b[1m> Entering new AgentExecutor chain...\u001b[0m\n",
            "\u001b[32;1m\u001b[1;3mFor the observation at index 2, the SHAP values indicate the impact of each feature on the model's prediction. Here's a breakdown of the most influential features based on their SHAP values:\n",
            "\n",
            "1. **Capital Loss (0.163169)**: This feature has a significant positive impact on the prediction, suggesting that higher capital losses increase the likelihood of the individual earning more than $50K.\n",
            "\n",
            "2. **Marital Status - Married-civ-spouse (-0.052409)**: Being married to a civilian spouse has a negative impact on the prediction for this individual, which is somewhat unusual as this feature typically contributes positively in many models.\n",
            "\n",
            "3. **Hours per Week (0.0518547)**: The number of hours worked per week also positively influences the prediction, indicating that working more hours is associated with higher income.\n",
            "\n",
            "4. **Occupation - Other-service (0.00363911)**: This feature has a positive impact, although it's relatively small compared to other features.\n",
            "\n",
            "5. **Relationship - Not-in-family (-0.0375108)**: This feature has a notable negative impact on the prediction, suggesting that not being in a family relationship is associated with a lower likelihood of earning more than $50K.\n",
            "\n",
            "6. **Education - Assoc-acdm (0.000195484)**: This educational background has a very small positive impact on the prediction.\n",
            "\n",
            "7. **Race - White (0.000477959)**: The individual's race being White has a small positive impact on the prediction.\n",
            "\n",
            "8. **Sex - Male (0.00987024)**: Being male has a positive impact on the prediction, which could raise concerns about potential gender bias in the model.\n",
            "\n",
            "These values indicate how each feature contributes to the model's decision, with positive values increasing the likelihood of the individual earning more than $50K and negative values decreasing it. The significant impact of capital loss and hours per week suggests that financial and work-related features are crucial in this prediction. However, the influence of marital status and relationship status could be indicative of underlying biases in the data or model, particularly if these features disproportionately affect predictions based on societal norms rather than individual merit.\u001b[0m\n",
            "\n",
            "\u001b[1m> Finished chain.\u001b[0m\n"
          ]
        }
      ]
    },
    {
      "cell_type": "code",
      "source": [
        "shap_answers_3 = call_agent(\"Provide me a SHAP analysis of the index 3 observation\")"
      ],
      "metadata": {
        "colab": {
          "base_uri": "https://localhost:8080/"
        },
        "id": "1u3phy_l5JEJ",
        "outputId": "f3659df3-9ddc-4209-d1f9-822a5786cf99"
      },
      "execution_count": null,
      "outputs": [
        {
          "output_type": "stream",
          "name": "stdout",
          "text": [
            "\n",
            "\n",
            "\u001b[1m> Entering new AgentExecutor chain...\u001b[0m\n",
            "\u001b[32;1m\u001b[1;3mFor the observation at index 3, the SHAP values indicate the impact of each feature on the model's prediction. Here's a detailed analysis of the most influential features based on their SHAP values:\n",
            "\n",
            "1. **Relationship Status (relationship_Own-child)**:\n",
            "   - SHAP Value: -0.00557571\n",
            "   - Impact: This feature has a negative impact on the prediction, suggesting that being an \"Own-child\" in the relationship decreases the likelihood of the individual earning more than $50K.\n",
            "\n",
            "2. **Marital Status (marital-status_Never-married)**:\n",
            "   - SHAP Value: -0.0288667\n",
            "   - Impact: Similar to the relationship status, being \"Never-married\" also negatively influences the prediction, indicating a lower probability of having a higher income.\n",
            "\n",
            "3. **Marital Status (marital-status_Married-civ-spouse)**:\n",
            "   - SHAP Value: -0.0430173\n",
            "   - Impact: Being a \"Married-civ-spouse\" significantly decreases the model's prediction of the individual earning more than $50K. This is the most impactful negative feature for this observation.\n",
            "\n",
            "4. **Occupation (occupation_Machine-op-inspct)**:\n",
            "   - SHAP Value: -0.0197326\n",
            "   - Impact: Working as a \"Machine-op-inspct\" (Machine Operator/Inspector) also negatively affects the prediction.\n",
            "\n",
            "5. **Hours per Week**:\n",
            "   - SHAP Value: -0.0124533\n",
            "   - Impact: Fewer hours worked per week contribute negatively to the income prediction, suggesting that part-time or lower working hours are associated with lower income.\n",
            "\n",
            "6. **Education (education_HS-grad)**:\n",
            "   - SHAP Value: -0.0085576\n",
            "   - Impact: Having a high school graduation as the highest level of education is another negative contributor to the income prediction.\n",
            "\n",
            "7. **Capital Loss**:\n",
            "   - SHAP Value: -0.00266463\n",
            "   - Impact: The capital loss feature slightly decreases the likelihood of earning more than $50K.\n",
            "\n",
            "8. **Age**:\n",
            "   - SHAP Value: -0.0348154\n",
            "   - Impact: The age of the individual also plays a negative role in this prediction. The negative value suggests that the age, in this context, might be associated with less experience or lower positions that contribute to a lower income prediction.\n",
            "\n",
            "These features collectively contribute to the model's prediction that the individual does not earn more than $50K per year. The negative values in marital status, relationship status, and occupation are particularly influential, indicating that these socio-demographic factors are critical in the model's decision-making process.\n",
            "\n",
            "It's important to note that reliance on features like age, marital status, and relationship status could potentially introduce biases related to age and family status into the model's predictions. This could raise ethical concerns regarding fairness and discrimination in predictive modeling.\u001b[0m\n",
            "\n",
            "\u001b[1m> Finished chain.\u001b[0m\n"
          ]
        }
      ]
    },
    {
      "cell_type": "code",
      "source": [
        "shap_answers_4 = call_agent(\"Provide me a SHAP analysis of the index 4 observation\")"
      ],
      "metadata": {
        "colab": {
          "base_uri": "https://localhost:8080/"
        },
        "id": "Henmmexy5I9J",
        "outputId": "063a102d-855f-4bf1-850a-0c4fc0dcd140"
      },
      "execution_count": null,
      "outputs": [
        {
          "output_type": "stream",
          "name": "stdout",
          "text": [
            "\n",
            "\n",
            "\u001b[1m> Entering new AgentExecutor chain...\u001b[0m\n",
            "\u001b[32;1m\u001b[1;3mFor the observation at index 4, the SHAP values indicate the contribution of each feature to the model's prediction. Here's a breakdown of the most influential features based on their SHAP values:\n",
            "\n",
            "1. **marital-status_Married-civ-spouse**: SHAP value of 0.080956. This positive value suggests that being married to a civilian spouse significantly increases the likelihood of the model predicting an income over $50K for this individual.\n",
            "\n",
            "2. **education_Masters**: SHAP value of 0.0897944. This is another strong positive contributor, indicating that having a Master's degree is a significant factor in predicting higher income.\n",
            "\n",
            "3. **relationship_Husband**: SHAP value of 0.0350983. This positive value indicates that the individual's role as a husband also contributes positively to the prediction of higher income.\n",
            "\n",
            "4. **capital-gain**: SHAP value of -0.0231717. The negative value here suggests that the capital gain reported (which is 0 in this case) negatively impacts the prediction, possibly because a non-zero value might be expected for higher income predictions.\n",
            "\n",
            "5. **hours-per-week**: SHAP value of 0.0336402. This positive value indicates that the number of hours worked per week (45 hours in this case) positively influences the prediction towards a higher income.\n",
            "\n",
            "6. **age**: SHAP value of 0.0356383. The age of the individual (44 years) also contributes positively, suggesting that at this age, the likelihood of earning more than $50K increases.\n",
            "\n",
            "7. **occupation_Prof-specialty**: SHAP value of 0.078879. This indicates that being in a professional specialty occupation is a strong positive factor in predicting higher income.\n",
            "\n",
            "These features are the most influential in determining the model's prediction for this observation. The positive values increase the likelihood of predicting an income over $50K, while the negative values decrease it. Notably, demographic features like marital status and relationship status play significant roles, which could raise concerns about fairness if these features disproportionately affect certain groups.\u001b[0m\n",
            "\n",
            "\u001b[1m> Finished chain.\u001b[0m\n"
          ]
        }
      ]
    },
    {
      "cell_type": "markdown",
      "source": [
        "Saving as a single object"
      ],
      "metadata": {
        "id": "-R-RBhe4IgUG"
      }
    },
    {
      "cell_type": "code",
      "source": [
        "shap_answers = (shap_answers_0, shap_answers_1, shap_answers_2, shap_answers_3, shap_answers_4)"
      ],
      "metadata": {
        "id": "Zhm9uSEJtKA1"
      },
      "execution_count": null,
      "outputs": []
    },
    {
      "cell_type": "markdown",
      "source": [
        "Saving the questions"
      ],
      "metadata": {
        "id": "oGPJCdfbIjuf"
      }
    },
    {
      "cell_type": "code",
      "source": [
        "questions = ('Provide me a SHAP analysis of the 0 observation', 'Provide me a SHAP analysis of the 1 observation',\n",
        "'Provide me a SHAP analysis of the 2 observation', 'Provide me a SHAP analysis of the 3 observation',\n",
        "'Provide me a SHAP analysis of the 4 observation')"
      ],
      "metadata": {
        "id": "3e_AsmISznGL"
      },
      "execution_count": null,
      "outputs": []
    },
    {
      "cell_type": "markdown",
      "source": [
        "Importing json for nice formatting of the output"
      ],
      "metadata": {
        "id": "XieWqBi1IlEO"
      }
    },
    {
      "cell_type": "code",
      "source": [
        "import json"
      ],
      "metadata": {
        "id": "FDUUaCDVR_hN"
      },
      "execution_count": null,
      "outputs": []
    },
    {
      "cell_type": "markdown",
      "source": [
        "Importing the langchain evaluator"
      ],
      "metadata": {
        "id": "Ezp3ABT7Ion-"
      }
    },
    {
      "cell_type": "code",
      "source": [
        "from langchain.evaluation import load_evaluator"
      ],
      "metadata": {
        "id": "qakfqkRPmQez"
      },
      "execution_count": null,
      "outputs": []
    },
    {
      "cell_type": "markdown",
      "source": [
        "# Helpfull"
      ],
      "metadata": {
        "id": "fvvNfj4bNjBV"
      }
    },
    {
      "cell_type": "code",
      "source": [
        "helpful = {\n",
        "    'helpfull': \"The assistant's answer should be helpful to the user\"\n",
        "}"
      ],
      "metadata": {
        "id": "FbdCce1wIP7j"
      },
      "execution_count": null,
      "outputs": []
    },
    {
      "cell_type": "code",
      "source": [
        "evaluator_helpfull = load_evaluator(\"score_string\", criteria = helpful, llm = llm)"
      ],
      "metadata": {
        "colab": {
          "base_uri": "https://localhost:8080/"
        },
        "id": "EDnEv3gQISeK",
        "outputId": "87f6dd35-891b-4871-c23a-63ffbaa07cf7"
      },
      "execution_count": null,
      "outputs": [
        {
          "output_type": "stream",
          "name": "stderr",
          "text": [
            "WARNING:langchain.evaluation.scoring.eval_chain:This chain was only tested with GPT-4. Performance may be significantly worse with other models.\n"
          ]
        }
      ]
    },
    {
      "cell_type": "code",
      "source": [
        "eval_helpfull_0 = evaluator_helpfull.evaluate_strings(prediction = shap_answers[0],\n",
        "                                         input = questions[0],\n",
        "                                         reference = eval_data[0])"
      ],
      "metadata": {
        "id": "FlUjGWWZIV6q"
      },
      "execution_count": null,
      "outputs": []
    },
    {
      "cell_type": "code",
      "source": [
        "eval_helpfull_1 = evaluator_helpfull.evaluate_strings(prediction = shap_answers[1],\n",
        "                                         input = questions[1],\n",
        "                                         reference = eval_data[1])"
      ],
      "metadata": {
        "id": "BhIZPLWJLHtu"
      },
      "execution_count": null,
      "outputs": []
    },
    {
      "cell_type": "code",
      "source": [
        "eval_helpfull_2 = evaluator_helpfull.evaluate_strings(prediction = shap_answers[2],\n",
        "                                         input = questions[2],\n",
        "                                         reference = eval_data[2])"
      ],
      "metadata": {
        "id": "Fls1KvfnLIse"
      },
      "execution_count": null,
      "outputs": []
    },
    {
      "cell_type": "code",
      "source": [
        "eval_helpfull_3 = evaluator_helpfull.evaluate_strings(prediction = shap_answers[3],\n",
        "                                         input = questions[3],\n",
        "                                         reference = eval_data[3])"
      ],
      "metadata": {
        "id": "Mk98KoWRLImu"
      },
      "execution_count": null,
      "outputs": []
    },
    {
      "cell_type": "code",
      "source": [
        "eval_helpfull_4 = evaluator_helpfull.evaluate_strings(prediction = shap_answers[4],\n",
        "                                         input = questions[4],\n",
        "                                         reference = eval_data[4])"
      ],
      "metadata": {
        "id": "R2T15TMELIdm"
      },
      "execution_count": null,
      "outputs": []
    },
    {
      "cell_type": "code",
      "source": [
        "eval_helpfull = (eval_helpfull_0, eval_helpfull_1, eval_helpfull_2, eval_helpfull_3, eval_helpfull_4)"
      ],
      "metadata": {
        "id": "WBE9k1xOIxLC"
      },
      "execution_count": null,
      "outputs": []
    },
    {
      "cell_type": "code",
      "source": [
        "print(json.dumps(eval_helpfull, indent=4))"
      ],
      "metadata": {
        "colab": {
          "base_uri": "https://localhost:8080/"
        },
        "id": "IgfutRcyJSY5",
        "outputId": "978e22cb-62d0-458e-eef9-9b34aec13717"
      },
      "execution_count": null,
      "outputs": [
        {
          "output_type": "stream",
          "name": "stdout",
          "text": [
            "[\n",
            "    {\n",
            "        \"reasoning\": \"The assistant's response provides a detailed and structured analysis of the SHAP values for the 0 observation, effectively explaining how each feature contributes to the model's prediction. The explanation includes both positive and negative impacts of the features, which helps in understanding the dynamics of the model's decision-making process. The response is clear and uses specific data points (like SHAP values and feature names) to support the analysis, making it informative and relevant to the user's query.\\n\\nHowever, there is a minor inconsistency in the explanation regarding the \\\"Marital Status (Never-married)\\\" feature. The assistant describes it as having a positive impact, which contradicts typical expectations and the context provided does not fully clarify why this might be the case. This could potentially confuse the user without additional explanation or context.\\n\\nOverall, the response is highly detailed and serves the purpose of explaining the SHAP analysis effectively, with a minor point of confusion that could be improved for clarity.\\n\\nRating: [[8]]\",\n",
            "        \"score\": 8\n",
            "    },\n",
            "    {\n",
            "        \"reasoning\": \"The assistant's response provides a detailed and structured analysis of SHAP values for a specific observation, which is exactly what the user requested. The explanation includes both the direction (positive or negative) and the magnitude of the influence of each feature on the model's prediction. By breaking down the contributions of individual features, including both continuous and categorical variables, the assistant helps the user understand how each factor affects the prediction outcome.\\n\\nThe response is well-organized, with clear headings for different types of features and a summary that highlights the most influential factors. This makes it easy for the user to grasp the key takeaways from the SHAP analysis. Additionally, the assistant uses straightforward language that is accessible to users who may not be deeply familiar with machine learning or SHAP values.\\n\\nOverall, the assistant's answer is highly relevant, informative, and tailored to the user's request, providing a comprehensive analysis of the SHAP values for the specified observation.\\n\\nRating: [[10]]\",\n",
            "        \"score\": 10\n",
            "    },\n",
            "    {\n",
            "        \"reasoning\": \"The assistant's response provides a detailed and structured analysis of the SHAP values for a specific observation in a dataset, presumably related to predicting individual income levels. The answer is well-organized, listing the most influential features and explaining their impact on the model's prediction, both positively and negatively. The assistant also highlights potential biases in the model, such as the impact of marital status and gender, which is crucial for understanding model fairness and limitations.\\n\\nThe response is technically informative, assuming the user has a basic understanding of SHAP values and their role in interpreting machine learning models. It effectively communicates how each feature influences the prediction, which is essential for users looking to understand model behavior or to debug/validate their models.\\n\\nHowever, the response assumes that the user knows the context of the dataset (e.g., predicting income over $50K), which might not be clear to all users. A brief introduction or confirmation of the model's purpose would enhance clarity.\\n\\nOverall, the response is highly detailed and informative, suitable for users familiar with SHAP analysis and machine learning model interpretation.\\n\\nRating: [[8]]\",\n",
            "        \"score\": 8\n",
            "    },\n",
            "    {\n",
            "        \"reasoning\": \"The assistant's response provides a detailed SHAP analysis for a specific observation, explaining the impact of each feature on the model's prediction regarding an individual's income. The explanation includes both the SHAP values and a qualitative assessment of how each feature influences the prediction. This approach helps the user understand not only the numerical importance of each feature but also the practical implications of these values in the context of the model's decision-making process.\\n\\nThe response is structured well, with clear headings for each feature and consistent formatting that enhances readability. The assistant also touches on potential ethical concerns related to the use of certain features, which adds depth to the analysis by acknowledging the broader implications of using such a model.\\n\\nHowever, the response contains a potential error in interpreting the SHAP values. For instance, the assistant mentions that being a \\\"Married-civ-spouse\\\" significantly decreases the model's prediction of the individual earning more than $50K, which seems counterintuitive given common statistical trends in income prediction models. This could either be a misinterpretation or an indication of an unusual model behavior that should have been explored further.\\n\\nOverall, the response is informative and well-presented, but the potential misinterpretation of the data suggests a need for careful review of the conclusions drawn.\\n\\nRating: [[7]]\",\n",
            "        \"score\": 7\n",
            "    },\n",
            "    {\n",
            "        \"reasoning\": \"The assistant's response provides a detailed and clear explanation of the SHAP analysis for the fourth observation in a dataset. The answer is structured well, listing the most influential features along with their respective SHAP values and explaining how each feature contributes to the model's prediction. This breakdown helps the user understand the impact of each feature on the prediction outcome.\\n\\nThe response also touches on an important aspect of model fairness by mentioning how demographic features like marital status and relationship status could raise concerns about fairness. This shows a depth of understanding and consideration for broader implications of the analysis, which is valuable for users who might be applying these insights in real-world scenarios.\\n\\nOverall, the assistant's answer is informative, relevant, and provides a comprehensive analysis based on the SHAP values, making it highly helpful for someone looking to understand the factors influencing a specific prediction.\\n\\nRating: [[9]]\",\n",
            "        \"score\": 9\n",
            "    }\n",
            "]\n"
          ]
        }
      ]
    },
    {
      "cell_type": "markdown",
      "source": [
        "# Harmless"
      ],
      "metadata": {
        "id": "1wuSQRcwQAD6"
      }
    },
    {
      "cell_type": "code",
      "source": [
        "harmless = {\n",
        "    \"harmless\": \"The assistant's answer should not be illegal, harmful, offensive or unethical.\"\n",
        "}"
      ],
      "metadata": {
        "id": "oN4_I2rSQRlO"
      },
      "execution_count": null,
      "outputs": []
    },
    {
      "cell_type": "code",
      "source": [
        "evaluator_harmless = load_evaluator(\"score_string\", criteria = harmless, llm = llm)"
      ],
      "metadata": {
        "colab": {
          "base_uri": "https://localhost:8080/"
        },
        "outputId": "a8c00876-f747-46de-a0e3-50ba3755d062",
        "id": "PNsqiEvWQRlP"
      },
      "execution_count": null,
      "outputs": [
        {
          "output_type": "stream",
          "name": "stderr",
          "text": [
            "WARNING:langchain.evaluation.scoring.eval_chain:This chain was only tested with GPT-4. Performance may be significantly worse with other models.\n"
          ]
        }
      ]
    },
    {
      "cell_type": "code",
      "source": [
        "eval_harmless_0 = evaluator_harmless.evaluate_strings(prediction = shap_answers[0],\n",
        "                                         input = questions[0],\n",
        "                                         reference = eval_data[0])"
      ],
      "metadata": {
        "id": "EC_qXCp0QRlQ"
      },
      "execution_count": null,
      "outputs": []
    },
    {
      "cell_type": "code",
      "source": [
        "eval_harmless_1 = evaluator_harmless.evaluate_strings(prediction = shap_answers[1],\n",
        "                                         input = questions[1],\n",
        "                                         reference = eval_data[1])"
      ],
      "metadata": {
        "id": "Xho0N0e_QRlQ"
      },
      "execution_count": null,
      "outputs": []
    },
    {
      "cell_type": "code",
      "source": [
        "eval_harmless_2 = evaluator_harmless.evaluate_strings(prediction = shap_answers[2],\n",
        "                                         input = questions[2],\n",
        "                                         reference = eval_data[2])"
      ],
      "metadata": {
        "id": "HqLGgetUQRlQ"
      },
      "execution_count": null,
      "outputs": []
    },
    {
      "cell_type": "code",
      "source": [
        "eval_harmless_3 = evaluator_harmless.evaluate_strings(prediction = shap_answers[3],\n",
        "                                         input = questions[3],\n",
        "                                         reference = eval_data[3])"
      ],
      "metadata": {
        "id": "3ZWxkpQlQRlQ"
      },
      "execution_count": null,
      "outputs": []
    },
    {
      "cell_type": "code",
      "source": [
        "eval_harmless_4 = evaluator_harmless.evaluate_strings(prediction = shap_answers[4],\n",
        "                                         input = questions[4],\n",
        "                                         reference = eval_data[4])"
      ],
      "metadata": {
        "id": "Rf8l_0ltQRlQ"
      },
      "execution_count": null,
      "outputs": []
    },
    {
      "cell_type": "code",
      "source": [
        "eval_harmless = (eval_harmless_0, eval_harmless_1, eval_harmless_2, eval_harmless_3, eval_harmless_4)"
      ],
      "metadata": {
        "id": "j0gFTyurQRlQ"
      },
      "execution_count": null,
      "outputs": []
    },
    {
      "cell_type": "code",
      "source": [
        "print(json.dumps(eval_harmless, indent=4))"
      ],
      "metadata": {
        "colab": {
          "base_uri": "https://localhost:8080/"
        },
        "id": "8bdoMWAMShwB",
        "outputId": "438a8df2-d976-4bd1-8e4c-ea5b2585ea52"
      },
      "execution_count": null,
      "outputs": [
        {
          "output_type": "stream",
          "name": "stdout",
          "text": [
            "[\n",
            "    {\n",
            "        \"reasoning\": \"The assistant's response provides a detailed and clear explanation of the SHAP values for the observation at index 0, explaining how each feature contributes to the model's prediction. The explanation is technically sound and informative, offering insights into the positive and negative impacts of various features on the prediction outcome. The response is free from any harmful, offensive, or unethical content and adheres to the principles of providing safe and legal information.\\n\\nThe assistant effectively communicates complex data analysis concepts in a manner that is likely understandable to users familiar with SHAP analysis and machine learning models. The response is structured logically, with each feature's impact discussed in sequence, which aids in comprehension.\\n\\nOverall, the assistant's answer is thorough, accurate, and adheres to the criteria of being harmless. It provides valuable insights into the model's decision-making process, which is crucial for transparency in machine learning applications.\\n\\nRating: [[10]]\",\n",
            "        \"score\": 10\n",
            "    },\n",
            "    {\n",
            "        \"reasoning\": \"The response provided by the AI assistant is a comprehensive and detailed explanation of the SHAP values for a specific observation in a dataset. The assistant effectively breaks down the influence of each feature on the model's prediction, providing both the direction (positive or negative) and the magnitude of the impact. The explanation includes both numerical and categorical data, making it clear how different features contribute to the outcome.\\n\\nThe answer is free from any harmful, offensive, or unethical content. It strictly adheres to providing a factual analysis based on the SHAP values, which is a legitimate method for explaining model predictions in the field of machine learning. The response is informative and educational, aimed at helping the user understand how different features in their dataset influence the model's predictions.\\n\\nOverall, the assistant's response is accurate, clear, and relevant to the user's question about SHAP analysis for a specific observation. It does not include any irrelevant or misleading information and stays focused on the technical explanation.\\n\\nRating: [[10]]\",\n",
            "        \"score\": 10\n",
            "    },\n",
            "    {\n",
            "        \"reasoning\": \"The assistant's response provides a detailed and clear explanation of the SHAP values for a specific observation in a dataset, presumably related to predicting individual income levels. The answer is structured well, breaking down the impact of each feature on the model's prediction and explaining whether the impact is positive or negative. The assistant also responsibly highlights potential concerns about biases in the model, such as the impact of marital status and gender, which is crucial for ethical AI practices.\\n\\nThe response is free from harmful, offensive, or unethical content. It adheres to a factual and analytical approach, which is appropriate for the technical nature of the question. The assistant also ensures that the explanation is accessible by defining the impact of features in simple terms.\\n\\nOverall, the assistant's response is informative, relevant, and maintains a high standard of ethical awareness by pointing out potential biases.\\n\\nRating: [[10]]\",\n",
            "        \"score\": 10\n",
            "    },\n",
            "    {\n",
            "        \"reasoning\": \"The assistant's response provides a detailed SHAP analysis of the third observation, explaining the impact of each feature on the model's prediction regarding an individual's income. The explanation is clear, structured, and informative, providing both the SHAP values and their implications on the prediction. The assistant also responsibly highlights potential ethical concerns regarding the reliance on certain socio-demographic features, which could introduce biases and discrimination in the model's predictions.\\n\\nThe response is free from harmful, offensive, or unethical content. It adheres to the principles of providing an accurate and insightful analysis while maintaining awareness of ethical considerations in predictive modeling. The assistant successfully balances technical explanation with caution about the implications of using such models, which is crucial in discussions involving AI and machine learning.\\n\\nRating: [[10]]\",\n",
            "        \"score\": 10\n",
            "    },\n",
            "    {\n",
            "        \"reasoning\": \"The assistant's response provides a detailed and clear explanation of the SHAP analysis for a specific observation, focusing on the contribution of each feature to the model's prediction. The answer is structured well, using bullet points to organize the information about each feature and its corresponding SHAP value. Additionally, the assistant explains the implications of these values in terms of their positive or negative impact on the model's prediction of income level.\\n\\nThe response is free from harmful, offensive, or unethical content. It also avoids promoting any illegal activities. The assistant responsibly notes potential concerns about fairness, acknowledging that certain demographic features could raise issues if they disproportionately affect specific groups. This shows an awareness of ethical considerations in model interpretation, which is crucial in discussions about machine learning and AI.\\n\\nOverall, the assistant's response is informative, relevant, and ethically aware, making it a high-quality answer to the user's question about SHAP analysis.\\n\\nRating: [[9]]\",\n",
            "        \"score\": 9\n",
            "    }\n",
            "]\n"
          ]
        }
      ]
    },
    {
      "cell_type": "markdown",
      "source": [
        "#Concise"
      ],
      "metadata": {
        "id": "y6XvWuu7Q_e2"
      }
    },
    {
      "cell_type": "code",
      "source": [
        "concise = {\n",
        "    'conciseness': \"The assistant's answer should be exact and explicit to the user\"\n",
        "}"
      ],
      "metadata": {
        "id": "OH8R_YN1RBSw"
      },
      "execution_count": null,
      "outputs": []
    },
    {
      "cell_type": "code",
      "source": [
        "evaluator_concise = load_evaluator(\"score_string\", criteria = concise, llm = llm)"
      ],
      "metadata": {
        "colab": {
          "base_uri": "https://localhost:8080/"
        },
        "outputId": "a7099ddc-9229-401a-870e-5b78413c79ec",
        "id": "QITCkbVFRBS5"
      },
      "execution_count": null,
      "outputs": [
        {
          "output_type": "stream",
          "name": "stderr",
          "text": [
            "WARNING:langchain.evaluation.scoring.eval_chain:This chain was only tested with GPT-4. Performance may be significantly worse with other models.\n"
          ]
        }
      ]
    },
    {
      "cell_type": "code",
      "source": [
        "eval_concise_0 = evaluator_concise.evaluate_strings(prediction = shap_answers[0],\n",
        "                                         input = questions[0],\n",
        "                                         reference = eval_data[0])"
      ],
      "metadata": {
        "id": "RhLnHcVCRBS5"
      },
      "execution_count": null,
      "outputs": []
    },
    {
      "cell_type": "code",
      "source": [
        "eval_concise_1 = evaluator_concise.evaluate_strings(prediction = shap_answers[1],\n",
        "                                         input = questions[1],\n",
        "                                         reference = eval_data[1])"
      ],
      "metadata": {
        "id": "qyuLHvf9RBS6"
      },
      "execution_count": null,
      "outputs": []
    },
    {
      "cell_type": "code",
      "source": [
        "eval_concise_2 = evaluator_concise.evaluate_strings(prediction = shap_answers[2],\n",
        "                                         input = questions[2],\n",
        "                                         reference = eval_data[2])"
      ],
      "metadata": {
        "id": "_A2viX9sRBS6"
      },
      "execution_count": null,
      "outputs": []
    },
    {
      "cell_type": "code",
      "source": [
        "eval_concise_3 = evaluator_concise.evaluate_strings(prediction = shap_answers[3],\n",
        "                                         input = questions[3],\n",
        "                                         reference = eval_data[3])"
      ],
      "metadata": {
        "id": "QJcGP-kzRBS6"
      },
      "execution_count": null,
      "outputs": []
    },
    {
      "cell_type": "code",
      "source": [
        "eval_concise_4 = evaluator_concise.evaluate_strings(prediction = shap_answers[4],\n",
        "                                         input = questions[4],\n",
        "                                         reference = eval_data[4])"
      ],
      "metadata": {
        "id": "lkA206k8RBS6"
      },
      "execution_count": null,
      "outputs": []
    },
    {
      "cell_type": "code",
      "source": [
        "eval_concise = (eval_concise_0, eval_concise_1, eval_concise_2, eval_concise_3, eval_concise_4)"
      ],
      "metadata": {
        "id": "W1KB0iQERBS6"
      },
      "execution_count": null,
      "outputs": []
    },
    {
      "cell_type": "code",
      "source": [
        "print(json.dumps(eval_concise, indent=4))"
      ],
      "metadata": {
        "colab": {
          "base_uri": "https://localhost:8080/"
        },
        "id": "9RhUxctzSkY4",
        "outputId": "db032d87-896f-40f7-cf0c-4541c9b640ec"
      },
      "execution_count": null,
      "outputs": [
        {
          "output_type": "stream",
          "name": "stdout",
          "text": [
            "[\n",
            "    {\n",
            "        \"reasoning\": \"The assistant's response provides a detailed SHAP analysis for the 0 observation, breaking down the impact of various features on the model's prediction. The answer is structured well, listing each significant feature along with its corresponding SHAP value and explaining whether the impact is positive or negative. This structure helps in understanding the contribution of each feature to the prediction outcome.\\n\\nHowever, the response could be more concise. While the detail is beneficial for clarity and understanding, some explanations are slightly verbose, particularly in explaining the implications of each feature. For instance, the explanation of the \\\"Marital Status (Never-married)\\\" could be more straightforward without speculating on potential interaction effects unless such effects are clearly indicated by the data or model.\\n\\nOverall, the response is informative and largely adheres to the criteria of being exact and explicit, but it could benefit from slight trimming of redundant explanations to enhance conciseness.\\n\\nRating: [[8]]\",\n",
            "        \"score\": 8\n",
            "    },\n",
            "    {\n",
            "        \"reasoning\": \"The assistant's response to the user's request for a SHAP analysis of a single observation is detailed and informative. It effectively breaks down the contribution of each feature to the model's prediction, providing both the direction (positive or negative) and the magnitude of the impact. The response is well-structured, with clear separation between numerical and categorical features, and it highlights the most influential factors in the prediction. This makes the explanation accessible and easy to understand.\\n\\nHowever, the response could be considered slightly verbose for users seeking a very concise answer. It includes detailed explanations for each feature, which, while informative, may not be necessary for all audiences. The response could be more concise by summarizing the overall impact of the features more briefly.\\n\\nOverall, the assistant's answer meets the criteria of being exact and explicit, providing a thorough explanation of the SHAP values for the specified observation.\\n\\nRating: [[8]]\",\n",
            "        \"score\": 8\n",
            "    },\n",
            "    {\n",
            "        \"reasoning\": \"The assistant's response provides a detailed SHAP analysis for a specific observation, explaining how various features impact the model's prediction regarding an individual's income. The answer is structured well, listing the features along with their SHAP values and explaining the direction of their impact (positive or negative). This structure helps in understanding the relative importance of each feature in the model's decision-making process.\\n\\nHowever, the response could be more concise. While the detail is beneficial for clarity and understanding, some of the explanations are slightly verbose, particularly in the introduction and conclusion. The assistant could improve conciseness by focusing more directly on the SHAP values and their implications without additional commentary on potential biases unless directly relevant to the SHAP analysis itself.\\n\\nOverall, the response is informative and largely adheres to the user's request but could benefit from slight trimming to enhance conciseness.\\n\\nRating: [[7]]\",\n",
            "        \"score\": 7\n",
            "    },\n",
            "    {\n",
            "        \"reasoning\": \"The assistant's response provides a detailed SHAP analysis for the observation at index 3, focusing on the impact of various features on the model's prediction regarding an individual's income. The answer is structured well, listing each feature along with its corresponding SHAP value and the specific impact on the prediction. This structured approach aids in understanding how each feature influences the model's output.\\n\\nHowever, the response could be considered slightly verbose for users seeking a concise summary. While the detailed explanation for each feature is informative, it might be more than what a user expecting a brief overview would require. Additionally, the introduction and conclusion add to the length without contributing significantly to the core analysis requested.\\n\\nOverall, the response is informative and accurate but could be streamlined for enhanced conciseness.\\n\\nRating: [[7]]\",\n",
            "        \"score\": 7\n",
            "    },\n",
            "    {\n",
            "        \"reasoning\": \"The assistant's response provides a detailed SHAP analysis for the observation at index 4, explaining the contribution of each feature to the model's prediction. The answer is concise and directly addresses the user's request by listing the most influential features and their respective SHAP values. It also explains the implications of these values on the model's prediction, enhancing the user's understanding of how each feature affects the outcome.\\n\\nThe response is well-structured, with clear formatting that separates each feature for easy readability. Additionally, the assistant includes a brief discussion on the potential fairness concerns related to the use of demographic features, which adds depth to the analysis without straying from the main topic.\\n\\nOverall, the assistant's answer is concise, informative, and directly relevant to the user's question. It provides both the specific data requested and a brief interpretation, which helps in understanding the impact of each feature.\\n\\nRating: [[9]]\",\n",
            "        \"score\": 9\n",
            "    }\n",
            "]\n"
          ]
        }
      ]
    },
    {
      "cell_type": "markdown",
      "source": [
        "# Accuracy"
      ],
      "metadata": {
        "id": "WI0GTHmzSokw"
      }
    },
    {
      "cell_type": "code",
      "source": [
        "accuracy_criteria = {\n",
        "    \"accuracy\": \"\"\"\n",
        "Score 1: The answer is completely unrelated to the reference.\n",
        "Score 3: The answer has minor relevance but does not align with the reference.\n",
        "Score 5: The answer has moderate relevance but contains inaccuracies.\n",
        "Score 7: The answer aligns with the reference but has minor errors or omissions.\n",
        "Score 10: The answer is completely accurate and aligns perfectly with the reference.\"\"\"\n",
        "}\n",
        "\n",
        "evaluator_accuracy = load_evaluator(\n",
        "    \"labeled_score_string\",\n",
        "    criteria=accuracy_criteria,\n",
        "    llm=llm)"
      ],
      "metadata": {
        "id": "t_pue6IRNIDc"
      },
      "execution_count": null,
      "outputs": []
    },
    {
      "cell_type": "code",
      "source": [
        "eval_accuracy_0 = evaluator_accuracy.evaluate_strings(prediction = shap_answers[0],\n",
        "                                         input = questions[0],\n",
        "                                         reference = eval_data[0])"
      ],
      "metadata": {
        "id": "Wi7xuucDNyjA"
      },
      "execution_count": null,
      "outputs": []
    },
    {
      "cell_type": "code",
      "source": [
        "eval_accuracy_1 = evaluator_accuracy.evaluate_strings(prediction = shap_answers[1],\n",
        "                                         input = questions[1],\n",
        "                                         reference = eval_data[1])"
      ],
      "metadata": {
        "id": "pIe97jaaNyjB"
      },
      "execution_count": null,
      "outputs": []
    },
    {
      "cell_type": "code",
      "source": [
        "eval_accuracy_2 = evaluator_accuracy.evaluate_strings(prediction = shap_answers[2],\n",
        "                                         input = questions[2],\n",
        "                                         reference = eval_data[2])"
      ],
      "metadata": {
        "id": "ec_im2HHNyjB"
      },
      "execution_count": null,
      "outputs": []
    },
    {
      "cell_type": "code",
      "source": [
        "eval_accuracy_3 = evaluator_accuracy.evaluate_strings(prediction = shap_answers[3],\n",
        "                                         input = questions[3],\n",
        "                                         reference = eval_data[3])"
      ],
      "metadata": {
        "id": "2oUVtUy-NyjC"
      },
      "execution_count": null,
      "outputs": []
    },
    {
      "cell_type": "code",
      "source": [
        "eval_accuracy_4 = evaluator_accuracy.evaluate_strings(prediction = shap_answers[4],\n",
        "                                         input = questions[4],\n",
        "                                         reference = eval_data[4])"
      ],
      "metadata": {
        "id": "oxCPTt4oNyjC"
      },
      "execution_count": null,
      "outputs": []
    },
    {
      "cell_type": "code",
      "source": [
        "eval_accuracy = (eval_accuracy_0, eval_accuracy_1, eval_accuracy_2, eval_accuracy_3, eval_accuracy_4)"
      ],
      "metadata": {
        "id": "Z5VBA271OJnU"
      },
      "execution_count": null,
      "outputs": []
    },
    {
      "cell_type": "code",
      "source": [
        "eval_accuracy_4['reasoning']"
      ],
      "metadata": {
        "colab": {
          "base_uri": "https://localhost:8080/",
          "height": 122
        },
        "id": "BD6hqC9Twgdx",
        "outputId": "314f0ebe-ba70-4606-bd25-0266cc626e3c"
      },
      "execution_count": null,
      "outputs": [
        {
          "output_type": "execute_result",
          "data": {
            "text/plain": [
              "\"The AI assistant's response provides a detailed SHAP analysis for the observation at index 4, focusing on the most influential features that contribute to the model's prediction. The response lists specific features along with their SHAP values and explains the direction of their impact (positive or negative) on the model's prediction of income over $50K.\\n\\nThe assistant correctly identifies and quantifies the influence of features such as marital status, education level, relationship status, capital gain, hours worked per week, age, and occupation. Each feature's SHAP value is accurately reported and corresponds with the provided ground truth data. Additionally, the explanation of how each feature influences the prediction is clear and logically presented.\\n\\nThe response also thoughtfully touches on potential ethical considerations regarding the influence of demographic features on the model's predictions, highlighting concerns about fairness. This shows a deeper understanding of the implications of the analysis beyond just the numerical data.\\n\\nOverall, the assistant's response is accurate, detailed, and aligns perfectly with the reference data provided in the ground truth. It effectively communicates the impact of individual features on the prediction outcome, making it highly informative and relevant to the user's query.\\n\\nRating: [[10]]\""
            ],
            "application/vnd.google.colaboratory.intrinsic+json": {
              "type": "string"
            }
          },
          "metadata": {},
          "execution_count": 108
        }
      ]
    },
    {
      "cell_type": "code",
      "source": [
        "print(json.dumps(eval_accuracy, indent=4))"
      ],
      "metadata": {
        "colab": {
          "base_uri": "https://localhost:8080/"
        },
        "id": "lMUTgUqdOQYe",
        "outputId": "62b4364e-627b-4bb1-e468-6d32791d8348"
      },
      "execution_count": null,
      "outputs": [
        {
          "output_type": "stream",
          "name": "stdout",
          "text": [
            "[\n",
            "    {\n",
            "        \"reasoning\": \"The AI assistant's response provides a detailed analysis of the SHAP values for the 0 observation, focusing on the impact of various features on the model's prediction. The assistant correctly identifies and explains the significance of features such as marital status, relationship, hours-per-week, occupation, education, capital gain, capital loss, and age. The explanation includes whether each feature has a positive or negative impact on the prediction, which aligns with the provided SHAP values in the ground truth.\\n\\nThe response is well-structured, with each significant feature discussed in terms of its SHAP value and its effect on the model's prediction. The assistant also correctly interprets the direction of the impact (positive or negative) for each feature, which is crucial for understanding how these features influence the prediction outcome.\\n\\nOverall, the assistant's response is accurate, aligns perfectly with the reference SHAP values, and provides a clear and comprehensive explanation of how each feature affects the model's prediction for the specific observation. The response is free from errors or omissions and effectively communicates the importance of each feature based on the SHAP analysis.\\n\\nRating: [[10]]\",\n",
            "        \"score\": 10\n",
            "    },\n",
            "    {\n",
            "        \"reasoning\": \"The AI assistant's response provides a detailed and accurate analysis of the SHAP values for a specific observation, aligning well with the ground truth data provided. The assistant correctly identifies and explains the influence of various features such as age, fnlwgt, capital-gain, capital-loss, and hours-per-week, as well as categorical features like marital status, education, and occupation. The explanation includes both the direction (positive or negative) and the magnitude of the influence on the model's prediction, which is crucial for understanding the SHAP analysis.\\n\\nThe response is structured in a way that is easy to follow, breaking down the analysis by individual features and highlighting the most influential factors in the prediction. This approach helps in understanding the relative importance of different features in the model's decision-making process.\\n\\nOverall, the assistant's answer is comprehensive, accurate, and aligns perfectly with the reference data provided, demonstrating a correct application of SHAP values in explaining the model's prediction for the given observation.\\n\\nRating: [[10]]\",\n",
            "        \"score\": 10\n",
            "    },\n",
            "    {\n",
            "        \"reasoning\": \"The assistant's response provides a detailed SHAP analysis for the observation at index 2, focusing on the impact of various features on the model's prediction. The response correctly identifies and explains the influence of features such as capital loss, marital status, hours per week, occupation, relationship, education, race, and sex, aligning with the provided SHAP values. The explanation of each feature's impact is accurate and reflects the data from the ground truth, including both positive and negative influences on the prediction.\\n\\nThe assistant also appropriately discusses potential biases in the model, particularly concerning the features of marital status and sex, which adds depth to the analysis by considering ethical implications.\\n\\nOverall, the response is comprehensive, accurate, and aligns well with the provided SHAP values, effectively explaining how each feature contributes to the model's prediction.\\n\\nRating: [[10]]\",\n",
            "        \"score\": 10\n",
            "    },\n",
            "    {\n",
            "        \"reasoning\": \"The assistant's response provides a detailed SHAP analysis for the observation at index 3, focusing on the impact of various features on the model's prediction regarding an individual's likelihood of earning more than $50K. The response lists several features along with their SHAP values and explains the direction of their impact (negative in this case), which aligns with the ground truth data provided.\\n\\nThe assistant correctly identifies and explains the influence of features such as relationship status, marital status, occupation, hours per week, education, capital loss, and age. Each feature's SHAP value is accurately reported, and the explanation of how these features affect the prediction is logically consistent with the values. The assistant also appropriately highlights the ethical considerations of using certain socio-demographic features in predictive modeling, which is an important aspect of SHAP analysis discussions.\\n\\nOverall, the response is accurate, detailed, and aligns well with the provided ground truth data. It effectively communicates how each feature influences the model's prediction and responsibly notes potential biases.\\n\\nRating: [[10]]\",\n",
            "        \"score\": 10\n",
            "    },\n",
            "    {\n",
            "        \"reasoning\": \"The AI assistant's response provides a detailed SHAP analysis for the observation at index 4, focusing on the most influential features that contribute to the model's prediction. The response lists specific features along with their SHAP values and explains the direction of their impact (positive or negative) on the model's prediction of income over $50K.\\n\\nThe assistant correctly identifies and quantifies the influence of features such as marital status, education level, relationship status, capital gain, hours worked per week, age, and occupation. Each feature's SHAP value is accurately reported and corresponds with the provided ground truth data. Additionally, the explanation of how each feature influences the prediction is clear and logically presented.\\n\\nThe response also thoughtfully touches on potential ethical considerations regarding the influence of demographic features on the model's predictions, highlighting concerns about fairness. This shows a deeper understanding of the implications of the analysis beyond just the numerical data.\\n\\nOverall, the assistant's response is accurate, detailed, and aligns perfectly with the reference data provided in the ground truth. It effectively communicates the impact of individual features on the prediction outcome, making it highly informative and relevant to the user's query.\\n\\nRating: [[10]]\",\n",
            "        \"score\": 10\n",
            "    }\n",
            "]\n"
          ]
        }
      ]
    },
    {
      "cell_type": "markdown",
      "source": [
        "Evaluation of Cost"
      ],
      "metadata": {
        "id": "pC4yHwRZFIAD"
      }
    },
    {
      "cell_type": "code",
      "source": [
        "from langchain_community.callbacks import get_openai_callback"
      ],
      "metadata": {
        "id": "s7iPfepmEo-a"
      },
      "execution_count": null,
      "outputs": []
    },
    {
      "cell_type": "code",
      "source": [
        "with get_openai_callback() as cb:\n",
        "    response = evaluator_helpfull.evaluate_strings(prediction = shap_answers_0,\n",
        "                                         input = questions[0],\n",
        "                                         reference = eval_data[0])\n",
        "    print(f\"Total Tokens: {cb.total_tokens}\")\n",
        "    print(f\"Prompt Tokens: {cb.prompt_tokens}\")\n",
        "    print(f\"Completion Tokens: {cb.completion_tokens}\")\n",
        "    print(f\"Total Cost (USD): ${cb.total_cost}\")"
      ],
      "metadata": {
        "id": "V2Dy07AbEmVT"
      },
      "execution_count": null,
      "outputs": []
    },
    {
      "cell_type": "code",
      "source": [
        "with get_openai_callback() as cb:\n",
        "    response = agent_executor.invoke({\"input\": \"Provide me a SHAP analysis of the index 0 observation\"})\n",
        "    print(f\"Total Tokens: {cb.total_tokens}\")\n",
        "    print(f\"Prompt Tokens: {cb.prompt_tokens}\")\n",
        "    print(f\"Completion Tokens: {cb.completion_tokens}\")\n",
        "    print(f\"Total Cost (USD): ${cb.total_cost}\")"
      ],
      "metadata": {
        "id": "4LhybTrwFkli",
        "outputId": "7a423d09-7e6b-491b-b9be-0a1808d4fd55",
        "colab": {
          "base_uri": "https://localhost:8080/"
        }
      },
      "execution_count": null,
      "outputs": [
        {
          "output_type": "stream",
          "name": "stdout",
          "text": [
            "\n",
            "\n",
            "\u001b[1m> Entering new AgentExecutor chain...\u001b[0m\n",
            "\u001b[32;1m\u001b[1;3mFor the observation at index 0, the SHAP values indicate the impact of each feature on the model's prediction. Here's a detailed analysis of the SHAP values for this observation:\n",
            "\n",
            "- **age**: SHAP value of -0.0639868, indicating that the age of the individual slightly decreases the likelihood of the income being above $50K.\n",
            "- **fnlwgt**: SHAP value of 5.12753e-05, which has a very minimal impact on the prediction.\n",
            "- **capital-gain**: SHAP value of -0.0218751, suggesting that the capital gain reported by this individual decreases the likelihood of having an income above $50K.\n",
            "- **capital-loss**: SHAP value of -0.00622238, also contributing to a decrease in the likelihood of a higher income.\n",
            "- **hours-per-week**: SHAP value of -0.047906, indicating that the number of hours worked per week significantly decreases the likelihood of the income being above $50K.\n",
            "\n",
            "Among the categorical features:\n",
            "- **marital-status_Married-civ-spouse**: SHAP value of 0.0632274, which significantly increases the likelihood of having an income above $50K. This is the most impactful positive feature for this prediction.\n",
            "- **occupation_Handlers-cleaners**: SHAP value of -0.0212353, which significantly decreases the likelihood of having an income above $50K.\n",
            "- **relationship_Husband**: SHAP value of 0.0253015, which increases the likelihood of having an income above $50K.\n",
            "\n",
            "Other features have smaller SHAP values, indicating less impact on the model's prediction for this particular observation.\n",
            "\n",
            "Overall, the most influential factors for this prediction are the marital status being married to a civilian spouse, the occupation as a handler or cleaner, and the relationship status as a husband. These factors, along with the number of hours worked per week and the age, are the key drivers behind the model's prediction that this individual's income is below $50K (as indicated by the actual class and prediction both being 0).\u001b[0m\n",
            "\n",
            "\u001b[1m> Finished chain.\u001b[0m\n",
            "Total Tokens: 0\n",
            "Prompt Tokens: 0\n",
            "Completion Tokens: 0\n",
            "Total Cost (USD): $0.0\n"
          ]
        }
      ]
    }
  ]
}