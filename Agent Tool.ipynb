{
  "nbformat": 4,
  "nbformat_minor": 0,
  "metadata": {
    "colab": {
      "provenance": [],
      "gpuType": "T4",
      "toc_visible": true,
      "include_colab_link": true
    },
    "kernelspec": {
      "name": "python3",
      "display_name": "Python 3"
    },
    "language_info": {
      "name": "python"
    },
    "accelerator": "GPU"
  },
  "cells": [
    {
      "cell_type": "markdown",
      "metadata": {
        "id": "view-in-github",
        "colab_type": "text"
      },
      "source": [
        "<a href=\"https://colab.research.google.com/github/josephmailil1/Speciale---Stibo/blob/main/Agent%20Tool.ipynb\" target=\"_parent\"><img src=\"https://colab.research.google.com/assets/colab-badge.svg\" alt=\"Open In Colab\"/></a>"
      ]
    },
    {
      "cell_type": "code",
      "execution_count": 20,
      "metadata": {
        "id": "DKBssQelOeBe"
      },
      "outputs": [],
      "source": [
        "%pip install -qU langchain langchain-openai langchain-community langchain-experimental pandas"
      ]
    },
    {
      "cell_type": "code",
      "source": [
        "from google.colab import userdata\n",
        "openai_api_key = userdata.get('OpenAI_Key') #use the name of your colab key"
      ],
      "metadata": {
        "id": "y3urI6ZIOqCf"
      },
      "execution_count": 21,
      "outputs": []
    },
    {
      "cell_type": "code",
      "source": [
        "import pandas as pd"
      ],
      "metadata": {
        "id": "d2FncfW4ah78"
      },
      "execution_count": 22,
      "outputs": []
    },
    {
      "cell_type": "code",
      "source": [
        "from google.colab import drive\n",
        "drive.mount('/content/drive/')"
      ],
      "metadata": {
        "colab": {
          "base_uri": "https://localhost:8080/"
        },
        "id": "RHzF72Mbaktp",
        "outputId": "4eeea72d-37eb-427d-f1ae-2a20e9304737"
      },
      "execution_count": 23,
      "outputs": [
        {
          "output_type": "stream",
          "name": "stdout",
          "text": [
            "Drive already mounted at /content/drive/; to attempt to forcibly remount, call drive.mount(\"/content/drive/\", force_remount=True).\n"
          ]
        }
      ]
    },
    {
      "cell_type": "code",
      "source": [
        "import os\n",
        "os.chdir(\"/content/drive/My Drive/Speciale\")"
      ],
      "metadata": {
        "id": "GApOVguMal-O"
      },
      "execution_count": 24,
      "outputs": []
    },
    {
      "cell_type": "markdown",
      "source": [
        "## Load data"
      ],
      "metadata": {
        "id": "DcclwSqP3y7f"
      }
    },
    {
      "cell_type": "code",
      "source": [
        "shap = pd.read_csv(\"shap_noincome.csv\")\n",
        "data = pd.read_csv(\"basedata.csv\")"
      ],
      "metadata": {
        "id": "ENMu9GOAO4c2"
      },
      "execution_count": 25,
      "outputs": []
    },
    {
      "cell_type": "code",
      "source": [
        "from langchain_openai import ChatOpenAI\n",
        "\n",
        "llm = ChatOpenAI(model=\"gpt-4-turbo\", temperature=0, openai_api_key=openai_api_key)"
      ],
      "metadata": {
        "id": "_unAK9uuPT1U"
      },
      "execution_count": 26,
      "outputs": []
    },
    {
      "cell_type": "code",
      "source": [
        "from langchain_experimental.tools import PythonAstREPLTool"
      ],
      "metadata": {
        "id": "XYFK3Ux7Pz-_"
      },
      "execution_count": 27,
      "outputs": []
    },
    {
      "cell_type": "code",
      "source": [
        "tools = [PythonAstREPLTool(locals={\"data\": data, \"shap\": shap})]"
      ],
      "metadata": {
        "id": "fq-Xbo28Qm9X"
      },
      "execution_count": 28,
      "outputs": []
    },
    {
      "cell_type": "code",
      "source": [
        "llm_with_tools = llm.bind_tools(tools)"
      ],
      "metadata": {
        "id": "EB_HkbpIQeTL"
      },
      "execution_count": 29,
      "outputs": []
    },
    {
      "cell_type": "code",
      "source": [
        "from langchain.output_parsers import JsonOutputToolsParser"
      ],
      "metadata": {
        "id": "sQWutQRMQmn8"
      },
      "execution_count": 30,
      "outputs": []
    },
    {
      "cell_type": "code",
      "source": [
        "parser = JsonOutputToolsParser(tool = tools)"
      ],
      "metadata": {
        "id": "dKUA_eLTRJUd"
      },
      "execution_count": 31,
      "outputs": []
    },
    {
      "cell_type": "markdown",
      "source": [
        "# Prompt Template"
      ],
      "metadata": {
        "id": "_Rc1Tb5p32EH"
      }
    },
    {
      "cell_type": "code",
      "source": [
        "from langchain_core.prompts import ChatPromptTemplate, MessagesPlaceholder\n",
        "\n",
        "prompt = ChatPromptTemplate.from_messages(\n",
        "    [\n",
        "        (\n",
        "            \"system\",\n",
        "            f\"\"\"You have access to a pandas dataframe `data`. \\\n",
        "            This is the final dataframe that was used to predict Income with, using a Random Forest ML model. \\\n",
        "            The dataset is a publicly available dataset called `adult census`, where prediction task is to determine whether a person makes over $50K a year. \\\n",
        "            Here is the output of `data.head().to_markdown()`:\n",
        "\n",
        "              ```\n",
        "            {data.head().to_markdown()}\n",
        "            ```\n",
        "            You are also given the pandas dateframe `shap`. This dataframe contains shap values for the test set obsevations. \\\n",
        "            The shap obsevation shows which values are important for the final prediction of each local prediction.\n",
        "            ```\n",
        "            {shap.head().to_markdown()}\n",
        "            ```\n",
        "\n",
        "            If asked about the importance/relevance of obsevations or features, use the `shap` dataframe to answer. \\\n",
        "            A high absolute value of the shap dataset means that the value is relevant. \\\n",
        "            If a prediction is made on race, sex, native-country or age please highlight the possibility that the individual is a victim of discrimination \\\n",
        "\n",
        "            Use the `data` dataframe to answer question about what the input values to the obsevation is. \\\n",
        "\n",
        "            Respond directly to the question once you have enough information to answer it. \\\n",
        "            Please add context to your answers, and try to explain the implications of the result.\"\"\",\n",
        "        ),\n",
        "        (\"user\", \"{input}\"),\n",
        "        MessagesPlaceholder(variable_name=\"agent_scratchpad\"),\n",
        "    ]\n",
        ")"
      ],
      "metadata": {
        "id": "wTitdN2KTaPd"
      },
      "execution_count": 33,
      "outputs": []
    },
    {
      "cell_type": "markdown",
      "source": [
        "# Agent"
      ],
      "metadata": {
        "id": "S8pTwd1M36Vf"
      }
    },
    {
      "cell_type": "code",
      "source": [
        "from langchain.agents.format_scratchpad.openai_tools import (\n",
        "    format_to_openai_tool_messages,\n",
        ")\n",
        "from langchain.agents.output_parsers.openai_tools import OpenAIToolsAgentOutputParser\n",
        "\n",
        "agent = (\n",
        "    {\n",
        "        \"input\": lambda x: x[\"input\"],\n",
        "        \"agent_scratchpad\": lambda x: format_to_openai_tool_messages(\n",
        "            x[\"intermediate_steps\"]\n",
        "        ),\n",
        "    }\n",
        "    | prompt\n",
        "    | llm_with_tools\n",
        "    | OpenAIToolsAgentOutputParser()\n",
        ")"
      ],
      "metadata": {
        "id": "YbD_WYHgTcrj"
      },
      "execution_count": 34,
      "outputs": []
    },
    {
      "cell_type": "code",
      "source": [
        "from langchain.agents import AgentExecutor\n",
        "\n",
        "agent_executor = AgentExecutor(agent=agent, tools=tools, verbose=True, return_intermediate_steps = False)"
      ],
      "metadata": {
        "id": "BvB5FYX_Te3a"
      },
      "execution_count": 35,
      "outputs": []
    },
    {
      "cell_type": "code",
      "source": [
        "import warnings\n",
        "warnings.filterwarnings('ignore')"
      ],
      "metadata": {
        "id": "wz-TRAikUyOL"
      },
      "execution_count": 36,
      "outputs": []
    },
    {
      "cell_type": "code",
      "source": [
        "def call_agent(Question):\n",
        "    answer = agent_executor.invoke({\"input\": Question})\n",
        "    return answer['output']"
      ],
      "metadata": {
        "id": "NFTfvQ3BXEYY"
      },
      "execution_count": 37,
      "outputs": []
    },
    {
      "cell_type": "markdown",
      "source": [
        "# Gradio"
      ],
      "metadata": {
        "id": "GttIOINf3-A-"
      }
    },
    {
      "cell_type": "code",
      "source": [
        "pip install gradio"
      ],
      "metadata": {
        "id": "14WVQ8sWY5VB",
        "outputId": "d0904d0c-0885-423e-dd4d-6bb91d311047",
        "colab": {
          "base_uri": "https://localhost:8080/"
        }
      },
      "execution_count": 38,
      "outputs": [
        {
          "output_type": "stream",
          "name": "stdout",
          "text": [
            "Collecting gradio\n",
            "  Downloading gradio-4.31.0-py3-none-any.whl (12.3 MB)\n",
            "\u001b[2K     \u001b[90m━━━━━━━━━━━━━━━━━━━━━━━━━━━━━━━━━━━━━━━━\u001b[0m \u001b[32m12.3/12.3 MB\u001b[0m \u001b[31m20.6 MB/s\u001b[0m eta \u001b[36m0:00:00\u001b[0m\n",
            "\u001b[?25hCollecting aiofiles<24.0,>=22.0 (from gradio)\n",
            "  Downloading aiofiles-23.2.1-py3-none-any.whl (15 kB)\n",
            "Requirement already satisfied: altair<6.0,>=4.2.0 in /usr/local/lib/python3.10/dist-packages (from gradio) (4.2.2)\n",
            "Collecting fastapi (from gradio)\n",
            "  Downloading fastapi-0.111.0-py3-none-any.whl (91 kB)\n",
            "\u001b[2K     \u001b[90m━━━━━━━━━━━━━━━━━━━━━━━━━━━━━━━━━━━━━━━━\u001b[0m \u001b[32m92.0/92.0 kB\u001b[0m \u001b[31m5.1 MB/s\u001b[0m eta \u001b[36m0:00:00\u001b[0m\n",
            "\u001b[?25hCollecting ffmpy (from gradio)\n",
            "  Downloading ffmpy-0.3.2.tar.gz (5.5 kB)\n",
            "  Preparing metadata (setup.py) ... \u001b[?25l\u001b[?25hdone\n",
            "Collecting gradio-client==0.16.2 (from gradio)\n",
            "  Downloading gradio_client-0.16.2-py3-none-any.whl (315 kB)\n",
            "\u001b[2K     \u001b[90m━━━━━━━━━━━━━━━━━━━━━━━━━━━━━━━━━━━━━━━━\u001b[0m \u001b[32m315.5/315.5 kB\u001b[0m \u001b[31m19.1 MB/s\u001b[0m eta \u001b[36m0:00:00\u001b[0m\n",
            "\u001b[?25hRequirement already satisfied: httpx>=0.24.1 in /usr/local/lib/python3.10/dist-packages (from gradio) (0.27.0)\n",
            "Requirement already satisfied: huggingface-hub>=0.19.3 in /usr/local/lib/python3.10/dist-packages (from gradio) (0.20.3)\n",
            "Requirement already satisfied: importlib-resources<7.0,>=1.3 in /usr/local/lib/python3.10/dist-packages (from gradio) (6.4.0)\n",
            "Requirement already satisfied: jinja2<4.0 in /usr/local/lib/python3.10/dist-packages (from gradio) (3.1.4)\n",
            "Requirement already satisfied: markupsafe~=2.0 in /usr/local/lib/python3.10/dist-packages (from gradio) (2.1.5)\n",
            "Requirement already satisfied: matplotlib~=3.0 in /usr/local/lib/python3.10/dist-packages (from gradio) (3.7.1)\n",
            "Requirement already satisfied: numpy~=1.0 in /usr/local/lib/python3.10/dist-packages (from gradio) (1.25.2)\n",
            "Requirement already satisfied: orjson~=3.0 in /usr/local/lib/python3.10/dist-packages (from gradio) (3.10.3)\n",
            "Requirement already satisfied: packaging in /usr/local/lib/python3.10/dist-packages (from gradio) (23.2)\n",
            "Requirement already satisfied: pandas<3.0,>=1.0 in /usr/local/lib/python3.10/dist-packages (from gradio) (2.2.2)\n",
            "Requirement already satisfied: pillow<11.0,>=8.0 in /usr/local/lib/python3.10/dist-packages (from gradio) (9.4.0)\n",
            "Requirement already satisfied: pydantic>=2.0 in /usr/local/lib/python3.10/dist-packages (from gradio) (2.7.1)\n",
            "Collecting pydub (from gradio)\n",
            "  Downloading pydub-0.25.1-py2.py3-none-any.whl (32 kB)\n",
            "Collecting python-multipart>=0.0.9 (from gradio)\n",
            "  Downloading python_multipart-0.0.9-py3-none-any.whl (22 kB)\n",
            "Requirement already satisfied: pyyaml<7.0,>=5.0 in /usr/local/lib/python3.10/dist-packages (from gradio) (6.0.1)\n",
            "Collecting ruff>=0.2.2 (from gradio)\n",
            "  Downloading ruff-0.4.4-py3-none-manylinux_2_17_x86_64.manylinux2014_x86_64.whl (8.7 MB)\n",
            "\u001b[2K     \u001b[90m━━━━━━━━━━━━━━━━━━━━━━━━━━━━━━━━━━━━━━━━\u001b[0m \u001b[32m8.7/8.7 MB\u001b[0m \u001b[31m54.6 MB/s\u001b[0m eta \u001b[36m0:00:00\u001b[0m\n",
            "\u001b[?25hCollecting semantic-version~=2.0 (from gradio)\n",
            "  Downloading semantic_version-2.10.0-py2.py3-none-any.whl (15 kB)\n",
            "Collecting tomlkit==0.12.0 (from gradio)\n",
            "  Downloading tomlkit-0.12.0-py3-none-any.whl (37 kB)\n",
            "Collecting typer<1.0,>=0.12 (from gradio)\n",
            "  Downloading typer-0.12.3-py3-none-any.whl (47 kB)\n",
            "\u001b[2K     \u001b[90m━━━━━━━━━━━━━━━━━━━━━━━━━━━━━━━━━━━━━━━━\u001b[0m \u001b[32m47.2/47.2 kB\u001b[0m \u001b[31m5.4 MB/s\u001b[0m eta \u001b[36m0:00:00\u001b[0m\n",
            "\u001b[?25hRequirement already satisfied: typing-extensions~=4.0 in /usr/local/lib/python3.10/dist-packages (from gradio) (4.11.0)\n",
            "Requirement already satisfied: urllib3~=2.0 in /usr/local/lib/python3.10/dist-packages (from gradio) (2.0.7)\n",
            "Collecting uvicorn>=0.14.0 (from gradio)\n",
            "  Downloading uvicorn-0.29.0-py3-none-any.whl (60 kB)\n",
            "\u001b[2K     \u001b[90m━━━━━━━━━━━━━━━━━━━━━━━━━━━━━━━━━━━━━━━━\u001b[0m \u001b[32m60.8/60.8 kB\u001b[0m \u001b[31m8.2 MB/s\u001b[0m eta \u001b[36m0:00:00\u001b[0m\n",
            "\u001b[?25hRequirement already satisfied: fsspec in /usr/local/lib/python3.10/dist-packages (from gradio-client==0.16.2->gradio) (2023.6.0)\n",
            "Collecting websockets<12.0,>=10.0 (from gradio-client==0.16.2->gradio)\n",
            "  Downloading websockets-11.0.3-cp310-cp310-manylinux_2_5_x86_64.manylinux1_x86_64.manylinux_2_17_x86_64.manylinux2014_x86_64.whl (129 kB)\n",
            "\u001b[2K     \u001b[90m━━━━━━━━━━━━━━━━━━━━━━━━━━━━━━━━━━━━━━━━\u001b[0m \u001b[32m129.9/129.9 kB\u001b[0m \u001b[31m19.2 MB/s\u001b[0m eta \u001b[36m0:00:00\u001b[0m\n",
            "\u001b[?25hRequirement already satisfied: entrypoints in /usr/local/lib/python3.10/dist-packages (from altair<6.0,>=4.2.0->gradio) (0.4)\n",
            "Requirement already satisfied: jsonschema>=3.0 in /usr/local/lib/python3.10/dist-packages (from altair<6.0,>=4.2.0->gradio) (4.19.2)\n",
            "Requirement already satisfied: toolz in /usr/local/lib/python3.10/dist-packages (from altair<6.0,>=4.2.0->gradio) (0.12.1)\n",
            "Requirement already satisfied: anyio in /usr/local/lib/python3.10/dist-packages (from httpx>=0.24.1->gradio) (3.7.1)\n",
            "Requirement already satisfied: certifi in /usr/local/lib/python3.10/dist-packages (from httpx>=0.24.1->gradio) (2024.2.2)\n",
            "Requirement already satisfied: httpcore==1.* in /usr/local/lib/python3.10/dist-packages (from httpx>=0.24.1->gradio) (1.0.5)\n",
            "Requirement already satisfied: idna in /usr/local/lib/python3.10/dist-packages (from httpx>=0.24.1->gradio) (3.7)\n",
            "Requirement already satisfied: sniffio in /usr/local/lib/python3.10/dist-packages (from httpx>=0.24.1->gradio) (1.3.1)\n",
            "Requirement already satisfied: h11<0.15,>=0.13 in /usr/local/lib/python3.10/dist-packages (from httpcore==1.*->httpx>=0.24.1->gradio) (0.14.0)\n",
            "Requirement already satisfied: filelock in /usr/local/lib/python3.10/dist-packages (from huggingface-hub>=0.19.3->gradio) (3.14.0)\n",
            "Requirement already satisfied: requests in /usr/local/lib/python3.10/dist-packages (from huggingface-hub>=0.19.3->gradio) (2.31.0)\n",
            "Requirement already satisfied: tqdm>=4.42.1 in /usr/local/lib/python3.10/dist-packages (from huggingface-hub>=0.19.3->gradio) (4.66.4)\n",
            "Requirement already satisfied: contourpy>=1.0.1 in /usr/local/lib/python3.10/dist-packages (from matplotlib~=3.0->gradio) (1.2.1)\n",
            "Requirement already satisfied: cycler>=0.10 in /usr/local/lib/python3.10/dist-packages (from matplotlib~=3.0->gradio) (0.12.1)\n",
            "Requirement already satisfied: fonttools>=4.22.0 in /usr/local/lib/python3.10/dist-packages (from matplotlib~=3.0->gradio) (4.51.0)\n",
            "Requirement already satisfied: kiwisolver>=1.0.1 in /usr/local/lib/python3.10/dist-packages (from matplotlib~=3.0->gradio) (1.4.5)\n",
            "Requirement already satisfied: pyparsing>=2.3.1 in /usr/local/lib/python3.10/dist-packages (from matplotlib~=3.0->gradio) (3.1.2)\n",
            "Requirement already satisfied: python-dateutil>=2.7 in /usr/local/lib/python3.10/dist-packages (from matplotlib~=3.0->gradio) (2.8.2)\n",
            "Requirement already satisfied: pytz>=2020.1 in /usr/local/lib/python3.10/dist-packages (from pandas<3.0,>=1.0->gradio) (2023.4)\n",
            "Requirement already satisfied: tzdata>=2022.7 in /usr/local/lib/python3.10/dist-packages (from pandas<3.0,>=1.0->gradio) (2024.1)\n",
            "Requirement already satisfied: annotated-types>=0.4.0 in /usr/local/lib/python3.10/dist-packages (from pydantic>=2.0->gradio) (0.6.0)\n",
            "Requirement already satisfied: pydantic-core==2.18.2 in /usr/local/lib/python3.10/dist-packages (from pydantic>=2.0->gradio) (2.18.2)\n",
            "Requirement already satisfied: click>=8.0.0 in /usr/local/lib/python3.10/dist-packages (from typer<1.0,>=0.12->gradio) (8.1.7)\n",
            "Collecting shellingham>=1.3.0 (from typer<1.0,>=0.12->gradio)\n",
            "  Downloading shellingham-1.5.4-py2.py3-none-any.whl (9.8 kB)\n",
            "Requirement already satisfied: rich>=10.11.0 in /usr/local/lib/python3.10/dist-packages (from typer<1.0,>=0.12->gradio) (13.7.1)\n",
            "Collecting starlette<0.38.0,>=0.37.2 (from fastapi->gradio)\n",
            "  Downloading starlette-0.37.2-py3-none-any.whl (71 kB)\n",
            "\u001b[2K     \u001b[90m━━━━━━━━━━━━━━━━━━━━━━━━━━━━━━━━━━━━━━━━\u001b[0m \u001b[32m71.9/71.9 kB\u001b[0m \u001b[31m11.5 MB/s\u001b[0m eta \u001b[36m0:00:00\u001b[0m\n",
            "\u001b[?25hCollecting fastapi-cli>=0.0.2 (from fastapi->gradio)\n",
            "  Downloading fastapi_cli-0.0.3-py3-none-any.whl (9.2 kB)\n",
            "Collecting ujson!=4.0.2,!=4.1.0,!=4.2.0,!=4.3.0,!=5.0.0,!=5.1.0,>=4.0.1 (from fastapi->gradio)\n",
            "  Downloading ujson-5.9.0-cp310-cp310-manylinux_2_17_x86_64.manylinux2014_x86_64.whl (53 kB)\n",
            "\u001b[2K     \u001b[90m━━━━━━━━━━━━━━━━━━━━━━━━━━━━━━━━━━━━━━━━\u001b[0m \u001b[32m53.2/53.2 kB\u001b[0m \u001b[31m9.1 MB/s\u001b[0m eta \u001b[36m0:00:00\u001b[0m\n",
            "\u001b[?25hCollecting email_validator>=2.0.0 (from fastapi->gradio)\n",
            "  Downloading email_validator-2.1.1-py3-none-any.whl (30 kB)\n",
            "Collecting dnspython>=2.0.0 (from email_validator>=2.0.0->fastapi->gradio)\n",
            "  Downloading dnspython-2.6.1-py3-none-any.whl (307 kB)\n",
            "\u001b[2K     \u001b[90m━━━━━━━━━━━━━━━━━━━━━━━━━━━━━━━━━━━━━━━━\u001b[0m \u001b[32m307.7/307.7 kB\u001b[0m \u001b[31m44.0 MB/s\u001b[0m eta \u001b[36m0:00:00\u001b[0m\n",
            "\u001b[?25hRequirement already satisfied: attrs>=22.2.0 in /usr/local/lib/python3.10/dist-packages (from jsonschema>=3.0->altair<6.0,>=4.2.0->gradio) (23.2.0)\n",
            "Requirement already satisfied: jsonschema-specifications>=2023.03.6 in /usr/local/lib/python3.10/dist-packages (from jsonschema>=3.0->altair<6.0,>=4.2.0->gradio) (2023.12.1)\n",
            "Requirement already satisfied: referencing>=0.28.4 in /usr/local/lib/python3.10/dist-packages (from jsonschema>=3.0->altair<6.0,>=4.2.0->gradio) (0.35.1)\n",
            "Requirement already satisfied: rpds-py>=0.7.1 in /usr/local/lib/python3.10/dist-packages (from jsonschema>=3.0->altair<6.0,>=4.2.0->gradio) (0.18.1)\n",
            "Requirement already satisfied: six>=1.5 in /usr/local/lib/python3.10/dist-packages (from python-dateutil>=2.7->matplotlib~=3.0->gradio) (1.16.0)\n",
            "Requirement already satisfied: markdown-it-py>=2.2.0 in /usr/local/lib/python3.10/dist-packages (from rich>=10.11.0->typer<1.0,>=0.12->gradio) (3.0.0)\n",
            "Requirement already satisfied: pygments<3.0.0,>=2.13.0 in /usr/local/lib/python3.10/dist-packages (from rich>=10.11.0->typer<1.0,>=0.12->gradio) (2.16.1)\n",
            "Requirement already satisfied: exceptiongroup in /usr/local/lib/python3.10/dist-packages (from anyio->httpx>=0.24.1->gradio) (1.2.1)\n",
            "Collecting httptools>=0.5.0 (from uvicorn>=0.14.0->gradio)\n",
            "  Downloading httptools-0.6.1-cp310-cp310-manylinux_2_5_x86_64.manylinux1_x86_64.manylinux_2_17_x86_64.manylinux2014_x86_64.whl (341 kB)\n",
            "\u001b[2K     \u001b[90m━━━━━━━━━━━━━━━━━━━━━━━━━━━━━━━━━━━━━━━━\u001b[0m \u001b[32m341.4/341.4 kB\u001b[0m \u001b[31m46.1 MB/s\u001b[0m eta \u001b[36m0:00:00\u001b[0m\n",
            "\u001b[?25hCollecting python-dotenv>=0.13 (from uvicorn>=0.14.0->gradio)\n",
            "  Downloading python_dotenv-1.0.1-py3-none-any.whl (19 kB)\n",
            "Collecting uvloop!=0.15.0,!=0.15.1,>=0.14.0 (from uvicorn>=0.14.0->gradio)\n",
            "  Downloading uvloop-0.19.0-cp310-cp310-manylinux_2_17_x86_64.manylinux2014_x86_64.whl (3.4 MB)\n",
            "\u001b[2K     \u001b[90m━━━━━━━━━━━━━━━━━━━━━━━━━━━━━━━━━━━━━━━━\u001b[0m \u001b[32m3.4/3.4 MB\u001b[0m \u001b[31m91.5 MB/s\u001b[0m eta \u001b[36m0:00:00\u001b[0m\n",
            "\u001b[?25hCollecting watchfiles>=0.13 (from uvicorn>=0.14.0->gradio)\n",
            "  Downloading watchfiles-0.21.0-cp310-cp310-manylinux_2_17_x86_64.manylinux2014_x86_64.whl (1.3 MB)\n",
            "\u001b[2K     \u001b[90m━━━━━━━━━━━━━━━━━━━━━━━━━━━━━━━━━━━━━━━━\u001b[0m \u001b[32m1.3/1.3 MB\u001b[0m \u001b[31m90.6 MB/s\u001b[0m eta \u001b[36m0:00:00\u001b[0m\n",
            "\u001b[?25hRequirement already satisfied: charset-normalizer<4,>=2 in /usr/local/lib/python3.10/dist-packages (from requests->huggingface-hub>=0.19.3->gradio) (3.3.2)\n",
            "Requirement already satisfied: mdurl~=0.1 in /usr/local/lib/python3.10/dist-packages (from markdown-it-py>=2.2.0->rich>=10.11.0->typer<1.0,>=0.12->gradio) (0.1.2)\n",
            "Building wheels for collected packages: ffmpy\n",
            "  Building wheel for ffmpy (setup.py) ... \u001b[?25l\u001b[?25hdone\n",
            "  Created wheel for ffmpy: filename=ffmpy-0.3.2-py3-none-any.whl size=5584 sha256=d4181b08c293ec2b2d9cd4bbacdaf5de99034b576afa60bb55deb8dacb5bb4df\n",
            "  Stored in directory: /root/.cache/pip/wheels/bd/65/9a/671fc6dcde07d4418df0c592f8df512b26d7a0029c2a23dd81\n",
            "Successfully built ffmpy\n",
            "Installing collected packages: pydub, ffmpy, websockets, uvloop, uvicorn, ujson, tomlkit, shellingham, semantic-version, ruff, python-multipart, python-dotenv, httptools, dnspython, aiofiles, watchfiles, starlette, email_validator, typer, gradio-client, fastapi-cli, fastapi, gradio\n",
            "  Attempting uninstall: typer\n",
            "    Found existing installation: typer 0.9.4\n",
            "    Uninstalling typer-0.9.4:\n",
            "      Successfully uninstalled typer-0.9.4\n",
            "\u001b[31mERROR: pip's dependency resolver does not currently take into account all the packages that are installed. This behaviour is the source of the following dependency conflicts.\n",
            "spacy 3.7.4 requires typer<0.10.0,>=0.3.0, but you have typer 0.12.3 which is incompatible.\n",
            "weasel 0.3.4 requires typer<0.10.0,>=0.3.0, but you have typer 0.12.3 which is incompatible.\u001b[0m\u001b[31m\n",
            "\u001b[0mSuccessfully installed aiofiles-23.2.1 dnspython-2.6.1 email_validator-2.1.1 fastapi-0.111.0 fastapi-cli-0.0.3 ffmpy-0.3.2 gradio-4.31.0 gradio-client-0.16.2 httptools-0.6.1 pydub-0.25.1 python-dotenv-1.0.1 python-multipart-0.0.9 ruff-0.4.4 semantic-version-2.10.0 shellingham-1.5.4 starlette-0.37.2 tomlkit-0.12.0 typer-0.12.3 ujson-5.9.0 uvicorn-0.29.0 uvloop-0.19.0 watchfiles-0.21.0 websockets-11.0.3\n"
          ]
        }
      ]
    },
    {
      "cell_type": "code",
      "source": [
        "import gradio as gr"
      ],
      "metadata": {
        "id": "gsoWHlO3Y52g"
      },
      "execution_count": 39,
      "outputs": []
    },
    {
      "cell_type": "code",
      "source": [
        "demo = gr.Interface(\n",
        "    fn=call_agent,\n",
        "    inputs=[\"text\"],\n",
        "    outputs=[gr.Text(label = \"Answer\")],\n",
        "    theme = \"Soft\",\n",
        "    title = 'Adult Census Explanation',\n",
        "    description = \"Explanation of Random Forest Prediction Modelling and SHAP values for local interpretation\",\n",
        "    examples=[\"Explain the 1st obsevation\", \"What is the model accuracy\", \"What are the reason for the 58th obsevation\"],\n",
        "    allow_flagging = \"never\"\n",
        ")"
      ],
      "metadata": {
        "id": "OXVF8dy-Y99Z"
      },
      "execution_count": 40,
      "outputs": []
    },
    {
      "cell_type": "code",
      "source": [
        "demo.launch()"
      ],
      "metadata": {
        "id": "JFVU_HaoY_38",
        "outputId": "1af6ca86-3dd6-43bd-dace-0402b27ed759",
        "colab": {
          "base_uri": "https://localhost:8080/",
          "height": 646
        }
      },
      "execution_count": 41,
      "outputs": [
        {
          "output_type": "stream",
          "name": "stdout",
          "text": [
            "Setting queue=True in a Colab notebook requires sharing enabled. Setting `share=True` (you can turn this off by setting `share=False` in `launch()` explicitly).\n",
            "\n",
            "Colab notebook detected. To show errors in colab notebook, set debug=True in launch()\n",
            "Running on public URL: https://7a5fa62748a801e5fc.gradio.live\n",
            "\n",
            "This share link expires in 72 hours. For free permanent hosting and GPU upgrades, run `gradio deploy` from Terminal to deploy to Spaces (https://huggingface.co/spaces)\n"
          ]
        },
        {
          "output_type": "display_data",
          "data": {
            "text/plain": [
              "<IPython.core.display.HTML object>"
            ],
            "text/html": [
              "<div><iframe src=\"https://7a5fa62748a801e5fc.gradio.live\" width=\"100%\" height=\"500\" allow=\"autoplay; camera; microphone; clipboard-read; clipboard-write;\" frameborder=\"0\" allowfullscreen></iframe></div>"
            ]
          },
          "metadata": {}
        },
        {
          "output_type": "execute_result",
          "data": {
            "text/plain": []
          },
          "metadata": {},
          "execution_count": 41
        }
      ]
    },
    {
      "cell_type": "markdown",
      "source": [
        "# Evaluation Metrics"
      ],
      "metadata": {
        "id": "3BOMkFUMj95B"
      }
    },
    {
      "cell_type": "code",
      "source": [
        "shapsubset = shap.head(5)"
      ],
      "metadata": {
        "id": "ziGx8Ef4j_kh"
      },
      "execution_count": 110,
      "outputs": []
    },
    {
      "cell_type": "code",
      "source": [
        "# Concatenate column names and values into a single column\n",
        "eval_data['concatenated'] = shapsubset.apply(lambda x: ' '.join([f\"{col}:{val}\" for col, val in x.items()]), axis=1)\n",
        "eval_data = eval_data['concatenated'].tolist()"
      ],
      "metadata": {
        "id": "NESwxN3ukQYb"
      },
      "execution_count": 119,
      "outputs": []
    },
    {
      "cell_type": "code",
      "source": [
        "shap_answers = []\n",
        "\n",
        "# Iterate from 1 to 10\n",
        "for i in range(0, 5):\n",
        "    # Generate the question\n",
        "    question = f\"Provide me a SHAP analysis of the {i} observation\"\n",
        "\n",
        "    # Call the function and append the answer to the list\n",
        "    shap_answers.append(call_agent(question))"
      ],
      "metadata": {
        "id": "iWTDx59ylLAN",
        "outputId": "8640c8e9-61a5-4932-d2a4-e02bab222b7e",
        "colab": {
          "base_uri": "https://localhost:8080/"
        }
      },
      "execution_count": 62,
      "outputs": [
        {
          "output_type": "stream",
          "name": "stdout",
          "text": [
            "\n",
            "\n",
            "\u001b[1m> Entering new AgentExecutor chain...\u001b[0m\n",
            "\u001b[32;1m\u001b[1;3mThe SHAP (SHapley Additive exPlanations) values provide insights into the contribution of each feature towards the prediction for a specific observation in the dataset. Here's the SHAP analysis for observation 0:\n",
            "\n",
            "- **age**: SHAP value = -0.0221014, indicating a negative impact on the prediction. This suggests that the age of the individual in this observation slightly decreases the likelihood of the model predicting an income above $50K.\n",
            "- **education-num**: SHAP value = 0.0840737, showing a positive impact. Higher education levels increase the likelihood of predicting a higher income.\n",
            "- **hours-per-week**: SHAP value = -0.0349533, a negative impact, suggesting that the number of hours worked per week in this case decreases the likelihood of a higher income prediction.\n",
            "- **marital-status_Married-civ-spouse**: SHAP value = 0.0487345, a strong positive impact, indicating that being married to a civilian spouse significantly increases the likelihood of a higher income prediction.\n",
            "- **relationship_Husband**: SHAP value = 0.042015, another strong positive impact, reinforcing the effect of marital status and gender roles in the prediction.\n",
            "- **sex_Male**: SHAP value = 0.00899808, a positive impact, suggesting a slight increase in the likelihood of predicting higher income for males.\n",
            "- **native-country_United-States**: SHAP value = -0.0116291, a negative impact, which is interesting as it suggests that being from the United States in this particular case slightly decreases the likelihood of predicting a higher income.\n",
            "\n",
            "The most influential features for this observation are related to marital status, relationship status, and education level, which have significant positive impacts on the prediction of having an income above $50K. The negative impacts from age and hours worked per week are notable but less influential compared to the positive factors.\n",
            "\n",
            "It's important to note that features like sex and native-country could potentially introduce biases into the model. The positive impact of being male and the negative impact of being from the United States could reflect underlying biases in the training data or real-world income disparities that the model has learned. This should be considered carefully, especially when making decisions based on model predictions, to avoid perpetuating or acting on potentially discriminatory biases.\u001b[0m\n",
            "\n",
            "\u001b[1m> Finished chain.\u001b[0m\n",
            "\n",
            "\n",
            "\u001b[1m> Entering new AgentExecutor chain...\u001b[0m\n",
            "\u001b[32;1m\u001b[1;3m\n",
            "Invoking: `python_repl_ast` with `{'query': \"import pandas as pd\\n\\n# Sample SHAP values for the first observation\\ndata = {'age': -0.0221014, 'fnlwgt': 0.000765899, 'education-num': 0.0840737, 'capital-gain': -0.0216558, 'capital-loss': -0.00593328, 'hours-per-week': -0.0349533, 'workclass_Private': 0.00079843, 'education_Bachelors': 0.0240711, 'education_HS-grad': 0.00638818, 'marital-status_Married-civ-spouse': 0.0487345, 'marital-status_Never-married': 0.0310344, 'occupation_Prof-specialty': -0.00636865, 'relationship_Husband': 0.042015, 'relationship_Own-child': 0.00780384, 'race_White': -0.000145214, 'sex_Male': 0.00899808, 'native-country_United-States': -0.0116291}\\nshap_values = pd.Series(data)\\nshap_values.sort_values(key=abs, ascending=False)\"}`\n",
            "responded: To provide a SHAP analysis for the first observation, we will examine the SHAP values from the `shap` dataframe for this specific entry. These values indicate the impact of each feature on the model's prediction for this observation. A positive SHAP value suggests that the feature pushes the model's output higher (towards predicting that the individual makes over $50K), while a negative value indicates a push towards a lower output (towards predicting that the individual makes under $50K).\n",
            "\n",
            "Let's analyze the SHAP values for the first observation.\n",
            "\n",
            "\u001b[0m\u001b[36;1m\u001b[1;3meducation-num                        0.084074\n",
            "marital-status_Married-civ-spouse    0.048735\n",
            "relationship_Husband                 0.042015\n",
            "hours-per-week                      -0.034953\n",
            "marital-status_Never-married         0.031034\n",
            "education_Bachelors                  0.024071\n",
            "age                                 -0.022101\n",
            "capital-gain                        -0.021656\n",
            "native-country_United-States        -0.011629\n",
            "sex_Male                             0.008998\n",
            "relationship_Own-child               0.007804\n",
            "education_HS-grad                    0.006388\n",
            "occupation_Prof-specialty           -0.006369\n",
            "capital-loss                        -0.005933\n",
            "workclass_Private                    0.000798\n",
            "fnlwgt                               0.000766\n",
            "race_White                          -0.000145\n",
            "dtype: float64\u001b[0m\u001b[32;1m\u001b[1;3mThe SHAP analysis for the first observation reveals the following insights about the features that most influenced the model's prediction:\n",
            "\n",
            "1. **Education Number (`education-num`)**: The highest positive impact with a SHAP value of approximately 0.084, suggesting that higher educational attainment strongly pushes the prediction towards a higher income.\n",
            "\n",
            "2. **Marital Status - Married Civil Spouse (`marital-status_Married-civ-spouse`)**: A significant positive SHAP value of about 0.049, indicating that being married to a civilian spouse is a strong predictor of higher income.\n",
            "\n",
            "3. **Relationship - Husband (`relationship_Husband`)**: Another strong positive influence with a SHAP value of approximately 0.042, suggesting that the model associates being a husband with higher income.\n",
            "\n",
            "4. **Hours Per Week (`hours-per-week`)**: This feature has a negative SHAP value of about -0.035, indicating that fewer hours worked per week contribute negatively to the income prediction, suggesting a lower income.\n",
            "\n",
            "5. **Marital Status - Never Married (`marital-status_Never-married`)**: A positive SHAP value of about 0.031, which is interesting as it suggests that never being married also contributes positively to the income prediction in this specific case.\n",
            "\n",
            "6. **Education - Bachelors (`education_Bachelors`)**: A positive SHAP value of about 0.024, reinforcing the importance of higher education levels in predicting higher income.\n",
            "\n",
            "7. **Age (`age`)**: A negative SHAP value of about -0.022, indicating that the age of the individual in this case slightly decreases the likelihood of predicting a higher income.\n",
            "\n",
            "8. **Capital Gain (`capital-gain`)**: A negative impact with a SHAP value of about -0.022, which is counterintuitive as capital gains typically would be expected to increase income predictions.\n",
            "\n",
            "9. **Native Country - United States (`native-country_United-States`)**: A negative SHAP value of about -0.012, suggesting that being from the United States, in this case, slightly decreases the prediction of higher income.\n",
            "\n",
            "10. **Sex - Male (`sex_Male`)**: A positive SHAP value of about 0.009, indicating a slight bias towards predicting higher income for males.\n",
            "\n",
            "These values highlight the features that the model found most relevant in predicting whether the individual earns more than $50K per year. It's important to note that features like sex and marital status having significant impacts could raise concerns about fairness and bias in the model, especially in sensitive applications like income prediction.\u001b[0m\n",
            "\n",
            "\u001b[1m> Finished chain.\u001b[0m\n",
            "\n",
            "\n",
            "\u001b[1m> Entering new AgentExecutor chain...\u001b[0m\n",
            "\u001b[32;1m\u001b[1;3mTo provide a SHAP analysis for the second observation (index 1) from the dataset, we will examine the SHAP values to understand which features had the most impact on the model's prediction for this specific instance. The SHAP values indicate the direction and magnitude of each feature's effect on the model output relative to the average prediction.\n",
            "\n",
            "Let's analyze the SHAP values for the second observation:\n",
            "\n",
            "1. **Feature Contributions**:\n",
            "   - Positive SHAP values indicate features that push the prediction higher (towards predicting income > $50K).\n",
            "   - Negative SHAP values indicate features that push the prediction lower (towards predicting income <= $50K).\n",
            "\n",
            "2. **Top Positive Contributions**:\n",
            "   - `marital-status_Married-civ-spouse`: This feature has a significant positive impact, suggesting that being married to a civilian spouse is associated with higher income predictions.\n",
            "   - `relationship_Husband`: This feature also contributes positively, aligning with traditional roles where husbands are often seen as the primary earners.\n",
            "\n",
            "3. **Top Negative Contributions**:\n",
            "   - `education_HS-grad`: Having only a high school education contributes negatively, suggesting lower income predictions for individuals with this level of education.\n",
            "   - `occupation_Other-service`: Working in other service occupations is negatively impacting the prediction, which might be associated with lower-paying jobs.\n",
            "\n",
            "4. **Other Notable Features**:\n",
            "   - `age`: The age of the individual has a small positive contribution, indicating that age might slightly increase the income prediction.\n",
            "   - `sex_Male`: Being male has a negative contribution in this case, which is interesting as it typically might be expected to have a positive impact based on societal norms.\n",
            "\n",
            "5. **Potential Discriminatory Features**:\n",
            "   - The model uses features like `sex_Male` and `race_White` which could potentially introduce biases based on gender and race. It's crucial to consider the ethical implications of using such features in predictive modeling, especially for sensitive applications like income prediction.\n",
            "\n",
            "This analysis helps us understand how different features influenced the model's prediction for this particular individual. The significant impact of marital status and occupation highlights the model's reliance on these features, which could be reflective of broader societal patterns. However, the use of potentially sensitive features like sex and race necessitates careful consideration to avoid discriminatory practices.\u001b[0m\n",
            "\n",
            "\u001b[1m> Finished chain.\u001b[0m\n",
            "\n",
            "\n",
            "\u001b[1m> Entering new AgentExecutor chain...\u001b[0m\n",
            "\u001b[32;1m\u001b[1;3m\n",
            "Invoking: `python_repl_ast` with `{'query': 'shap.iloc[2]'}`\n",
            "\n",
            "\n",
            "\u001b[0m\u001b[36;1m\u001b[1;3mage                               0.017450\n",
            "fnlwgt                            0.001558\n",
            "education-num                    -0.024280\n",
            "capital-gain                     -0.021520\n",
            "capital-loss                     -0.006243\n",
            "                                    ...   \n",
            "native-country_Trinadad&Tobago    0.000000\n",
            "native-country_United-States      0.000442\n",
            "native-country_Vietnam            0.000000\n",
            "native-country_Yugoslavia         0.000000\n",
            "native-country_nan                0.000000\n",
            "Name: 2, Length: 112, dtype: float64\u001b[0m\u001b[32;1m\u001b[1;3m\n",
            "Invoking: `python_repl_ast` with `{'query': 'data.iloc[2]'}`\n",
            "\n",
            "\n",
            "\u001b[0m\u001b[36;1m\u001b[1;3mAttributeError: 'dict' object has no attribute 'iloc'\u001b[0m\u001b[32;1m\u001b[1;3mIt seems there was an error in retrieving the input values for the third observation. However, I can provide the SHAP analysis for this observation.\n",
            "\n",
            "### SHAP Analysis for Observation 3:\n",
            "- **Age**: SHAP value of 0.017450, indicating a positive impact on the model's output. This suggests that the age of this individual positively influenced the prediction.\n",
            "- **Education-num**: SHAP value of -0.024280, which is a negative influence, suggesting that the number of years of education had a negative impact on the prediction.\n",
            "- **Capital-gain** and **Capital-loss**: Both have negative SHAP values (-0.021520 and -0.006243 respectively), indicating that these financial attributes negatively influenced the prediction.\n",
            "- **Hours-per-week**: SHAP value of 0.028643, a positive influence, suggesting that the number of hours worked per week positively impacted the prediction.\n",
            "- **Marital-status_Married-civ-spouse**: SHAP value of 0.045682, a significant positive influence, indicating that being married to a civilian spouse strongly positively influenced the prediction.\n",
            "- **Relationship_Husband**: SHAP value of 0.031818, another strong positive influence, suggesting that the role within the family as a husband positively impacted the prediction.\n",
            "- **Sex_Male**: SHAP value of 0.011928, indicating a positive influence, suggesting that being male positively influenced the prediction.\n",
            "- **Native-country_United-States**: SHAP value of 0.000442, a slight positive influence, indicating a minor positive impact due to being from the United States.\n",
            "\n",
            "These values suggest that marital status, relationship as a husband, and being male were significant positive factors in the prediction, while education negatively influenced it. This could potentially raise concerns about bias in the model, particularly regarding gender and marital status.\u001b[0m\n",
            "\n",
            "\u001b[1m> Finished chain.\u001b[0m\n",
            "\n",
            "\n",
            "\u001b[1m> Entering new AgentExecutor chain...\u001b[0m\n",
            "\u001b[32;1m\u001b[1;3m\n",
            "Invoking: `python_repl_ast` with `{'query': 'shap.iloc[3]'}`\n",
            "\n",
            "\n",
            "\u001b[0m\u001b[36;1m\u001b[1;3mage                               0.014643\n",
            "fnlwgt                           -0.000331\n",
            "education-num                    -0.026345\n",
            "capital-gain                     -0.020824\n",
            "capital-loss                     -0.005290\n",
            "                                    ...   \n",
            "native-country_Trinadad&Tobago    0.000000\n",
            "native-country_United-States      0.000280\n",
            "native-country_Vietnam            0.000000\n",
            "native-country_Yugoslavia         0.000000\n",
            "native-country_nan                0.000000\n",
            "Name: 3, Length: 112, dtype: float64\u001b[0m\u001b[32;1m\u001b[1;3m\n",
            "Invoking: `python_repl_ast` with `{'query': 'data.iloc[3]'}`\n",
            "\n",
            "\n",
            "\u001b[0m\u001b[36;1m\u001b[1;3mAttributeError: 'dict' object has no attribute 'iloc'\u001b[0m\u001b[32;1m\u001b[1;3m\n",
            "Invoking: `python_repl_ast` with `{'query': 'shap.iloc[3]'}`\n",
            "responded: It seems there was an error in retrieving the input data for the fourth observation. Let me correct that and provide you with the SHAP analysis along with the input data for the fourth observation.\n",
            "\n",
            "\u001b[0m\u001b[36;1m\u001b[1;3mage                               0.014643\n",
            "fnlwgt                           -0.000331\n",
            "education-num                    -0.026345\n",
            "capital-gain                     -0.020824\n",
            "capital-loss                     -0.005290\n",
            "                                    ...   \n",
            "native-country_Trinadad&Tobago    0.000000\n",
            "native-country_United-States      0.000280\n",
            "native-country_Vietnam            0.000000\n",
            "native-country_Yugoslavia         0.000000\n",
            "native-country_nan                0.000000\n",
            "Name: 3, Length: 112, dtype: float64\u001b[0m\u001b[32;1m\u001b[1;3m\n",
            "Invoking: `python_repl_ast` with `{'query': 'data.iloc[[3]].to_dict()'}`\n",
            "responded: It seems there was an error in retrieving the input data for the fourth observation. Let me correct that and provide you with the SHAP analysis along with the input data for the fourth observation.\n",
            "\n",
            "\u001b[0m\u001b[36;1m\u001b[1;3mAttributeError: 'dict' object has no attribute 'iloc'\u001b[0m\u001b[32;1m\u001b[1;3m\n",
            "Invoking: `python_repl_ast` with `{'query': 'data.iloc[3]'}`\n",
            "responded: It appears there was a repeated error in retrieving the input data for the fourth observation. I will attempt to correct this and provide the necessary information.\n",
            "\n",
            "\u001b[0m\u001b[36;1m\u001b[1;3mAttributeError: 'dict' object has no attribute 'iloc'\u001b[0m\u001b[32;1m\u001b[1;3m\n",
            "Invoking: `python_repl_ast` with `{'query': 'data.iloc[3].to_dict()'}`\n",
            "responded: It seems there is a persistent issue with accessing the data for the fourth observation. I will attempt a different approach to retrieve and provide the SHAP analysis along with the input data for the fourth observation. Please hold on.\n",
            "\n",
            "\u001b[0m\u001b[36;1m\u001b[1;3mAttributeError: 'dict' object has no attribute 'iloc'\u001b[0m\u001b[32;1m\u001b[1;3mI'm currently facing technical difficulties in retrieving the specific data for the fourth observation. However, I can provide a detailed explanation of the SHAP values for the fourth observation based on the data I was able to retrieve earlier:\n",
            "\n",
            "### SHAP Analysis for the Fourth Observation:\n",
            "- **Age**: SHAP value of 0.014643 indicates a positive impact on the model's output, suggesting that the age of this individual slightly increases the likelihood of earning more than $50K.\n",
            "- **Education-num**: A SHAP value of -0.026345 shows a significant negative impact, suggesting that the number of educational years completed by this individual decreases the likelihood of earning more than $50K.\n",
            "- **Capital-gain** and **Capital-loss**: Both have negative SHAP values (-0.020824 and -0.005290 respectively), indicating that these financial attributes decrease the likelihood of a higher income prediction.\n",
            "- **Hours-per-week**: A negative SHAP value of -0.021047 suggests that the number of hours worked per week by this individual negatively influences the income prediction.\n",
            "- **Marital-status_Married-civ-spouse**: A negative SHAP value of -0.033276 indicates that being married to a civilian spouse significantly decreases the likelihood of this individual earning more than $50K.\n",
            "- **Relationship_Husband**: A negative SHAP value of -0.042937 suggests that the role of 'Husband' within the household negatively impacts the income prediction.\n",
            "- **Sex_Male**: A positive SHAP value of 0.013101 indicates that being male slightly increases the likelihood of earning more than $50K.\n",
            "\n",
            "These SHAP values highlight the features that are most influential for this particular prediction, indicating both positive and negative impacts on the likelihood of earning more than $50K annually.\u001b[0m\n",
            "\n",
            "\u001b[1m> Finished chain.\u001b[0m\n"
          ]
        }
      ]
    },
    {
      "cell_type": "code",
      "source": [
        "shap_answers_df = pd.DataFrame(shap_answers, columns=['Answer'])"
      ],
      "metadata": {
        "id": "ehwnBt0EsVxu"
      },
      "execution_count": 65,
      "outputs": []
    },
    {
      "cell_type": "code",
      "source": [
        "questions = ('Provide me a SHAP analysis of the 0 observation', 'Provide me a SHAP analysis of the 1 observation',\n",
        "'Provide me a SHAP analysis of the 2 observation', 'Provide me a SHAP analysis of the 3 observation',\n",
        "'Provide me a SHAP analysis of the 4 observation')"
      ],
      "metadata": {
        "id": "3e_AsmISznGL"
      },
      "execution_count": 68,
      "outputs": []
    },
    {
      "cell_type": "code",
      "source": [
        "pip install datasets"
      ],
      "metadata": {
        "id": "1s8tT-ib0QXa",
        "outputId": "c544292b-82c1-45f4-9166-aed4caedddc7",
        "colab": {
          "base_uri": "https://localhost:8080/"
        }
      },
      "execution_count": 72,
      "outputs": [
        {
          "output_type": "stream",
          "name": "stdout",
          "text": [
            "Requirement already satisfied: datasets in /usr/local/lib/python3.10/dist-packages (2.19.1)\n",
            "Requirement already satisfied: filelock in /usr/local/lib/python3.10/dist-packages (from datasets) (3.14.0)\n",
            "Requirement already satisfied: numpy>=1.17 in /usr/local/lib/python3.10/dist-packages (from datasets) (1.25.2)\n",
            "Requirement already satisfied: pyarrow>=12.0.0 in /usr/local/lib/python3.10/dist-packages (from datasets) (14.0.2)\n",
            "Requirement already satisfied: pyarrow-hotfix in /usr/local/lib/python3.10/dist-packages (from datasets) (0.6)\n",
            "Requirement already satisfied: dill<0.3.9,>=0.3.0 in /usr/local/lib/python3.10/dist-packages (from datasets) (0.3.8)\n",
            "Requirement already satisfied: pandas in /usr/local/lib/python3.10/dist-packages (from datasets) (2.2.2)\n",
            "Requirement already satisfied: requests>=2.19.0 in /usr/local/lib/python3.10/dist-packages (from datasets) (2.31.0)\n",
            "Requirement already satisfied: tqdm>=4.62.1 in /usr/local/lib/python3.10/dist-packages (from datasets) (4.66.4)\n",
            "Requirement already satisfied: xxhash in /usr/local/lib/python3.10/dist-packages (from datasets) (3.4.1)\n",
            "Requirement already satisfied: multiprocess in /usr/local/lib/python3.10/dist-packages (from datasets) (0.70.16)\n",
            "Requirement already satisfied: fsspec[http]<=2024.3.1,>=2023.1.0 in /usr/local/lib/python3.10/dist-packages (from datasets) (2023.6.0)\n",
            "Requirement already satisfied: aiohttp in /usr/local/lib/python3.10/dist-packages (from datasets) (3.9.5)\n",
            "Requirement already satisfied: huggingface-hub>=0.21.2 in /usr/local/lib/python3.10/dist-packages (from datasets) (0.23.0)\n",
            "Requirement already satisfied: packaging in /usr/local/lib/python3.10/dist-packages (from datasets) (23.2)\n",
            "Requirement already satisfied: pyyaml>=5.1 in /usr/local/lib/python3.10/dist-packages (from datasets) (6.0.1)\n",
            "Requirement already satisfied: aiosignal>=1.1.2 in /usr/local/lib/python3.10/dist-packages (from aiohttp->datasets) (1.3.1)\n",
            "Requirement already satisfied: attrs>=17.3.0 in /usr/local/lib/python3.10/dist-packages (from aiohttp->datasets) (23.2.0)\n",
            "Requirement already satisfied: frozenlist>=1.1.1 in /usr/local/lib/python3.10/dist-packages (from aiohttp->datasets) (1.4.1)\n",
            "Requirement already satisfied: multidict<7.0,>=4.5 in /usr/local/lib/python3.10/dist-packages (from aiohttp->datasets) (6.0.5)\n",
            "Requirement already satisfied: yarl<2.0,>=1.0 in /usr/local/lib/python3.10/dist-packages (from aiohttp->datasets) (1.9.4)\n",
            "Requirement already satisfied: async-timeout<5.0,>=4.0 in /usr/local/lib/python3.10/dist-packages (from aiohttp->datasets) (4.0.3)\n",
            "Requirement already satisfied: typing-extensions>=3.7.4.3 in /usr/local/lib/python3.10/dist-packages (from huggingface-hub>=0.21.2->datasets) (4.11.0)\n",
            "Requirement already satisfied: charset-normalizer<4,>=2 in /usr/local/lib/python3.10/dist-packages (from requests>=2.19.0->datasets) (3.3.2)\n",
            "Requirement already satisfied: idna<4,>=2.5 in /usr/local/lib/python3.10/dist-packages (from requests>=2.19.0->datasets) (3.7)\n",
            "Requirement already satisfied: urllib3<3,>=1.21.1 in /usr/local/lib/python3.10/dist-packages (from requests>=2.19.0->datasets) (2.0.7)\n",
            "Requirement already satisfied: certifi>=2017.4.17 in /usr/local/lib/python3.10/dist-packages (from requests>=2.19.0->datasets) (2024.2.2)\n",
            "Requirement already satisfied: python-dateutil>=2.8.2 in /usr/local/lib/python3.10/dist-packages (from pandas->datasets) (2.8.2)\n",
            "Requirement already satisfied: pytz>=2020.1 in /usr/local/lib/python3.10/dist-packages (from pandas->datasets) (2023.4)\n",
            "Requirement already satisfied: tzdata>=2022.7 in /usr/local/lib/python3.10/dist-packages (from pandas->datasets) (2024.1)\n",
            "Requirement already satisfied: six>=1.5 in /usr/local/lib/python3.10/dist-packages (from python-dateutil>=2.8.2->pandas->datasets) (1.16.0)\n"
          ]
        }
      ]
    },
    {
      "cell_type": "code",
      "source": [
        "pip install ragas"
      ],
      "metadata": {
        "id": "jJTcQzlp0m02",
        "outputId": "08fb7c6e-3566-4d45-c280-288c056191b0",
        "colab": {
          "base_uri": "https://localhost:8080/"
        }
      },
      "execution_count": 73,
      "outputs": [
        {
          "output_type": "stream",
          "name": "stdout",
          "text": [
            "Requirement already satisfied: ragas in /usr/local/lib/python3.10/dist-packages (0.1.7)\n",
            "Requirement already satisfied: numpy in /usr/local/lib/python3.10/dist-packages (from ragas) (1.25.2)\n",
            "Requirement already satisfied: datasets in /usr/local/lib/python3.10/dist-packages (from ragas) (2.19.1)\n",
            "Requirement already satisfied: tiktoken in /usr/local/lib/python3.10/dist-packages (from ragas) (0.6.0)\n",
            "Requirement already satisfied: langchain in /usr/local/lib/python3.10/dist-packages (from ragas) (0.1.20)\n",
            "Requirement already satisfied: langchain-core in /usr/local/lib/python3.10/dist-packages (from ragas) (0.1.52)\n",
            "Requirement already satisfied: langchain-community in /usr/local/lib/python3.10/dist-packages (from ragas) (0.0.38)\n",
            "Requirement already satisfied: langchain-openai in /usr/local/lib/python3.10/dist-packages (from ragas) (0.1.6)\n",
            "Requirement already satisfied: openai>1 in /usr/local/lib/python3.10/dist-packages (from ragas) (1.28.1)\n",
            "Requirement already satisfied: pysbd>=0.3.4 in /usr/local/lib/python3.10/dist-packages (from ragas) (0.3.4)\n",
            "Requirement already satisfied: nest-asyncio in /usr/local/lib/python3.10/dist-packages (from ragas) (1.6.0)\n",
            "Requirement already satisfied: appdirs in /usr/local/lib/python3.10/dist-packages (from ragas) (1.4.4)\n",
            "Requirement already satisfied: anyio<5,>=3.5.0 in /usr/local/lib/python3.10/dist-packages (from openai>1->ragas) (3.7.1)\n",
            "Requirement already satisfied: distro<2,>=1.7.0 in /usr/lib/python3/dist-packages (from openai>1->ragas) (1.7.0)\n",
            "Requirement already satisfied: httpx<1,>=0.23.0 in /usr/local/lib/python3.10/dist-packages (from openai>1->ragas) (0.27.0)\n",
            "Requirement already satisfied: pydantic<3,>=1.9.0 in /usr/local/lib/python3.10/dist-packages (from openai>1->ragas) (2.7.1)\n",
            "Requirement already satisfied: sniffio in /usr/local/lib/python3.10/dist-packages (from openai>1->ragas) (1.3.1)\n",
            "Requirement already satisfied: tqdm>4 in /usr/local/lib/python3.10/dist-packages (from openai>1->ragas) (4.66.4)\n",
            "Requirement already satisfied: typing-extensions<5,>=4.7 in /usr/local/lib/python3.10/dist-packages (from openai>1->ragas) (4.11.0)\n",
            "Requirement already satisfied: filelock in /usr/local/lib/python3.10/dist-packages (from datasets->ragas) (3.14.0)\n",
            "Requirement already satisfied: pyarrow>=12.0.0 in /usr/local/lib/python3.10/dist-packages (from datasets->ragas) (14.0.2)\n",
            "Requirement already satisfied: pyarrow-hotfix in /usr/local/lib/python3.10/dist-packages (from datasets->ragas) (0.6)\n",
            "Requirement already satisfied: dill<0.3.9,>=0.3.0 in /usr/local/lib/python3.10/dist-packages (from datasets->ragas) (0.3.8)\n",
            "Requirement already satisfied: pandas in /usr/local/lib/python3.10/dist-packages (from datasets->ragas) (2.2.2)\n",
            "Requirement already satisfied: requests>=2.19.0 in /usr/local/lib/python3.10/dist-packages (from datasets->ragas) (2.31.0)\n",
            "Requirement already satisfied: xxhash in /usr/local/lib/python3.10/dist-packages (from datasets->ragas) (3.4.1)\n",
            "Requirement already satisfied: multiprocess in /usr/local/lib/python3.10/dist-packages (from datasets->ragas) (0.70.16)\n",
            "Requirement already satisfied: fsspec[http]<=2024.3.1,>=2023.1.0 in /usr/local/lib/python3.10/dist-packages (from datasets->ragas) (2023.6.0)\n",
            "Requirement already satisfied: aiohttp in /usr/local/lib/python3.10/dist-packages (from datasets->ragas) (3.9.5)\n",
            "Requirement already satisfied: huggingface-hub>=0.21.2 in /usr/local/lib/python3.10/dist-packages (from datasets->ragas) (0.23.0)\n",
            "Requirement already satisfied: packaging in /usr/local/lib/python3.10/dist-packages (from datasets->ragas) (23.2)\n",
            "Requirement already satisfied: pyyaml>=5.1 in /usr/local/lib/python3.10/dist-packages (from datasets->ragas) (6.0.1)\n",
            "Requirement already satisfied: SQLAlchemy<3,>=1.4 in /usr/local/lib/python3.10/dist-packages (from langchain->ragas) (2.0.30)\n",
            "Requirement already satisfied: async-timeout<5.0.0,>=4.0.0 in /usr/local/lib/python3.10/dist-packages (from langchain->ragas) (4.0.3)\n",
            "Requirement already satisfied: dataclasses-json<0.7,>=0.5.7 in /usr/local/lib/python3.10/dist-packages (from langchain->ragas) (0.6.6)\n",
            "Requirement already satisfied: langchain-text-splitters<0.1,>=0.0.1 in /usr/local/lib/python3.10/dist-packages (from langchain->ragas) (0.0.1)\n",
            "Requirement already satisfied: langsmith<0.2.0,>=0.1.17 in /usr/local/lib/python3.10/dist-packages (from langchain->ragas) (0.1.57)\n",
            "Requirement already satisfied: tenacity<9.0.0,>=8.1.0 in /usr/local/lib/python3.10/dist-packages (from langchain->ragas) (8.3.0)\n",
            "Requirement already satisfied: jsonpatch<2.0,>=1.33 in /usr/local/lib/python3.10/dist-packages (from langchain-core->ragas) (1.33)\n",
            "Requirement already satisfied: regex>=2022.1.18 in /usr/local/lib/python3.10/dist-packages (from tiktoken->ragas) (2023.12.25)\n",
            "Requirement already satisfied: aiosignal>=1.1.2 in /usr/local/lib/python3.10/dist-packages (from aiohttp->datasets->ragas) (1.3.1)\n",
            "Requirement already satisfied: attrs>=17.3.0 in /usr/local/lib/python3.10/dist-packages (from aiohttp->datasets->ragas) (23.2.0)\n",
            "Requirement already satisfied: frozenlist>=1.1.1 in /usr/local/lib/python3.10/dist-packages (from aiohttp->datasets->ragas) (1.4.1)\n",
            "Requirement already satisfied: multidict<7.0,>=4.5 in /usr/local/lib/python3.10/dist-packages (from aiohttp->datasets->ragas) (6.0.5)\n",
            "Requirement already satisfied: yarl<2.0,>=1.0 in /usr/local/lib/python3.10/dist-packages (from aiohttp->datasets->ragas) (1.9.4)\n",
            "Requirement already satisfied: idna>=2.8 in /usr/local/lib/python3.10/dist-packages (from anyio<5,>=3.5.0->openai>1->ragas) (3.7)\n",
            "Requirement already satisfied: exceptiongroup in /usr/local/lib/python3.10/dist-packages (from anyio<5,>=3.5.0->openai>1->ragas) (1.2.1)\n",
            "Requirement already satisfied: marshmallow<4.0.0,>=3.18.0 in /usr/local/lib/python3.10/dist-packages (from dataclasses-json<0.7,>=0.5.7->langchain->ragas) (3.21.2)\n",
            "Requirement already satisfied: typing-inspect<1,>=0.4.0 in /usr/local/lib/python3.10/dist-packages (from dataclasses-json<0.7,>=0.5.7->langchain->ragas) (0.9.0)\n",
            "Requirement already satisfied: certifi in /usr/local/lib/python3.10/dist-packages (from httpx<1,>=0.23.0->openai>1->ragas) (2024.2.2)\n",
            "Requirement already satisfied: httpcore==1.* in /usr/local/lib/python3.10/dist-packages (from httpx<1,>=0.23.0->openai>1->ragas) (1.0.5)\n",
            "Requirement already satisfied: h11<0.15,>=0.13 in /usr/local/lib/python3.10/dist-packages (from httpcore==1.*->httpx<1,>=0.23.0->openai>1->ragas) (0.14.0)\n",
            "Requirement already satisfied: jsonpointer>=1.9 in /usr/local/lib/python3.10/dist-packages (from jsonpatch<2.0,>=1.33->langchain-core->ragas) (2.4)\n",
            "Requirement already satisfied: orjson<4.0.0,>=3.9.14 in /usr/local/lib/python3.10/dist-packages (from langsmith<0.2.0,>=0.1.17->langchain->ragas) (3.10.3)\n",
            "Requirement already satisfied: annotated-types>=0.4.0 in /usr/local/lib/python3.10/dist-packages (from pydantic<3,>=1.9.0->openai>1->ragas) (0.6.0)\n",
            "Requirement already satisfied: pydantic-core==2.18.2 in /usr/local/lib/python3.10/dist-packages (from pydantic<3,>=1.9.0->openai>1->ragas) (2.18.2)\n",
            "Requirement already satisfied: charset-normalizer<4,>=2 in /usr/local/lib/python3.10/dist-packages (from requests>=2.19.0->datasets->ragas) (3.3.2)\n",
            "Requirement already satisfied: urllib3<3,>=1.21.1 in /usr/local/lib/python3.10/dist-packages (from requests>=2.19.0->datasets->ragas) (2.0.7)\n",
            "Requirement already satisfied: greenlet!=0.4.17 in /usr/local/lib/python3.10/dist-packages (from SQLAlchemy<3,>=1.4->langchain->ragas) (3.0.3)\n",
            "Requirement already satisfied: python-dateutil>=2.8.2 in /usr/local/lib/python3.10/dist-packages (from pandas->datasets->ragas) (2.8.2)\n",
            "Requirement already satisfied: pytz>=2020.1 in /usr/local/lib/python3.10/dist-packages (from pandas->datasets->ragas) (2023.4)\n",
            "Requirement already satisfied: tzdata>=2022.7 in /usr/local/lib/python3.10/dist-packages (from pandas->datasets->ragas) (2024.1)\n",
            "Requirement already satisfied: six>=1.5 in /usr/local/lib/python3.10/dist-packages (from python-dateutil>=2.8.2->pandas->datasets->ragas) (1.16.0)\n",
            "Requirement already satisfied: mypy-extensions>=0.3.0 in /usr/local/lib/python3.10/dist-packages (from typing-inspect<1,>=0.4.0->dataclasses-json<0.7,>=0.5.7->langchain->ragas) (1.0.0)\n"
          ]
        }
      ]
    },
    {
      "cell_type": "code",
      "source": [
        "from datasets import Dataset\n",
        "from ragas.metrics import faithfulness\n",
        "from ragas import evaluate\n",
        "\n",
        "data_samples = {\n",
        "    'question': questions[0],\n",
        "    'answer': shap_answers[0],\n",
        "    'contexts' : [eval_data[0]]\n",
        "}\n",
        "#dataset = Dataset.from_dict(data_samples)\n",
        "#score = evaluate(dataset,metrics=[faithfulness])\n",
        "#score.to_pandas()"
      ],
      "metadata": {
        "id": "aCXMZQbdzbgD"
      },
      "execution_count": 128,
      "outputs": []
    },
    {
      "cell_type": "code",
      "source": [
        "shap_answers[0]"
      ],
      "metadata": {
        "id": "JPzGAiBZ5rqp",
        "outputId": "2a13bb97-2fa1-4729-c92f-f52b8e1725d4",
        "colab": {
          "base_uri": "https://localhost:8080/",
          "height": 140
        }
      },
      "execution_count": 130,
      "outputs": [
        {
          "output_type": "execute_result",
          "data": {
            "text/plain": [
              "\"The SHAP (SHapley Additive exPlanations) values provide insights into the contribution of each feature towards the prediction for a specific observation in the dataset. Here's the SHAP analysis for observation 0:\\n\\n- **age**: SHAP value = -0.0221014, indicating a negative impact on the prediction. This suggests that the age of the individual in this observation slightly decreases the likelihood of the model predicting an income above $50K.\\n- **education-num**: SHAP value = 0.0840737, showing a positive impact. Higher education levels increase the likelihood of predicting a higher income.\\n- **hours-per-week**: SHAP value = -0.0349533, a negative impact, suggesting that the number of hours worked per week in this case decreases the likelihood of a higher income prediction.\\n- **marital-status_Married-civ-spouse**: SHAP value = 0.0487345, a strong positive impact, indicating that being married to a civilian spouse significantly increases the likelihood of a higher income prediction.\\n- **relationship_Husband**: SHAP value = 0.042015, another strong positive impact, reinforcing the effect of marital status and gender roles in the prediction.\\n- **sex_Male**: SHAP value = 0.00899808, a positive impact, suggesting a slight increase in the likelihood of predicting higher income for males.\\n- **native-country_United-States**: SHAP value = -0.0116291, a negative impact, which is interesting as it suggests that being from the United States in this particular case slightly decreases the likelihood of predicting a higher income.\\n\\nThe most influential features for this observation are related to marital status, relationship status, and education level, which have significant positive impacts on the prediction of having an income above $50K. The negative impacts from age and hours worked per week are notable but less influential compared to the positive factors.\\n\\nIt's important to note that features like sex and native-country could potentially introduce biases into the model. The positive impact of being male and the negative impact of being from the United States could reflect underlying biases in the training data or real-world income disparities that the model has learned. This should be considered carefully, especially when making decisions based on model predictions, to avoid perpetuating or acting on potentially discriminatory biases.\""
            ],
            "application/vnd.google.colaboratory.intrinsic+json": {
              "type": "string"
            }
          },
          "metadata": {},
          "execution_count": 130
        }
      ]
    },
    {
      "cell_type": "code",
      "source": [
        "dataset = Dataset.from_dict(data_samples)\n",
        "score = evaluate(dataset, metrics=[faithfulness])\n",
        "#score.to_pandas()"
      ],
      "metadata": {
        "id": "JjR4zyxL3Tat",
        "outputId": "65c33474-d0c5-4636-c726-a7bd258a763e",
        "colab": {
          "base_uri": "https://localhost:8080/",
          "height": 235
        }
      },
      "execution_count": 129,
      "outputs": [
        {
          "output_type": "error",
          "ename": "ArrowInvalid",
          "evalue": "Column 1 named answer expected length 47 but got length 2364",
          "traceback": [
            "\u001b[0;31m---------------------------------------------------------------------------\u001b[0m",
            "\u001b[0;31mArrowInvalid\u001b[0m                              Traceback (most recent call last)",
            "\u001b[0;32m<ipython-input-129-a646404078b1>\u001b[0m in \u001b[0;36m<cell line: 1>\u001b[0;34m()\u001b[0m\n\u001b[0;32m----> 1\u001b[0;31m \u001b[0mdataset\u001b[0m \u001b[0;34m=\u001b[0m \u001b[0mDataset\u001b[0m\u001b[0;34m.\u001b[0m\u001b[0mfrom_dict\u001b[0m\u001b[0;34m(\u001b[0m\u001b[0mdata_samples\u001b[0m\u001b[0;34m)\u001b[0m\u001b[0;34m\u001b[0m\u001b[0;34m\u001b[0m\u001b[0m\n\u001b[0m\u001b[1;32m      2\u001b[0m \u001b[0mscore\u001b[0m \u001b[0;34m=\u001b[0m \u001b[0mevaluate\u001b[0m\u001b[0;34m(\u001b[0m\u001b[0mdataset\u001b[0m\u001b[0;34m,\u001b[0m\u001b[0mmetrics\u001b[0m\u001b[0;34m=\u001b[0m\u001b[0;34m[\u001b[0m\u001b[0mfaithfulness\u001b[0m\u001b[0;34m]\u001b[0m\u001b[0;34m)\u001b[0m\u001b[0;34m\u001b[0m\u001b[0;34m\u001b[0m\u001b[0m\n\u001b[1;32m      3\u001b[0m \u001b[0;31m#score.to_pandas()\u001b[0m\u001b[0;34m\u001b[0m\u001b[0;34m\u001b[0m\u001b[0m\n",
            "\u001b[0;32m/usr/local/lib/python3.10/dist-packages/datasets/arrow_dataset.py\u001b[0m in \u001b[0;36mfrom_dict\u001b[0;34m(cls, mapping, features, info, split)\u001b[0m\n\u001b[1;32m    961\u001b[0m             \u001b[0marrow_typed_mapping\u001b[0m\u001b[0;34m[\u001b[0m\u001b[0mcol\u001b[0m\u001b[0;34m]\u001b[0m \u001b[0;34m=\u001b[0m \u001b[0mdata\u001b[0m\u001b[0;34m\u001b[0m\u001b[0;34m\u001b[0m\u001b[0m\n\u001b[1;32m    962\u001b[0m         \u001b[0mmapping\u001b[0m \u001b[0;34m=\u001b[0m \u001b[0marrow_typed_mapping\u001b[0m\u001b[0;34m\u001b[0m\u001b[0;34m\u001b[0m\u001b[0m\n\u001b[0;32m--> 963\u001b[0;31m         \u001b[0mpa_table\u001b[0m \u001b[0;34m=\u001b[0m \u001b[0mInMemoryTable\u001b[0m\u001b[0;34m.\u001b[0m\u001b[0mfrom_pydict\u001b[0m\u001b[0;34m(\u001b[0m\u001b[0mmapping\u001b[0m\u001b[0;34m=\u001b[0m\u001b[0mmapping\u001b[0m\u001b[0;34m)\u001b[0m\u001b[0;34m\u001b[0m\u001b[0;34m\u001b[0m\u001b[0m\n\u001b[0m\u001b[1;32m    964\u001b[0m         \u001b[0;32mif\u001b[0m \u001b[0minfo\u001b[0m \u001b[0;32mis\u001b[0m \u001b[0;32mNone\u001b[0m\u001b[0;34m:\u001b[0m\u001b[0;34m\u001b[0m\u001b[0;34m\u001b[0m\u001b[0m\n\u001b[1;32m    965\u001b[0m             \u001b[0minfo\u001b[0m \u001b[0;34m=\u001b[0m \u001b[0mDatasetInfo\u001b[0m\u001b[0;34m(\u001b[0m\u001b[0;34m)\u001b[0m\u001b[0;34m\u001b[0m\u001b[0;34m\u001b[0m\u001b[0m\n",
            "\u001b[0;32m/usr/local/lib/python3.10/dist-packages/datasets/table.py\u001b[0m in \u001b[0;36mfrom_pydict\u001b[0;34m(cls, *args, **kwargs)\u001b[0m\n\u001b[1;32m    756\u001b[0m             \u001b[0;31m`\u001b[0m\u001b[0mdatasets\u001b[0m\u001b[0;34m.\u001b[0m\u001b[0mtable\u001b[0m\u001b[0;34m.\u001b[0m\u001b[0mTable\u001b[0m\u001b[0;31m`\u001b[0m\u001b[0;34m\u001b[0m\u001b[0;34m\u001b[0m\u001b[0m\n\u001b[1;32m    757\u001b[0m         \"\"\"\n\u001b[0;32m--> 758\u001b[0;31m         \u001b[0;32mreturn\u001b[0m \u001b[0mcls\u001b[0m\u001b[0;34m(\u001b[0m\u001b[0mpa\u001b[0m\u001b[0;34m.\u001b[0m\u001b[0mTable\u001b[0m\u001b[0;34m.\u001b[0m\u001b[0mfrom_pydict\u001b[0m\u001b[0;34m(\u001b[0m\u001b[0;34m*\u001b[0m\u001b[0margs\u001b[0m\u001b[0;34m,\u001b[0m \u001b[0;34m**\u001b[0m\u001b[0mkwargs\u001b[0m\u001b[0;34m)\u001b[0m\u001b[0;34m)\u001b[0m\u001b[0;34m\u001b[0m\u001b[0;34m\u001b[0m\u001b[0m\n\u001b[0m\u001b[1;32m    759\u001b[0m \u001b[0;34m\u001b[0m\u001b[0m\n\u001b[1;32m    760\u001b[0m     \u001b[0;34m@\u001b[0m\u001b[0mclassmethod\u001b[0m\u001b[0;34m\u001b[0m\u001b[0;34m\u001b[0m\u001b[0m\n",
            "\u001b[0;32m/usr/local/lib/python3.10/dist-packages/pyarrow/table.pxi\u001b[0m in \u001b[0;36mpyarrow.lib._Tabular.from_pydict\u001b[0;34m()\u001b[0m\n",
            "\u001b[0;32m/usr/local/lib/python3.10/dist-packages/pyarrow/table.pxi\u001b[0m in \u001b[0;36mpyarrow.lib._from_pydict\u001b[0;34m()\u001b[0m\n",
            "\u001b[0;32m/usr/local/lib/python3.10/dist-packages/pyarrow/table.pxi\u001b[0m in \u001b[0;36mpyarrow.lib.Table.from_arrays\u001b[0;34m()\u001b[0m\n",
            "\u001b[0;32m/usr/local/lib/python3.10/dist-packages/pyarrow/table.pxi\u001b[0m in \u001b[0;36mpyarrow.lib.Table.validate\u001b[0;34m()\u001b[0m\n",
            "\u001b[0;32m/usr/local/lib/python3.10/dist-packages/pyarrow/error.pxi\u001b[0m in \u001b[0;36mpyarrow.lib.check_status\u001b[0;34m()\u001b[0m\n",
            "\u001b[0;31mArrowInvalid\u001b[0m: Column 1 named answer expected length 47 but got length 2364"
          ]
        }
      ]
    },
    {
      "cell_type": "code",
      "source": [
        "eval_data[1]"
      ],
      "metadata": {
        "id": "v5DEavax4_an",
        "outputId": "f8ca4bbd-e793-4a60-9f2a-a73cc5fdcdff",
        "colab": {
          "base_uri": "https://localhost:8080/",
          "height": 140
        }
      },
      "execution_count": 124,
      "outputs": [
        {
          "output_type": "execute_result",
          "data": {
            "text/plain": [
              "'age:0.0116017750151382 fnlwgt:0.0002937710309883 education-num:-0.021314214613862 capital-gain:-0.0175375210314278 capital-loss:-0.0044773347175808 hours-per-week:-0.0181535438431001 workclass_Federal-gov:-0.0002671952851563 workclass_Local-gov:-0.0003311422109901 workclass_Private:0.0033768498387535 workclass_Self-emp-inc:-0.0011283343217516 workclass_Self-emp-not-inc:0.0001988081043027 workclass_State-gov:-4.106194972312202e-06 workclass_Without-pay:0.0 workclass_nan:0.0 education_10th:0.0002027662769998 education_11th:0.0002012019132795 education_12th:7.429561735220964e-06 education_1st-4th:1.6876717877989136e-05 education_5th-6th:4.086321728407747e-05 education_7th-8th:0.0002875696147223 education_9th:2.962469501521281e-05 education_Assoc-acdm:-9.598673448576815e-06 education_Assoc-voc:-7.951660599549981e-05 education_Bachelors:-0.0036844333152913 education_Doctorate:-0.0004896135283528 education_HS-grad:-0.0071046288240719 education_Masters:-0.0014077338160311 education_Preschool:0.0 education_Prof-school:-0.0015033827455799 education_Some-college:-0.0004203909210956 education_nan:0.0 marital-status_Divorced:0.0034579686977828 marital-status_Married-AF-spouse:0.0 marital-status_Married-civ-spouse:-0.03710314899681 marital-status_Married-spouse-absent:-1.6862182298693592e-05 marital-status_Never-married:0.0142486610406223 marital-status_Separated:0.0005075927604574 marital-status_Widowed:-0.0032665785685481 marital-status_nan:0.0 occupation_Adm-clerical:0.0006241467177464 occupation_Armed-Forces:0.0 occupation_Craft-repair:0.0004888002707742 occupation_Exec-managerial:-0.0061185217867322 occupation_Farming-fishing:0.0004651014925609 occupation_Handlers-cleaners:0.0003775981155249 occupation_Machine-op-inspct:0.0004553228637413 occupation_Other-service:-0.0273189859288486 occupation_Priv-house-serv:2.043456785517837e-05 occupation_Prof-specialty:-0.0057862397941824 occupation_Protective-serv:-0.0001181674155928 occupation_Sales:-0.000342026555615 occupation_Tech-support:-0.0001834091441466 occupation_Transport-moving:1.9125332607964336e-06 occupation_nan:0.0 relationship_Husband:-0.0323869342268839 relationship_Not-in-family:0.003340703253827 relationship_Other-relative:0.0002813868266358 relationship_Own-child:0.0038851567433074 relationship_Unmarried:-0.0196694511281255 relationship_Wife:-0.0053786621838478 relationship_nan:0.0 race_Amer-Indian-Eskimo:-5.691476304311102e-06 race_Asian-Pac-Islander:-2.96325676695596e-05 race_Black:-0.0039919882572936 race_Other:1.2599293728184988e-06 race_White:-0.0014931355075177 race_nan:0.0 sex_Female:-0.0090940643248792 sex_Male:-0.0305760115039344 sex_nan:0.0 native-country_Cambodia:0.0 native-country_Canada:-1.4918464245831765e-05 native-country_China:4.064316048107848e-06 native-country_Columbia:0.0 native-country_Cuba:0.0 native-country_Dominican-Republic:0.0 native-country_Ecuador:0.0 native-country_El-Salvador:6.953240033305501e-07 native-country_England:-1.3863012947221994e-06 native-country_France:0.0 native-country_Germany:-1.2656471952113286e-06 native-country_Greece:0.0 native-country_Guatemala:0.0 native-country_Haiti:0.0 native-country_Holand-Netherlands:0.0 native-country_Honduras:0.0 native-country_Hong:0.0 native-country_Hungary:0.0 native-country_India:4.942032632731312e-07 native-country_Iran:0.0 native-country_Ireland:0.0 native-country_Italy:4.5684997635223286e-07 native-country_Jamaica:0.0 native-country_Japan:-3.549487039410789e-06 native-country_Laos:0.0 native-country_Mexico:0.000195365415837 native-country_Nicaragua:0.0 native-country_Outlying-US(Guam-USVI-etc):0.0 native-country_Peru:0.0 native-country_Philippines:0.0 native-country_Poland:0.0 native-country_Portugal:0.0 native-country_Puerto-Rico:-1.1906152084311517e-05 native-country_Scotland:0.0 native-country_South:0.0 native-country_Taiwan:0.0 native-country_Thailand:0.0 native-country_Trinadad&Tobago:0.0 native-country_United-States:0.0002662450449988 native-country_Vietnam:0.0 native-country_Yugoslavia:0.0 native-country_nan:0.0 concatenated:age:0.0116017750151382 fnlwgt:0.0002937710309883 education-num:-0.021314214613862 capital-gain:-0.0175375210314278 capital-loss:-0.0044773347175808 hours-per-week:-0.0181535438431001 workclass_Federal-gov:-0.0002671952851563 workclass_Local-gov:-0.0003311422109901 workclass_Private:0.0033768498387535 workclass_Self-emp-inc:-0.0011283343217516 workclass_Self-emp-not-inc:0.0001988081043027 workclass_State-gov:-4.106194972312202e-06 workclass_Without-pay:0.0 workclass_nan:0.0 education_10th:0.0002027662769998 education_11th:0.0002012019132795 education_12th:7.429561735220964e-06 education_1st-4th:1.6876717877989136e-05 education_5th-6th:4.086321728407747e-05 education_7th-8th:0.0002875696147223 education_9th:2.962469501521281e-05 education_Assoc-acdm:-9.598673448576815e-06 education_Assoc-voc:-7.951660599549981e-05 education_Bachelors:-0.0036844333152913 education_Doctorate:-0.0004896135283528 education_HS-grad:-0.0071046288240719 education_Masters:-0.0014077338160311 education_Preschool:0.0 education_Prof-school:-0.0015033827455799 education_Some-college:-0.0004203909210956 education_nan:0.0 marital-status_Divorced:0.0034579686977828 marital-status_Married-AF-spouse:0.0 marital-status_Married-civ-spouse:-0.03710314899681 marital-status_Married-spouse-absent:-1.6862182298693592e-05 marital-status_Never-married:0.0142486610406223 marital-status_Separated:0.0005075927604574 marital-status_Widowed:-0.0032665785685481 marital-status_nan:0.0 occupation_Adm-clerical:0.0006241467177464 occupation_Armed-Forces:0.0 occupation_Craft-repair:0.0004888002707742 occupation_Exec-managerial:-0.0061185217867322 occupation_Farming-fishing:0.0004651014925609 occupation_Handlers-cleaners:0.0003775981155249 occupation_Machine-op-inspct:0.0004553228637413 occupation_Other-service:-0.0273189859288486 occupation_Priv-house-serv:2.043456785517837e-05 occupation_Prof-specialty:-0.0057862397941824 occupation_Protective-serv:-0.0001181674155928 occupation_Sales:-0.000342026555615 occupation_Tech-support:-0.0001834091441466 occupation_Transport-moving:1.9125332607964336e-06 occupation_nan:0.0 relationship_Husband:-0.0323869342268839 relationship_Not-in-family:0.003340703253827 relationship_Other-relative:0.0002813868266358 relationship_Own-child:0.0038851567433074 relationship_Unmarried:-0.0196694511281255 relationship_Wife:-0.0053786621838478 relationship_nan:0.0 race_Amer-Indian-Eskimo:-5.691476304311102e-06 race_Asian-Pac-Islander:-2.96325676695596e-05 race_Black:-0.0039919882572936 race_Other:1.2599293728184988e-06 race_White:-0.0014931355075177 race_nan:0.0 sex_Female:-0.0090940643248792 sex_Male:-0.0305760115039344 sex_nan:0.0 native-country_Cambodia:0.0 native-country_Canada:-1.4918464245831765e-05 native-country_China:4.064316048107848e-06 native-country_Columbia:0.0 native-country_Cuba:0.0 native-country_Dominican-Republic:0.0 native-country_Ecuador:0.0 native-country_El-Salvador:6.953240033305501e-07 native-country_England:-1.3863012947221994e-06 native-country_France:0.0 native-country_Germany:-1.2656471952113286e-06 native-country_Greece:0.0 native-country_Guatemala:0.0 native-country_Haiti:0.0 native-country_Holand-Netherlands:0.0 native-country_Honduras:0.0 native-country_Hong:0.0 native-country_Hungary:0.0 native-country_India:4.942032632731312e-07 native-country_Iran:0.0 native-country_Ireland:0.0 native-country_Italy:4.5684997635223286e-07 native-country_Jamaica:0.0 native-country_Japan:-3.549487039410789e-06 native-country_Laos:0.0 native-country_Mexico:0.000195365415837 native-country_Nicaragua:0.0 native-country_Outlying-US(Guam-USVI-etc):0.0 native-country_Peru:0.0 native-country_Philippines:0.0 native-country_Poland:0.0 native-country_Portugal:0.0 native-country_Puerto-Rico:-1.1906152084311517e-05 native-country_Scotland:0.0 native-country_South:0.0 native-country_Taiwan:0.0 native-country_Thailand:0.0 native-country_Trinadad&Tobago:0.0 native-country_United-States:0.0002662450449988 native-country_Vietnam:0.0 native-country_Yugoslavia:0.0 native-country_nan:0.0 concatenated:0.0116017750151382 0.0002937710309883 -0.021314214613862 -0.0175375210314278 -0.0044773347175808 -0.0181535438431001 -0.0002671952851563 -0.0003311422109901 0.0033768498387535 -0.0011283343217516 0.0001988081043027 -4.106194972312202e-06 0.0 0.0 0.0002027662769998 0.0002012019132795 7.429561735220964e-06 1.6876717877989136e-05 4.086321728407747e-05 0.0002875696147223 2.962469501521281e-05 -9.598673448576815e-06 -7.951660599549981e-05 -0.0036844333152913 -0.0004896135283528 -0.0071046288240719 -0.0014077338160311 0.0 -0.0015033827455799 -0.0004203909210956 0.0 0.0034579686977828 0.0 -0.03710314899681 -1.6862182298693592e-05 0.0142486610406223 0.0005075927604574 -0.0032665785685481 0.0 0.0006241467177464 0.0 0.0004888002707742 -0.0061185217867322 0.0004651014925609 0.0003775981155249 0.0004553228637413 -0.0273189859288486 2.043456785517837e-05 -0.0057862397941824 -0.0001181674155928 -0.000342026555615 -0.0001834091441466 1.9125332607964336e-06 0.0 -0.0323869342268839 0.003340703253827 0.0002813868266358 0.0038851567433074 -0.0196694511281255 -0.0053786621838478 0.0 -5.691476304311102e-06 -2.96325676695596e-05 -0.0039919882572936 1.2599293728184988e-06 -0.0014931355075177 0.0 -0.0090940643248792 -0.0305760115039344 0.0 0.0 -1.4918464245831765e-05 4.064316048107848e-06 0.0 0.0 0.0 0.0 6.953240033305501e-07 -1.3863012947221994e-06 0.0 -1.2656471952113286e-06 0.0 0.0 0.0 0.0 0.0 0.0 0.0 4.942032632731312e-07 0.0 0.0 4.5684997635223286e-07 0.0 -3.549487039410789e-06 0.0 0.000195365415837 0.0 0.0 0.0 0.0 0.0 0.0 -1.1906152084311517e-05 0.0 0.0 0.0 0.0 0.0 0.0002662450449988 0.0 0.0 0.0 0.0116017750151382 0.0002937710309883 -0.021314214613862 -0.0175375210314278 -0.0044773347175808 -0.0181535438431001 -0.0002671952851563 -0.0003311422109901 0.0033768498387535 -0.0011283343217516 0.0001988081043027 -4.106194972312202e-06 0.0 0.0 0.0002027662769998 0.0002012019132795 7.429561735220964e-06 1.6876717877989136e-05 4.086321728407747e-05 0.0002875696147223 2.962469501521281e-05 -9.598673448576815e-06 -7.951660599549981e-05 -0.0036844333152913 -0.0004896135283528 -0.0071046288240719 -0.0014077338160311 0.0 -0.0015033827455799 -0.0004203909210956 0.0 0.0034579686977828 0.0 -0.03710314899681 -1.6862182298693592e-05 0.0142486610406223 0.0005075927604574 -0.0032665785685481 0.0 0.0006241467177464 0.0 0.0004888002707742 -0.0061185217867322 0.0004651014925609 0.0003775981155249 0.0004553228637413 -0.0273189859288486 2.043456785517837e-05 -0.0057862397941824 -0.0001181674155928 -0.000342026555615 -0.0001834091441466 1.9125332607964336e-06 0.0 -0.0323869342268839 0.003340703253827 0.0002813868266358 0.0038851567433074 -0.0196694511281255 -0.0053786621838478 0.0 -5.691476304311102e-06 -2.96325676695596e-05 -0.0039919882572936 1.2599293728184988e-06 -0.0014931355075177 0.0 -0.0090940643248792 -0.0305760115039344 0.0 0.0 -1.4918464245831765e-05 4.064316048107848e-06 0.0 0.0 0.0 0.0 6.953240033305501e-07 -1.3863012947221994e-06 0.0 -1.2656471952113286e-06 0.0 0.0 0.0 0.0 0.0 0.0 0.0 4.942032632731312e-07 0.0 0.0 4.5684997635223286e-07 0.0 -3.549487039410789e-06 0.0 0.000195365415837 0.0 0.0 0.0 0.0 0.0 0.0 -1.1906152084311517e-05 0.0 0.0 0.0 0.0 0.0 0.0002662450449988 0.0 0.0 0.0'"
            ],
            "application/vnd.google.colaboratory.intrinsic+json": {
              "type": "string"
            }
          },
          "metadata": {},
          "execution_count": 124
        }
      ]
    },
    {
      "cell_type": "code",
      "source": [
        "dataset[1]"
      ],
      "metadata": {
        "id": "v3CG-rI63Z6Z",
        "outputId": "a163ea58-ed8d-471b-a6c9-0f63748e306d",
        "colab": {
          "base_uri": "https://localhost:8080/"
        }
      },
      "execution_count": 109,
      "outputs": [
        {
          "output_type": "execute_result",
          "data": {
            "text/plain": [
              "{'question': 'Provide me a SHAP analysis of the 1 observation',\n",
              " 'answer': \"The SHAP analysis for the first observation reveals the following insights about the features that most influenced the model's prediction:\\n\\n1. **Education Number (`education-num`)**: The highest positive impact with a SHAP value of approximately 0.084, suggesting that higher educational attainment strongly pushes the prediction towards a higher income.\\n\\n2. **Marital Status - Married Civil Spouse (`marital-status_Married-civ-spouse`)**: A significant positive SHAP value of about 0.049, indicating that being married to a civilian spouse is a strong predictor of higher income.\\n\\n3. **Relationship - Husband (`relationship_Husband`)**: Another strong positive influence with a SHAP value of approximately 0.042, suggesting that the model associates being a husband with higher income.\\n\\n4. **Hours Per Week (`hours-per-week`)**: This feature has a negative SHAP value of about -0.035, indicating that fewer hours worked per week contribute negatively to the income prediction, suggesting a lower income.\\n\\n5. **Marital Status - Never Married (`marital-status_Never-married`)**: A positive SHAP value of about 0.031, which is interesting as it suggests that never being married also contributes positively to the income prediction in this specific case.\\n\\n6. **Education - Bachelors (`education_Bachelors`)**: A positive SHAP value of about 0.024, reinforcing the importance of higher education levels in predicting higher income.\\n\\n7. **Age (`age`)**: A negative SHAP value of about -0.022, indicating that the age of the individual in this case slightly decreases the likelihood of predicting a higher income.\\n\\n8. **Capital Gain (`capital-gain`)**: A negative impact with a SHAP value of about -0.022, which is counterintuitive as capital gains typically would be expected to increase income predictions.\\n\\n9. **Native Country - United States (`native-country_United-States`)**: A negative SHAP value of about -0.012, suggesting that being from the United States, in this case, slightly decreases the prediction of higher income.\\n\\n10. **Sex - Male (`sex_Male`)**: A positive SHAP value of about 0.009, indicating a slight bias towards predicting higher income for males.\\n\\nThese values highlight the features that the model found most relevant in predicting whether the individual earns more than $50K per year. It's important to note that features like sex and marital status having significant impacts could raise concerns about fairness and bias in the model, especially in sensitive applications like income prediction.\",\n",
              " 'contexts': 'age: 0.0116017750151382, fnlwgt: 0.0002937710309883, education-num: -0.021314214613862, capital-gain: -0.0175375210314278, capital-loss: -0.0044773347175808, hours-per-week: -0.0181535438431001, workclass_Federal-gov: -0.0002671952851563, workclass_Local-gov: -0.0003311422109901, workclass_Private: 0.0033768498387535, workclass_Self-emp-inc: -0.0011283343217516, workclass_Self-emp-not-inc: 0.0001988081043027, workclass_State-gov: -4.106194972312202e-06, workclass_Without-pay: 0.0, workclass_nan: 0.0, education_10th: 0.0002027662769998, education_11th: 0.0002012019132795, education_12th: 7.429561735220964e-06, education_1st-4th: 1.6876717877989136e-05, education_5th-6th: 4.086321728407747e-05, education_7th-8th: 0.0002875696147223, education_9th: 2.962469501521281e-05, education_Assoc-acdm: -9.598673448576815e-06, education_Assoc-voc: -7.951660599549981e-05, education_Bachelors: -0.0036844333152913, education_Doctorate: -0.0004896135283528, education_HS-grad: -0.0071046288240719, education_Masters: -0.0014077338160311, education_Preschool: 0.0, education_Prof-school: -0.0015033827455799, education_Some-college: -0.0004203909210956, education_nan: 0.0, marital-status_Divorced: 0.0034579686977828, marital-status_Married-AF-spouse: 0.0, marital-status_Married-civ-spouse: -0.03710314899681, marital-status_Married-spouse-absent: -1.6862182298693592e-05, marital-status_Never-married: 0.0142486610406223, marital-status_Separated: 0.0005075927604574, marital-status_Widowed: -0.0032665785685481, marital-status_nan: 0.0, occupation_Adm-clerical: 0.0006241467177464, occupation_Armed-Forces: 0.0, occupation_Craft-repair: 0.0004888002707742, occupation_Exec-managerial: -0.0061185217867322, occupation_Farming-fishing: 0.0004651014925609, occupation_Handlers-cleaners: 0.0003775981155249, occupation_Machine-op-inspct: 0.0004553228637413, occupation_Other-service: -0.0273189859288486, occupation_Priv-house-serv: 2.043456785517837e-05, occupation_Prof-specialty: -0.0057862397941824, occupation_Protective-serv: -0.0001181674155928, occupation_Sales: -0.000342026555615, occupation_Tech-support: -0.0001834091441466, occupation_Transport-moving: 1.9125332607964336e-06, occupation_nan: 0.0, relationship_Husband: -0.0323869342268839, relationship_Not-in-family: 0.003340703253827, relationship_Other-relative: 0.0002813868266358, relationship_Own-child: 0.0038851567433074, relationship_Unmarried: -0.0196694511281255, relationship_Wife: -0.0053786621838478, relationship_nan: 0.0, race_Amer-Indian-Eskimo: -5.691476304311102e-06, race_Asian-Pac-Islander: -2.96325676695596e-05, race_Black: -0.0039919882572936, race_Other: 1.2599293728184988e-06, race_White: -0.0014931355075177, race_nan: 0.0, sex_Female: -0.0090940643248792, sex_Male: -0.0305760115039344, sex_nan: 0.0, native-country_Cambodia: 0.0, native-country_Canada: -1.4918464245831765e-05, native-country_China: 4.064316048107848e-06, native-country_Columbia: 0.0, native-country_Cuba: 0.0, native-country_Dominican-Republic: 0.0, native-country_Ecuador: 0.0, native-country_El-Salvador: 6.953240033305501e-07, native-country_England: -1.3863012947221994e-06, native-country_France: 0.0, native-country_Germany: -1.2656471952113286e-06, native-country_Greece: 0.0, native-country_Guatemala: 0.0, native-country_Haiti: 0.0, native-country_Holand-Netherlands: 0.0, native-country_Honduras: 0.0, native-country_Hong: 0.0, native-country_Hungary: 0.0, native-country_India: 4.942032632731312e-07, native-country_Iran: 0.0, native-country_Ireland: 0.0, native-country_Italy: 4.5684997635223286e-07, native-country_Jamaica: 0.0, native-country_Japan: -3.549487039410789e-06, native-country_Laos: 0.0, native-country_Mexico: 0.000195365415837, native-country_Nicaragua: 0.0, native-country_Outlying-US(Guam-USVI-etc): 0.0, native-country_Peru: 0.0, native-country_Philippines: 0.0, native-country_Poland: 0.0, native-country_Portugal: 0.0, native-country_Puerto-Rico: -1.1906152084311517e-05, native-country_Scotland: 0.0, native-country_South: 0.0, native-country_Taiwan: 0.0, native-country_Thailand: 0.0, native-country_Trinadad&Tobago: 0.0, native-country_United-States: 0.0002662450449988, native-country_Vietnam: 0.0, native-country_Yugoslavia: 0.0, native-country_nan: 0.0'}"
            ]
          },
          "metadata": {},
          "execution_count": 109
        }
      ]
    },
    {
      "cell_type": "code",
      "source": [
        "type(eval_data_list)"
      ],
      "metadata": {
        "id": "H-PK0B4X1t0O",
        "outputId": "973c07ef-8cf5-4022-f94f-af51791133d3",
        "colab": {
          "base_uri": "https://localhost:8080/"
        }
      },
      "execution_count": 102,
      "outputs": [
        {
          "output_type": "execute_result",
          "data": {
            "text/plain": [
              "list"
            ]
          },
          "metadata": {},
          "execution_count": 102
        }
      ]
    },
    {
      "cell_type": "code",
      "source": [
        "type(shap_answers)"
      ],
      "metadata": {
        "id": "EGf3-LGF1rp_",
        "outputId": "6489ed58-024c-4b1b-c824-696050cd1fd8",
        "colab": {
          "base_uri": "https://localhost:8080/"
        }
      },
      "execution_count": 101,
      "outputs": [
        {
          "output_type": "execute_result",
          "data": {
            "text/plain": [
              "list"
            ]
          },
          "metadata": {},
          "execution_count": 101
        }
      ]
    }
  ]
}