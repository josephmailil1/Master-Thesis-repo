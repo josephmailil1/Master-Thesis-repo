{
  "nbformat": 4,
  "nbformat_minor": 0,
  "metadata": {
    "colab": {
      "provenance": [],
      "gpuType": "T4",
      "toc_visible": true,
      "include_colab_link": true
    },
    "kernelspec": {
      "name": "python3",
      "display_name": "Python 3"
    },
    "language_info": {
      "name": "python"
    },
    "accelerator": "GPU"
  },
  "cells": [
    {
      "cell_type": "markdown",
      "metadata": {
        "id": "view-in-github",
        "colab_type": "text"
      },
      "source": [
        "<a href=\"https://colab.research.google.com/github/josephmailil1/Speciale---Stibo/blob/main/Agent%20Tool.ipynb\" target=\"_parent\"><img src=\"https://colab.research.google.com/assets/colab-badge.svg\" alt=\"Open In Colab\"/></a>"
      ]
    },
    {
      "cell_type": "code",
      "execution_count": 1,
      "metadata": {
        "id": "DKBssQelOeBe",
        "outputId": "598d926f-501a-4077-e878-1908eb00093d",
        "colab": {
          "base_uri": "https://localhost:8080/"
        }
      },
      "outputs": [
        {
          "output_type": "stream",
          "name": "stdout",
          "text": [
            "\u001b[2K     \u001b[90m━━━━━━━━━━━━━━━━━━━━━━━━━━━━━━━━━━━━━━━━\u001b[0m \u001b[32m867.6/867.6 kB\u001b[0m \u001b[31m18.2 MB/s\u001b[0m eta \u001b[36m0:00:00\u001b[0m\n",
            "\u001b[2K     \u001b[90m━━━━━━━━━━━━━━━━━━━━━━━━━━━━━━━━━━━━━━━━\u001b[0m \u001b[32m2.0/2.0 MB\u001b[0m \u001b[31m63.7 MB/s\u001b[0m eta \u001b[36m0:00:00\u001b[0m\n",
            "\u001b[2K     \u001b[90m━━━━━━━━━━━━━━━━━━━━━━━━━━━━━━━━━━━━━━━━\u001b[0m \u001b[32m193.4/193.4 kB\u001b[0m \u001b[31m22.9 MB/s\u001b[0m eta \u001b[36m0:00:00\u001b[0m\n",
            "\u001b[2K     \u001b[90m━━━━━━━━━━━━━━━━━━━━━━━━━━━━━━━━━━━━━━━━\u001b[0m \u001b[32m13.0/13.0 MB\u001b[0m \u001b[31m81.4 MB/s\u001b[0m eta \u001b[36m0:00:00\u001b[0m\n",
            "\u001b[2K     \u001b[90m━━━━━━━━━━━━━━━━━━━━━━━━━━━━━━━━━━━━━━━━\u001b[0m \u001b[32m302.8/302.8 kB\u001b[0m \u001b[31m32.3 MB/s\u001b[0m eta \u001b[36m0:00:00\u001b[0m\n",
            "\u001b[2K     \u001b[90m━━━━━━━━━━━━━━━━━━━━━━━━━━━━━━━━━━━━━━━━\u001b[0m \u001b[32m116.7/116.7 kB\u001b[0m \u001b[31m15.4 MB/s\u001b[0m eta \u001b[36m0:00:00\u001b[0m\n",
            "\u001b[2K     \u001b[90m━━━━━━━━━━━━━━━━━━━━━━━━━━━━━━━━━━━━━━━━\u001b[0m \u001b[32m312.9/312.9 kB\u001b[0m \u001b[31m26.2 MB/s\u001b[0m eta \u001b[36m0:00:00\u001b[0m\n",
            "\u001b[2K     \u001b[90m━━━━━━━━━━━━━━━━━━━━━━━━━━━━━━━━━━━━━━━━\u001b[0m \u001b[32m1.8/1.8 MB\u001b[0m \u001b[31m69.9 MB/s\u001b[0m eta \u001b[36m0:00:00\u001b[0m\n",
            "\u001b[2K     \u001b[90m━━━━━━━━━━━━━━━━━━━━━━━━━━━━━━━━━━━━━━━━\u001b[0m \u001b[32m49.3/49.3 kB\u001b[0m \u001b[31m6.0 MB/s\u001b[0m eta \u001b[36m0:00:00\u001b[0m\n",
            "\u001b[2K     \u001b[90m━━━━━━━━━━━━━━━━━━━━━━━━━━━━━━━━━━━━━━━━\u001b[0m \u001b[32m53.0/53.0 kB\u001b[0m \u001b[31m7.5 MB/s\u001b[0m eta \u001b[36m0:00:00\u001b[0m\n",
            "\u001b[2K     \u001b[90m━━━━━━━━━━━━━━━━━━━━━━━━━━━━━━━━━━━━━━━━\u001b[0m \u001b[32m142.5/142.5 kB\u001b[0m \u001b[31m18.0 MB/s\u001b[0m eta \u001b[36m0:00:00\u001b[0m\n",
            "\u001b[2K     \u001b[90m━━━━━━━━━━━━━━━━━━━━━━━━━━━━━━━━━━━━━━━━\u001b[0m \u001b[32m75.6/75.6 kB\u001b[0m \u001b[31m10.9 MB/s\u001b[0m eta \u001b[36m0:00:00\u001b[0m\n",
            "\u001b[2K     \u001b[90m━━━━━━━━━━━━━━━━━━━━━━━━━━━━━━━━━━━━━━━━\u001b[0m \u001b[32m77.9/77.9 kB\u001b[0m \u001b[31m12.1 MB/s\u001b[0m eta \u001b[36m0:00:00\u001b[0m\n",
            "\u001b[2K     \u001b[90m━━━━━━━━━━━━━━━━━━━━━━━━━━━━━━━━━━━━━━━━\u001b[0m \u001b[32m58.3/58.3 kB\u001b[0m \u001b[31m9.0 MB/s\u001b[0m eta \u001b[36m0:00:00\u001b[0m\n",
            "\u001b[?25h\u001b[31mERROR: pip's dependency resolver does not currently take into account all the packages that are installed. This behaviour is the source of the following dependency conflicts.\n",
            "google-colab 1.0.0 requires pandas==2.0.3, but you have pandas 2.2.2 which is incompatible.\u001b[0m\u001b[31m\n",
            "\u001b[0m"
          ]
        }
      ],
      "source": [
        "%pip install -qU langchain langchain-openai langchain-community langchain-experimental pandas"
      ]
    },
    {
      "cell_type": "code",
      "source": [
        "from google.colab import userdata\n",
        "openai_api_key = userdata.get('OpenAI_Key') #use the name of your colab key"
      ],
      "metadata": {
        "id": "y3urI6ZIOqCf"
      },
      "execution_count": 2,
      "outputs": []
    },
    {
      "cell_type": "code",
      "source": [
        "import pandas as pd"
      ],
      "metadata": {
        "id": "d2FncfW4ah78"
      },
      "execution_count": 3,
      "outputs": []
    },
    {
      "cell_type": "code",
      "source": [
        "from google.colab import drive\n",
        "drive.mount('/content/drive/')"
      ],
      "metadata": {
        "colab": {
          "base_uri": "https://localhost:8080/"
        },
        "id": "RHzF72Mbaktp",
        "outputId": "b50cea30-368b-46c9-a730-f6fb0c71236b"
      },
      "execution_count": null,
      "outputs": [
        {
          "output_type": "stream",
          "name": "stdout",
          "text": [
            "Drive already mounted at /content/drive/; to attempt to forcibly remount, call drive.mount(\"/content/drive/\", force_remount=True).\n"
          ]
        }
      ]
    },
    {
      "cell_type": "code",
      "source": [
        "import os\n",
        "os.chdir(\"/content/drive/My Drive/Speciale\")"
      ],
      "metadata": {
        "id": "GApOVguMal-O"
      },
      "execution_count": null,
      "outputs": []
    },
    {
      "cell_type": "markdown",
      "source": [
        "# load data"
      ],
      "metadata": {
        "id": "DcclwSqP3y7f"
      }
    },
    {
      "cell_type": "code",
      "source": [
        "shap = pd.read_csv(\"shap_noincome.csv\")\n",
        "data = pd.read_csv(\"basedata.csv\")"
      ],
      "metadata": {
        "id": "ENMu9GOAO4c2"
      },
      "execution_count": 4,
      "outputs": []
    },
    {
      "cell_type": "code",
      "source": [
        "from langchain_openai import ChatOpenAI\n",
        "\n",
        "llm = ChatOpenAI(model=\"gpt-4-turbo\", temperature=0, openai_api_key=openai_api_key)"
      ],
      "metadata": {
        "id": "_unAK9uuPT1U"
      },
      "execution_count": 5,
      "outputs": []
    },
    {
      "cell_type": "code",
      "source": [
        "from langchain_experimental.tools import PythonAstREPLTool"
      ],
      "metadata": {
        "id": "XYFK3Ux7Pz-_"
      },
      "execution_count": 6,
      "outputs": []
    },
    {
      "cell_type": "code",
      "source": [
        "tools = [PythonAstREPLTool(locals={\"data\": data, \"shap\": shap})]"
      ],
      "metadata": {
        "id": "fq-Xbo28Qm9X"
      },
      "execution_count": 7,
      "outputs": []
    },
    {
      "cell_type": "code",
      "source": [
        "llm_with_tools = llm.bind_tools(tools)"
      ],
      "metadata": {
        "id": "EB_HkbpIQeTL"
      },
      "execution_count": 8,
      "outputs": []
    },
    {
      "cell_type": "code",
      "source": [
        "from langchain.output_parsers import JsonOutputToolsParser"
      ],
      "metadata": {
        "id": "sQWutQRMQmn8"
      },
      "execution_count": 9,
      "outputs": []
    },
    {
      "cell_type": "code",
      "source": [
        "parser = JsonOutputToolsParser(tool = tools)"
      ],
      "metadata": {
        "id": "dKUA_eLTRJUd"
      },
      "execution_count": 10,
      "outputs": []
    },
    {
      "cell_type": "code",
      "source": [
        "shap.head(10)"
      ],
      "metadata": {
        "id": "RKllwi-KVWzs",
        "outputId": "2bcf12ed-f7c8-4f9b-f0c9-3bf054a723bb",
        "colab": {
          "base_uri": "https://localhost:8080/",
          "height": 447
        }
      },
      "execution_count": 11,
      "outputs": [
        {
          "output_type": "execute_result",
          "data": {
            "text/plain": [
              "        age    fnlwgt  education-num  capital-gain  capital-loss  \\\n",
              "0 -0.022101  0.000766       0.084074     -0.021656     -0.005933   \n",
              "1  0.011602  0.000294      -0.021314     -0.017538     -0.004477   \n",
              "2  0.017450  0.001558      -0.024280     -0.021520     -0.006243   \n",
              "3  0.014643 -0.000331      -0.026345     -0.020824     -0.005290   \n",
              "4 -0.029555 -0.000225      -0.016020     -0.016305     -0.003038   \n",
              "5 -0.003490 -0.000316      -0.019392     -0.019479     -0.003930   \n",
              "6  0.021889 -0.001353      -0.034703     -0.022791     -0.006854   \n",
              "7 -0.019340 -0.002388      -0.043083     -0.020792     -0.004932   \n",
              "8 -0.036345 -0.000201      -0.021626     -0.017284     -0.003313   \n",
              "9  0.017704 -0.001766       0.088942     -0.021998     -0.004438   \n",
              "\n",
              "   hours-per-week  workclass_Federal-gov  workclass_Local-gov  \\\n",
              "0       -0.034953              -0.000363             0.000054   \n",
              "1       -0.018154              -0.000267            -0.000331   \n",
              "2        0.028643              -0.000503            -0.000111   \n",
              "3       -0.021047              -0.000329             0.000124   \n",
              "4       -0.006810              -0.000265            -0.000109   \n",
              "5       -0.014779              -0.000383             0.000249   \n",
              "6        0.027253              -0.000554            -0.000064   \n",
              "7       -0.008727              -0.000566             0.006629   \n",
              "8       -0.017419              -0.000230            -0.000058   \n",
              "9        0.020494              -0.000243             0.000971   \n",
              "\n",
              "   workclass_Private  workclass_Self-emp-inc  ...  native-country_Puerto-Rico  \\\n",
              "0           0.000798               -0.001531  ...                   -0.000001   \n",
              "1           0.003377               -0.001128  ...                   -0.000012   \n",
              "2           0.004324               -0.001740  ...                   -0.000003   \n",
              "3           0.007070               -0.001260  ...                   -0.000014   \n",
              "4          -0.001264               -0.000696  ...                   -0.000004   \n",
              "5           0.006716               -0.001128  ...                   -0.000004   \n",
              "6          -0.002040               -0.001171  ...                    0.000003   \n",
              "7           0.005920               -0.001531  ...                    0.000002   \n",
              "8          -0.001855               -0.000741  ...                   -0.000019   \n",
              "9          -0.002478               -0.000942  ...                   -0.000004   \n",
              "\n",
              "   native-country_Scotland  native-country_South  native-country_Taiwan  \\\n",
              "0                      0.0                   0.0                    0.0   \n",
              "1                      0.0                   0.0                    0.0   \n",
              "2                      0.0                   0.0                    0.0   \n",
              "3                      0.0                   0.0                    0.0   \n",
              "4                      0.0                   0.0                    0.0   \n",
              "5                      0.0                   0.0                    0.0   \n",
              "6                      0.0                   0.0                    0.0   \n",
              "7                      0.0                   0.0                    0.0   \n",
              "8                      0.0                   0.0                    0.0   \n",
              "9                      0.0                   0.0                    0.0   \n",
              "\n",
              "   native-country_Thailand  native-country_Trinadad&Tobago  \\\n",
              "0                      0.0                             0.0   \n",
              "1                      0.0                             0.0   \n",
              "2                      0.0                             0.0   \n",
              "3                      0.0                             0.0   \n",
              "4                      0.0                             0.0   \n",
              "5                      0.0                             0.0   \n",
              "6                      0.0                             0.0   \n",
              "7                      0.0                             0.0   \n",
              "8                      0.0                             0.0   \n",
              "9                      0.0                             0.0   \n",
              "\n",
              "   native-country_United-States  native-country_Vietnam  \\\n",
              "0                     -0.011629                     0.0   \n",
              "1                      0.000266                     0.0   \n",
              "2                      0.000442                     0.0   \n",
              "3                      0.000280                     0.0   \n",
              "4                     -0.001435                     0.0   \n",
              "5                      0.000181                     0.0   \n",
              "6                      0.000618                     0.0   \n",
              "7                      0.000448                     0.0   \n",
              "8                      0.000240                     0.0   \n",
              "9                      0.000452                     0.0   \n",
              "\n",
              "   native-country_Yugoslavia  native-country_nan  \n",
              "0                        0.0                 0.0  \n",
              "1                        0.0                 0.0  \n",
              "2                        0.0                 0.0  \n",
              "3                        0.0                 0.0  \n",
              "4                        0.0                 0.0  \n",
              "5                        0.0                 0.0  \n",
              "6                        0.0                 0.0  \n",
              "7                        0.0                 0.0  \n",
              "8                        0.0                 0.0  \n",
              "9                        0.0                 0.0  \n",
              "\n",
              "[10 rows x 112 columns]"
            ],
            "text/html": [
              "\n",
              "  <div id=\"df-8d5c38b4-b7ba-4c7e-98ce-14493026b1e7\" class=\"colab-df-container\">\n",
              "    <div>\n",
              "<style scoped>\n",
              "    .dataframe tbody tr th:only-of-type {\n",
              "        vertical-align: middle;\n",
              "    }\n",
              "\n",
              "    .dataframe tbody tr th {\n",
              "        vertical-align: top;\n",
              "    }\n",
              "\n",
              "    .dataframe thead th {\n",
              "        text-align: right;\n",
              "    }\n",
              "</style>\n",
              "<table border=\"1\" class=\"dataframe\">\n",
              "  <thead>\n",
              "    <tr style=\"text-align: right;\">\n",
              "      <th></th>\n",
              "      <th>age</th>\n",
              "      <th>fnlwgt</th>\n",
              "      <th>education-num</th>\n",
              "      <th>capital-gain</th>\n",
              "      <th>capital-loss</th>\n",
              "      <th>hours-per-week</th>\n",
              "      <th>workclass_Federal-gov</th>\n",
              "      <th>workclass_Local-gov</th>\n",
              "      <th>workclass_Private</th>\n",
              "      <th>workclass_Self-emp-inc</th>\n",
              "      <th>...</th>\n",
              "      <th>native-country_Puerto-Rico</th>\n",
              "      <th>native-country_Scotland</th>\n",
              "      <th>native-country_South</th>\n",
              "      <th>native-country_Taiwan</th>\n",
              "      <th>native-country_Thailand</th>\n",
              "      <th>native-country_Trinadad&amp;Tobago</th>\n",
              "      <th>native-country_United-States</th>\n",
              "      <th>native-country_Vietnam</th>\n",
              "      <th>native-country_Yugoslavia</th>\n",
              "      <th>native-country_nan</th>\n",
              "    </tr>\n",
              "  </thead>\n",
              "  <tbody>\n",
              "    <tr>\n",
              "      <th>0</th>\n",
              "      <td>-0.022101</td>\n",
              "      <td>0.000766</td>\n",
              "      <td>0.084074</td>\n",
              "      <td>-0.021656</td>\n",
              "      <td>-0.005933</td>\n",
              "      <td>-0.034953</td>\n",
              "      <td>-0.000363</td>\n",
              "      <td>0.000054</td>\n",
              "      <td>0.000798</td>\n",
              "      <td>-0.001531</td>\n",
              "      <td>...</td>\n",
              "      <td>-0.000001</td>\n",
              "      <td>0.0</td>\n",
              "      <td>0.0</td>\n",
              "      <td>0.0</td>\n",
              "      <td>0.0</td>\n",
              "      <td>0.0</td>\n",
              "      <td>-0.011629</td>\n",
              "      <td>0.0</td>\n",
              "      <td>0.0</td>\n",
              "      <td>0.0</td>\n",
              "    </tr>\n",
              "    <tr>\n",
              "      <th>1</th>\n",
              "      <td>0.011602</td>\n",
              "      <td>0.000294</td>\n",
              "      <td>-0.021314</td>\n",
              "      <td>-0.017538</td>\n",
              "      <td>-0.004477</td>\n",
              "      <td>-0.018154</td>\n",
              "      <td>-0.000267</td>\n",
              "      <td>-0.000331</td>\n",
              "      <td>0.003377</td>\n",
              "      <td>-0.001128</td>\n",
              "      <td>...</td>\n",
              "      <td>-0.000012</td>\n",
              "      <td>0.0</td>\n",
              "      <td>0.0</td>\n",
              "      <td>0.0</td>\n",
              "      <td>0.0</td>\n",
              "      <td>0.0</td>\n",
              "      <td>0.000266</td>\n",
              "      <td>0.0</td>\n",
              "      <td>0.0</td>\n",
              "      <td>0.0</td>\n",
              "    </tr>\n",
              "    <tr>\n",
              "      <th>2</th>\n",
              "      <td>0.017450</td>\n",
              "      <td>0.001558</td>\n",
              "      <td>-0.024280</td>\n",
              "      <td>-0.021520</td>\n",
              "      <td>-0.006243</td>\n",
              "      <td>0.028643</td>\n",
              "      <td>-0.000503</td>\n",
              "      <td>-0.000111</td>\n",
              "      <td>0.004324</td>\n",
              "      <td>-0.001740</td>\n",
              "      <td>...</td>\n",
              "      <td>-0.000003</td>\n",
              "      <td>0.0</td>\n",
              "      <td>0.0</td>\n",
              "      <td>0.0</td>\n",
              "      <td>0.0</td>\n",
              "      <td>0.0</td>\n",
              "      <td>0.000442</td>\n",
              "      <td>0.0</td>\n",
              "      <td>0.0</td>\n",
              "      <td>0.0</td>\n",
              "    </tr>\n",
              "    <tr>\n",
              "      <th>3</th>\n",
              "      <td>0.014643</td>\n",
              "      <td>-0.000331</td>\n",
              "      <td>-0.026345</td>\n",
              "      <td>-0.020824</td>\n",
              "      <td>-0.005290</td>\n",
              "      <td>-0.021047</td>\n",
              "      <td>-0.000329</td>\n",
              "      <td>0.000124</td>\n",
              "      <td>0.007070</td>\n",
              "      <td>-0.001260</td>\n",
              "      <td>...</td>\n",
              "      <td>-0.000014</td>\n",
              "      <td>0.0</td>\n",
              "      <td>0.0</td>\n",
              "      <td>0.0</td>\n",
              "      <td>0.0</td>\n",
              "      <td>0.0</td>\n",
              "      <td>0.000280</td>\n",
              "      <td>0.0</td>\n",
              "      <td>0.0</td>\n",
              "      <td>0.0</td>\n",
              "    </tr>\n",
              "    <tr>\n",
              "      <th>4</th>\n",
              "      <td>-0.029555</td>\n",
              "      <td>-0.000225</td>\n",
              "      <td>-0.016020</td>\n",
              "      <td>-0.016305</td>\n",
              "      <td>-0.003038</td>\n",
              "      <td>-0.006810</td>\n",
              "      <td>-0.000265</td>\n",
              "      <td>-0.000109</td>\n",
              "      <td>-0.001264</td>\n",
              "      <td>-0.000696</td>\n",
              "      <td>...</td>\n",
              "      <td>-0.000004</td>\n",
              "      <td>0.0</td>\n",
              "      <td>0.0</td>\n",
              "      <td>0.0</td>\n",
              "      <td>0.0</td>\n",
              "      <td>0.0</td>\n",
              "      <td>-0.001435</td>\n",
              "      <td>0.0</td>\n",
              "      <td>0.0</td>\n",
              "      <td>0.0</td>\n",
              "    </tr>\n",
              "    <tr>\n",
              "      <th>5</th>\n",
              "      <td>-0.003490</td>\n",
              "      <td>-0.000316</td>\n",
              "      <td>-0.019392</td>\n",
              "      <td>-0.019479</td>\n",
              "      <td>-0.003930</td>\n",
              "      <td>-0.014779</td>\n",
              "      <td>-0.000383</td>\n",
              "      <td>0.000249</td>\n",
              "      <td>0.006716</td>\n",
              "      <td>-0.001128</td>\n",
              "      <td>...</td>\n",
              "      <td>-0.000004</td>\n",
              "      <td>0.0</td>\n",
              "      <td>0.0</td>\n",
              "      <td>0.0</td>\n",
              "      <td>0.0</td>\n",
              "      <td>0.0</td>\n",
              "      <td>0.000181</td>\n",
              "      <td>0.0</td>\n",
              "      <td>0.0</td>\n",
              "      <td>0.0</td>\n",
              "    </tr>\n",
              "    <tr>\n",
              "      <th>6</th>\n",
              "      <td>0.021889</td>\n",
              "      <td>-0.001353</td>\n",
              "      <td>-0.034703</td>\n",
              "      <td>-0.022791</td>\n",
              "      <td>-0.006854</td>\n",
              "      <td>0.027253</td>\n",
              "      <td>-0.000554</td>\n",
              "      <td>-0.000064</td>\n",
              "      <td>-0.002040</td>\n",
              "      <td>-0.001171</td>\n",
              "      <td>...</td>\n",
              "      <td>0.000003</td>\n",
              "      <td>0.0</td>\n",
              "      <td>0.0</td>\n",
              "      <td>0.0</td>\n",
              "      <td>0.0</td>\n",
              "      <td>0.0</td>\n",
              "      <td>0.000618</td>\n",
              "      <td>0.0</td>\n",
              "      <td>0.0</td>\n",
              "      <td>0.0</td>\n",
              "    </tr>\n",
              "    <tr>\n",
              "      <th>7</th>\n",
              "      <td>-0.019340</td>\n",
              "      <td>-0.002388</td>\n",
              "      <td>-0.043083</td>\n",
              "      <td>-0.020792</td>\n",
              "      <td>-0.004932</td>\n",
              "      <td>-0.008727</td>\n",
              "      <td>-0.000566</td>\n",
              "      <td>0.006629</td>\n",
              "      <td>0.005920</td>\n",
              "      <td>-0.001531</td>\n",
              "      <td>...</td>\n",
              "      <td>0.000002</td>\n",
              "      <td>0.0</td>\n",
              "      <td>0.0</td>\n",
              "      <td>0.0</td>\n",
              "      <td>0.0</td>\n",
              "      <td>0.0</td>\n",
              "      <td>0.000448</td>\n",
              "      <td>0.0</td>\n",
              "      <td>0.0</td>\n",
              "      <td>0.0</td>\n",
              "    </tr>\n",
              "    <tr>\n",
              "      <th>8</th>\n",
              "      <td>-0.036345</td>\n",
              "      <td>-0.000201</td>\n",
              "      <td>-0.021626</td>\n",
              "      <td>-0.017284</td>\n",
              "      <td>-0.003313</td>\n",
              "      <td>-0.017419</td>\n",
              "      <td>-0.000230</td>\n",
              "      <td>-0.000058</td>\n",
              "      <td>-0.001855</td>\n",
              "      <td>-0.000741</td>\n",
              "      <td>...</td>\n",
              "      <td>-0.000019</td>\n",
              "      <td>0.0</td>\n",
              "      <td>0.0</td>\n",
              "      <td>0.0</td>\n",
              "      <td>0.0</td>\n",
              "      <td>0.0</td>\n",
              "      <td>0.000240</td>\n",
              "      <td>0.0</td>\n",
              "      <td>0.0</td>\n",
              "      <td>0.0</td>\n",
              "    </tr>\n",
              "    <tr>\n",
              "      <th>9</th>\n",
              "      <td>0.017704</td>\n",
              "      <td>-0.001766</td>\n",
              "      <td>0.088942</td>\n",
              "      <td>-0.021998</td>\n",
              "      <td>-0.004438</td>\n",
              "      <td>0.020494</td>\n",
              "      <td>-0.000243</td>\n",
              "      <td>0.000971</td>\n",
              "      <td>-0.002478</td>\n",
              "      <td>-0.000942</td>\n",
              "      <td>...</td>\n",
              "      <td>-0.000004</td>\n",
              "      <td>0.0</td>\n",
              "      <td>0.0</td>\n",
              "      <td>0.0</td>\n",
              "      <td>0.0</td>\n",
              "      <td>0.0</td>\n",
              "      <td>0.000452</td>\n",
              "      <td>0.0</td>\n",
              "      <td>0.0</td>\n",
              "      <td>0.0</td>\n",
              "    </tr>\n",
              "  </tbody>\n",
              "</table>\n",
              "<p>10 rows × 112 columns</p>\n",
              "</div>\n",
              "    <div class=\"colab-df-buttons\">\n",
              "\n",
              "  <div class=\"colab-df-container\">\n",
              "    <button class=\"colab-df-convert\" onclick=\"convertToInteractive('df-8d5c38b4-b7ba-4c7e-98ce-14493026b1e7')\"\n",
              "            title=\"Convert this dataframe to an interactive table.\"\n",
              "            style=\"display:none;\">\n",
              "\n",
              "  <svg xmlns=\"http://www.w3.org/2000/svg\" height=\"24px\" viewBox=\"0 -960 960 960\">\n",
              "    <path d=\"M120-120v-720h720v720H120Zm60-500h600v-160H180v160Zm220 220h160v-160H400v160Zm0 220h160v-160H400v160ZM180-400h160v-160H180v160Zm440 0h160v-160H620v160ZM180-180h160v-160H180v160Zm440 0h160v-160H620v160Z\"/>\n",
              "  </svg>\n",
              "    </button>\n",
              "\n",
              "  <style>\n",
              "    .colab-df-container {\n",
              "      display:flex;\n",
              "      gap: 12px;\n",
              "    }\n",
              "\n",
              "    .colab-df-convert {\n",
              "      background-color: #E8F0FE;\n",
              "      border: none;\n",
              "      border-radius: 50%;\n",
              "      cursor: pointer;\n",
              "      display: none;\n",
              "      fill: #1967D2;\n",
              "      height: 32px;\n",
              "      padding: 0 0 0 0;\n",
              "      width: 32px;\n",
              "    }\n",
              "\n",
              "    .colab-df-convert:hover {\n",
              "      background-color: #E2EBFA;\n",
              "      box-shadow: 0px 1px 2px rgba(60, 64, 67, 0.3), 0px 1px 3px 1px rgba(60, 64, 67, 0.15);\n",
              "      fill: #174EA6;\n",
              "    }\n",
              "\n",
              "    .colab-df-buttons div {\n",
              "      margin-bottom: 4px;\n",
              "    }\n",
              "\n",
              "    [theme=dark] .colab-df-convert {\n",
              "      background-color: #3B4455;\n",
              "      fill: #D2E3FC;\n",
              "    }\n",
              "\n",
              "    [theme=dark] .colab-df-convert:hover {\n",
              "      background-color: #434B5C;\n",
              "      box-shadow: 0px 1px 3px 1px rgba(0, 0, 0, 0.15);\n",
              "      filter: drop-shadow(0px 1px 2px rgba(0, 0, 0, 0.3));\n",
              "      fill: #FFFFFF;\n",
              "    }\n",
              "  </style>\n",
              "\n",
              "    <script>\n",
              "      const buttonEl =\n",
              "        document.querySelector('#df-8d5c38b4-b7ba-4c7e-98ce-14493026b1e7 button.colab-df-convert');\n",
              "      buttonEl.style.display =\n",
              "        google.colab.kernel.accessAllowed ? 'block' : 'none';\n",
              "\n",
              "      async function convertToInteractive(key) {\n",
              "        const element = document.querySelector('#df-8d5c38b4-b7ba-4c7e-98ce-14493026b1e7');\n",
              "        const dataTable =\n",
              "          await google.colab.kernel.invokeFunction('convertToInteractive',\n",
              "                                                    [key], {});\n",
              "        if (!dataTable) return;\n",
              "\n",
              "        const docLinkHtml = 'Like what you see? Visit the ' +\n",
              "          '<a target=\"_blank\" href=https://colab.research.google.com/notebooks/data_table.ipynb>data table notebook</a>'\n",
              "          + ' to learn more about interactive tables.';\n",
              "        element.innerHTML = '';\n",
              "        dataTable['output_type'] = 'display_data';\n",
              "        await google.colab.output.renderOutput(dataTable, element);\n",
              "        const docLink = document.createElement('div');\n",
              "        docLink.innerHTML = docLinkHtml;\n",
              "        element.appendChild(docLink);\n",
              "      }\n",
              "    </script>\n",
              "  </div>\n",
              "\n",
              "\n",
              "<div id=\"df-c5086cae-5a76-47c1-85a9-7c4a60d87325\">\n",
              "  <button class=\"colab-df-quickchart\" onclick=\"quickchart('df-c5086cae-5a76-47c1-85a9-7c4a60d87325')\"\n",
              "            title=\"Suggest charts\"\n",
              "            style=\"display:none;\">\n",
              "\n",
              "<svg xmlns=\"http://www.w3.org/2000/svg\" height=\"24px\"viewBox=\"0 0 24 24\"\n",
              "     width=\"24px\">\n",
              "    <g>\n",
              "        <path d=\"M19 3H5c-1.1 0-2 .9-2 2v14c0 1.1.9 2 2 2h14c1.1 0 2-.9 2-2V5c0-1.1-.9-2-2-2zM9 17H7v-7h2v7zm4 0h-2V7h2v10zm4 0h-2v-4h2v4z\"/>\n",
              "    </g>\n",
              "</svg>\n",
              "  </button>\n",
              "\n",
              "<style>\n",
              "  .colab-df-quickchart {\n",
              "      --bg-color: #E8F0FE;\n",
              "      --fill-color: #1967D2;\n",
              "      --hover-bg-color: #E2EBFA;\n",
              "      --hover-fill-color: #174EA6;\n",
              "      --disabled-fill-color: #AAA;\n",
              "      --disabled-bg-color: #DDD;\n",
              "  }\n",
              "\n",
              "  [theme=dark] .colab-df-quickchart {\n",
              "      --bg-color: #3B4455;\n",
              "      --fill-color: #D2E3FC;\n",
              "      --hover-bg-color: #434B5C;\n",
              "      --hover-fill-color: #FFFFFF;\n",
              "      --disabled-bg-color: #3B4455;\n",
              "      --disabled-fill-color: #666;\n",
              "  }\n",
              "\n",
              "  .colab-df-quickchart {\n",
              "    background-color: var(--bg-color);\n",
              "    border: none;\n",
              "    border-radius: 50%;\n",
              "    cursor: pointer;\n",
              "    display: none;\n",
              "    fill: var(--fill-color);\n",
              "    height: 32px;\n",
              "    padding: 0;\n",
              "    width: 32px;\n",
              "  }\n",
              "\n",
              "  .colab-df-quickchart:hover {\n",
              "    background-color: var(--hover-bg-color);\n",
              "    box-shadow: 0 1px 2px rgba(60, 64, 67, 0.3), 0 1px 3px 1px rgba(60, 64, 67, 0.15);\n",
              "    fill: var(--button-hover-fill-color);\n",
              "  }\n",
              "\n",
              "  .colab-df-quickchart-complete:disabled,\n",
              "  .colab-df-quickchart-complete:disabled:hover {\n",
              "    background-color: var(--disabled-bg-color);\n",
              "    fill: var(--disabled-fill-color);\n",
              "    box-shadow: none;\n",
              "  }\n",
              "\n",
              "  .colab-df-spinner {\n",
              "    border: 2px solid var(--fill-color);\n",
              "    border-color: transparent;\n",
              "    border-bottom-color: var(--fill-color);\n",
              "    animation:\n",
              "      spin 1s steps(1) infinite;\n",
              "  }\n",
              "\n",
              "  @keyframes spin {\n",
              "    0% {\n",
              "      border-color: transparent;\n",
              "      border-bottom-color: var(--fill-color);\n",
              "      border-left-color: var(--fill-color);\n",
              "    }\n",
              "    20% {\n",
              "      border-color: transparent;\n",
              "      border-left-color: var(--fill-color);\n",
              "      border-top-color: var(--fill-color);\n",
              "    }\n",
              "    30% {\n",
              "      border-color: transparent;\n",
              "      border-left-color: var(--fill-color);\n",
              "      border-top-color: var(--fill-color);\n",
              "      border-right-color: var(--fill-color);\n",
              "    }\n",
              "    40% {\n",
              "      border-color: transparent;\n",
              "      border-right-color: var(--fill-color);\n",
              "      border-top-color: var(--fill-color);\n",
              "    }\n",
              "    60% {\n",
              "      border-color: transparent;\n",
              "      border-right-color: var(--fill-color);\n",
              "    }\n",
              "    80% {\n",
              "      border-color: transparent;\n",
              "      border-right-color: var(--fill-color);\n",
              "      border-bottom-color: var(--fill-color);\n",
              "    }\n",
              "    90% {\n",
              "      border-color: transparent;\n",
              "      border-bottom-color: var(--fill-color);\n",
              "    }\n",
              "  }\n",
              "</style>\n",
              "\n",
              "  <script>\n",
              "    async function quickchart(key) {\n",
              "      const quickchartButtonEl =\n",
              "        document.querySelector('#' + key + ' button');\n",
              "      quickchartButtonEl.disabled = true;  // To prevent multiple clicks.\n",
              "      quickchartButtonEl.classList.add('colab-df-spinner');\n",
              "      try {\n",
              "        const charts = await google.colab.kernel.invokeFunction(\n",
              "            'suggestCharts', [key], {});\n",
              "      } catch (error) {\n",
              "        console.error('Error during call to suggestCharts:', error);\n",
              "      }\n",
              "      quickchartButtonEl.classList.remove('colab-df-spinner');\n",
              "      quickchartButtonEl.classList.add('colab-df-quickchart-complete');\n",
              "    }\n",
              "    (() => {\n",
              "      let quickchartButtonEl =\n",
              "        document.querySelector('#df-c5086cae-5a76-47c1-85a9-7c4a60d87325 button');\n",
              "      quickchartButtonEl.style.display =\n",
              "        google.colab.kernel.accessAllowed ? 'block' : 'none';\n",
              "    })();\n",
              "  </script>\n",
              "</div>\n",
              "    </div>\n",
              "  </div>\n"
            ],
            "application/vnd.google.colaboratory.intrinsic+json": {
              "type": "dataframe",
              "variable_name": "shap"
            }
          },
          "metadata": {},
          "execution_count": 11
        }
      ]
    },
    {
      "cell_type": "markdown",
      "source": [
        "# prompt template"
      ],
      "metadata": {
        "id": "_Rc1Tb5p32EH"
      }
    },
    {
      "cell_type": "code",
      "source": [
        "from langchain_core.prompts import ChatPromptTemplate, MessagesPlaceholder\n",
        "\n",
        "prompt = ChatPromptTemplate.from_messages(\n",
        "    [\n",
        "        (\n",
        "            \"system\",\n",
        "            f\"\"\"You have access to a pandas dataframe `data`. \\\n",
        "            This is the final dataframe that was used to predict Income with, using a Random Forest ML model. \\\n",
        "            The dataset is a publicly available dataset called `adult census`, where prediction task is to determine whether a person makes over $50K a year. \\\n",
        "            Here is the output of `data.head().to_markdown()`:\n",
        "\n",
        "              ```\n",
        "            {data.head().to_markdown()}\n",
        "            ```\n",
        "            You are also given the pandas dateframe `shap`. This dataframe contains shap values for the test set obsevations. \\\n",
        "            The shap obsevation shows which values are important for the final prediction of each local prediction.\n",
        "            ```\n",
        "            {shap.head().to_markdown()}\n",
        "            ```\n",
        "\n",
        "            If asked about the importance/relevance of obsevations or features, use the `shap` dataframe to answer. \\\n",
        "            A high absolute values of the shap dataset means that the value is relevant. \\\n",
        "\n",
        "            Use the `data` dataframe to answer question about what the input values to the obsevation is. \\\n",
        "\n",
        "            Respond directly to the question once you have enough information to answer it. \\\n",
        "            Please add context to your answers, and try to explain the implications of the result.\"\"\",\n",
        "        ),\n",
        "        (\"user\", \"{input}\"),\n",
        "        MessagesPlaceholder(variable_name=\"agent_scratchpad\"),\n",
        "    ]\n",
        ")"
      ],
      "metadata": {
        "id": "wTitdN2KTaPd"
      },
      "execution_count": 12,
      "outputs": []
    },
    {
      "cell_type": "markdown",
      "source": [
        "# agent"
      ],
      "metadata": {
        "id": "S8pTwd1M36Vf"
      }
    },
    {
      "cell_type": "code",
      "source": [
        "from langchain.agents.format_scratchpad.openai_tools import (\n",
        "    format_to_openai_tool_messages,\n",
        ")\n",
        "from langchain.agents.output_parsers.openai_tools import OpenAIToolsAgentOutputParser\n",
        "\n",
        "agent = (\n",
        "    {\n",
        "        \"input\": lambda x: x[\"input\"],\n",
        "        \"agent_scratchpad\": lambda x: format_to_openai_tool_messages(\n",
        "            x[\"intermediate_steps\"]\n",
        "        ),\n",
        "    }\n",
        "    | prompt\n",
        "    | llm_with_tools\n",
        "    | OpenAIToolsAgentOutputParser()\n",
        ")"
      ],
      "metadata": {
        "id": "YbD_WYHgTcrj"
      },
      "execution_count": 13,
      "outputs": []
    },
    {
      "cell_type": "code",
      "source": [
        "from langchain.agents import AgentExecutor\n",
        "\n",
        "agent_executor = AgentExecutor(agent=agent, tools=tools, verbose=True, return_intermediate_steps = False)"
      ],
      "metadata": {
        "id": "BvB5FYX_Te3a"
      },
      "execution_count": 14,
      "outputs": []
    },
    {
      "cell_type": "code",
      "source": [
        "import warnings\n",
        "warnings.filterwarnings('ignore')"
      ],
      "metadata": {
        "id": "wz-TRAikUyOL"
      },
      "execution_count": 15,
      "outputs": []
    },
    {
      "cell_type": "code",
      "source": [
        "test = agent_executor.invoke({\"input\": \"What are the five higest Shap values for obsevation 10, and what does it imply?\"})"
      ],
      "metadata": {
        "id": "Y8kVM2L8WQ0x",
        "outputId": "2a5ae77f-54b0-47bb-a953-21a8a706499e",
        "colab": {
          "base_uri": "https://localhost:8080/"
        }
      },
      "execution_count": 16,
      "outputs": [
        {
          "output_type": "stream",
          "name": "stdout",
          "text": [
            "\n",
            "\n",
            "\u001b[1m> Entering new AgentExecutor chain...\u001b[0m\n",
            "\u001b[32;1m\u001b[1;3m\n",
            "Invoking: `python_repl_ast` with `{'query': 'shap.iloc[10].nlargest(5)'}`\n",
            "\n",
            "\n",
            "\u001b[0m\u001b[36;1m\u001b[1;3meducation-num                   0.052396\n",
            "occupation_Exec-managerial      0.041552\n",
            "marital-status_Never-married    0.031351\n",
            "education_Bachelors             0.020849\n",
            "sex_Male                        0.012968\n",
            "Name: 10, dtype: float64\u001b[0m\u001b[32;1m\u001b[1;3m\n",
            "Invoking: `python_repl_ast` with `{'query': 'data.iloc[10]'}`\n",
            "\n",
            "\n",
            "\u001b[0m\u001b[36;1m\u001b[1;3mage                                  35\n",
            "fnlwgt                           191480\n",
            "education-num                        13\n",
            "capital-gain                          0\n",
            "capital-loss                          0\n",
            "                                 ...   \n",
            "native-country_Yugoslavia         False\n",
            "native-country_nan                False\n",
            "Actual Class                        0.0\n",
            "Prediction                          0.0\n",
            "Predicted Class Probability    0.758934\n",
            "Name: 10, Length: 115, dtype: object\u001b[0m\u001b[32;1m\u001b[1;3mFor observation 10, the five highest SHAP values are associated with the following features:\n",
            "\n",
            "1. `education-num` (0.052396)\n",
            "2. `occupation_Exec-managerial` (0.041552)\n",
            "3. `marital-status_Never-married` (0.031351)\n",
            "4. `education_Bachelors` (0.020849)\n",
            "5. `sex_Male` (0.012968)\n",
            "\n",
            "These SHAP values imply the following about the prediction for this observation:\n",
            "\n",
            "- **Education Number (`education-num`)**: This feature has the highest positive impact on the model's output. The individual has a high education number (13, which typically corresponds to a Bachelor's degree), suggesting that higher educational attainment is positively influencing the income prediction.\n",
            "  \n",
            "- **Occupation (`occupation_Exec-managerial`)**: Being an executive or managerial role significantly increases the likelihood of having a higher income according to the model. This aligns with the general understanding that managerial positions are often associated with higher pay.\n",
            "\n",
            "- **Marital Status (`marital-status_Never-married`)**: This feature also has a positive impact, indicating that being never married is associated with a higher income prediction in this case. This could be due to various socio-economic factors considered by the model.\n",
            "\n",
            "- **Education Level (`education_Bachelors`)**: This confirms the importance of having a Bachelor's degree specifically, which is a detailed aspect of the broader `education-num` feature.\n",
            "\n",
            "- **Sex (`sex_Male`)**: Being male has a positive impact on the income prediction for this individual, suggesting that the model finds gender to be a factor in income levels, possibly reflecting existing wage disparities in the dataset.\n",
            "\n",
            "Overall, these factors combined suggest that the model predicts a higher income for individuals who are highly educated, in executive roles, never married, male, and holding a Bachelor's degree. The actual prediction for this observation is 0 (income below $50K), with a predicted class probability of approximately 0.759, indicating a strong confidence in the prediction despite the positive influences noted.\u001b[0m\n",
            "\n",
            "\u001b[1m> Finished chain.\u001b[0m\n"
          ]
        }
      ]
    },
    {
      "cell_type": "code",
      "source": [
        "def call_agent(user_question):\n",
        "    answer = agent_executor.invoke({\"input\": user_question})\n",
        "    return answer['output']"
      ],
      "metadata": {
        "id": "NFTfvQ3BXEYY"
      },
      "execution_count": 17,
      "outputs": []
    },
    {
      "cell_type": "markdown",
      "source": [
        "# gradio"
      ],
      "metadata": {
        "id": "GttIOINf3-A-"
      }
    },
    {
      "cell_type": "code",
      "source": [
        "pip install gradio"
      ],
      "metadata": {
        "id": "14WVQ8sWY5VB"
      },
      "execution_count": null,
      "outputs": []
    },
    {
      "cell_type": "code",
      "source": [
        "import gradio as gr"
      ],
      "metadata": {
        "id": "gsoWHlO3Y52g"
      },
      "execution_count": 19,
      "outputs": []
    },
    {
      "cell_type": "code",
      "source": [
        "demo = gr.Interface(\n",
        "    fn=call_agent,\n",
        "    inputs=[\"text\"],\n",
        "    outputs=[\"text\"]\n",
        ")"
      ],
      "metadata": {
        "id": "OXVF8dy-Y99Z"
      },
      "execution_count": 20,
      "outputs": []
    },
    {
      "cell_type": "code",
      "source": [
        "demo.launch()"
      ],
      "metadata": {
        "id": "JFVU_HaoY_38",
        "outputId": "97770a22-2616-4600-9e5d-69d290584f0d",
        "colab": {
          "base_uri": "https://localhost:8080/",
          "height": 630
        }
      },
      "execution_count": 21,
      "outputs": [
        {
          "output_type": "stream",
          "name": "stdout",
          "text": [
            "Setting queue=True in a Colab notebook requires sharing enabled. Setting `share=True` (you can turn this off by setting `share=False` in `launch()` explicitly).\n",
            "\n",
            "Colab notebook detected. To show errors in colab notebook, set debug=True in launch()\n",
            "Running on public URL: https://c1e0c44983338072a8.gradio.live\n",
            "\n",
            "This share link expires in 72 hours. For free permanent hosting and GPU upgrades, run `gradio deploy` from Terminal to deploy to Spaces (https://huggingface.co/spaces)\n"
          ]
        },
        {
          "output_type": "display_data",
          "data": {
            "text/plain": [
              "<IPython.core.display.HTML object>"
            ],
            "text/html": [
              "<div><iframe src=\"https://c1e0c44983338072a8.gradio.live\" width=\"100%\" height=\"500\" allow=\"autoplay; camera; microphone; clipboard-read; clipboard-write;\" frameborder=\"0\" allowfullscreen></iframe></div>"
            ]
          },
          "metadata": {}
        },
        {
          "output_type": "execute_result",
          "data": {
            "text/plain": []
          },
          "metadata": {},
          "execution_count": 21
        }
      ]
    },
    {
      "cell_type": "code",
      "source": [
        "data.iloc[10]"
      ],
      "metadata": {
        "id": "Cwmz20ZA8NYb",
        "outputId": "83936120-ede9-4e6e-daa3-0a196d233c8c",
        "colab": {
          "base_uri": "https://localhost:8080/"
        }
      },
      "execution_count": 22,
      "outputs": [
        {
          "output_type": "execute_result",
          "data": {
            "text/plain": [
              "age                                  35\n",
              "fnlwgt                           191480\n",
              "education-num                        13\n",
              "capital-gain                          0\n",
              "capital-loss                          0\n",
              "                                 ...   \n",
              "native-country_Yugoslavia         False\n",
              "native-country_nan                False\n",
              "Actual Class                        0.0\n",
              "Prediction                          0.0\n",
              "Predicted Class Probability    0.758934\n",
              "Name: 10, Length: 115, dtype: object"
            ]
          },
          "metadata": {},
          "execution_count": 22
        }
      ]
    },
    {
      "cell_type": "code",
      "source": [
        "shap.iloc[10].nlargest(5)"
      ],
      "metadata": {
        "id": "vsarueHz8Wb7",
        "outputId": "ebe1eb82-a63a-410a-ebd1-c4e97eeb4f29",
        "colab": {
          "base_uri": "https://localhost:8080/"
        }
      },
      "execution_count": 24,
      "outputs": [
        {
          "output_type": "execute_result",
          "data": {
            "text/plain": [
              "education-num                   0.052396\n",
              "occupation_Exec-managerial      0.041552\n",
              "marital-status_Never-married    0.031351\n",
              "education_Bachelors             0.020849\n",
              "sex_Male                        0.012968\n",
              "Name: 10, dtype: float64"
            ]
          },
          "metadata": {},
          "execution_count": 24
        }
      ]
    },
    {
      "cell_type": "markdown",
      "source": [
        "# other"
      ],
      "metadata": {
        "id": "RdKcYcUH8ncy"
      }
    },
    {
      "cell_type": "code",
      "source": [
        "from langchain_experimental.agents.agent_toolkits import create_pandas_dataframe_agent\n",
        "agent = create_pandas_dataframe_agent(llm, [shap, data], verbose=True)\n",
        "agent.invoke(\"how many rows in the age column are different?\")"
      ],
      "metadata": {
        "id": "nQJO8qhDsXwn"
      },
      "execution_count": null,
      "outputs": []
    },
    {
      "cell_type": "code",
      "source": [
        "import pandas as pd\n",
        "\n",
        "\n",
        "# Choose the row you want to find the highest values for\n",
        "row_index = 10  # For example, choose the first row\n",
        "\n",
        "# Get the row as a Series\n",
        "row = shap.iloc[row_index]\n",
        "\n",
        "# Sort the row values in descending order and get the top 5\n",
        "top_5_values = row.sort_values(ascending=False).head(5)\n",
        "\n",
        "print(\"Top 5 highest values in the row:\")\n",
        "print(top_5_values)"
      ],
      "metadata": {
        "id": "myddcqvsWcyH",
        "outputId": "70833348-7703-4cee-b1f2-4986a602615f",
        "colab": {
          "base_uri": "https://localhost:8080/"
        }
      },
      "execution_count": null,
      "outputs": [
        {
          "output_type": "stream",
          "name": "stdout",
          "text": [
            "Top 5 highest values in the row:\n",
            "Row_Number                      10.000000\n",
            "education-num                    0.073776\n",
            "occupation_Exec-managerial       0.059783\n",
            "education_Bachelors              0.050896\n",
            "marital-status_Never-married     0.027138\n",
            "Name: 10, dtype: float64\n"
          ]
        }
      ]
    }
  ]
}